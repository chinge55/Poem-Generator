{
  "nbformat": 4,
  "nbformat_minor": 0,
  "metadata": {
    "colab": {
      "name": "Pretrained_embedding_model.ipynb",
      "provenance": [],
      "collapsed_sections": [],
      "authorship_tag": "ABX9TyPJ7oekL/Gkm5Vqmeu7efmG"
    },
    "kernelspec": {
      "name": "python3",
      "display_name": "Python 3"
    }
  },
  "cells": [
    {
      "cell_type": "code",
      "metadata": {
        "colab": {
          "base_uri": "https://localhost:8080/"
        },
        "id": "-NKtpbW_fsNo",
        "outputId": "846a2c41-9815-4137-9bbf-8b4d05af82c9"
      },
      "source": [
        "from google.colab import drive\r\n",
        "drive.mount('/content/drive')\r\n"
      ],
      "execution_count": 1,
      "outputs": [
        {
          "output_type": "stream",
          "text": [
            "Mounted at /content/drive\n"
          ],
          "name": "stdout"
        }
      ]
    },
    {
      "cell_type": "code",
      "metadata": {
        "id": "bSTYHY-_gfZp"
      },
      "source": [
        "import numpy as np\r\n",
        "import tensorflow as tf\r\n",
        "from tqdm import tqdm"
      ],
      "execution_count": 2,
      "outputs": []
    },
    {
      "cell_type": "code",
      "metadata": {
        "id": "dG7AWz6QgWLG"
      },
      "source": [
        "PATH =  \"/content/drive/MyDrive/word2vec_models/nepali_embeddings_word2vec.txt\"\r\n"
      ],
      "execution_count": 3,
      "outputs": []
    },
    {
      "cell_type": "code",
      "metadata": {
        "id": "kkq2EycRgYoE"
      },
      "source": [
        "from gensim.models import KeyedVectors\r\n"
      ],
      "execution_count": 4,
      "outputs": []
    },
    {
      "cell_type": "code",
      "metadata": {
        "id": "o5pswMMLgawd"
      },
      "source": [
        "model_pretrained = KeyedVectors.load_word2vec_format(PATH, binary=False)\r\n"
      ],
      "execution_count": 5,
      "outputs": []
    },
    {
      "cell_type": "code",
      "metadata": {
        "colab": {
          "base_uri": "https://localhost:8080/"
        },
        "id": "XExLVzAugbcc",
        "outputId": "793ea7ad-6dae-4474-ad56-475e1f27137f"
      },
      "source": [
        "model_pretrained.most_similar_cosmul(positive = ['केटी', 'राजा'], negative = ['केटा'])"
      ],
      "execution_count": 6,
      "outputs": [
        {
          "output_type": "execute_result",
          "data": {
            "text/plain": [
              "[('मुगल', 0.8069719672203064),\n",
              " ('महारानी', 0.7991781234741211),\n",
              " ('राजाहरू', 0.799119770526886),\n",
              " ('राजगद्दी', 0.7980359196662903),\n",
              " ('अधिराजकुमार', 0.7924796938896179),\n",
              " ('राजदरबार', 0.7917264103889465),\n",
              " ('महाराजा', 0.7911354303359985),\n",
              " ('सम्राट्', 0.7840874791145325),\n",
              " ('राजामहाराजा', 0.7802377343177795),\n",
              " ('चन्द्रशम्शेर', 0.7725237607955933)]"
            ]
          },
          "metadata": {
            "tags": []
          },
          "execution_count": 6
        }
      ]
    },
    {
      "cell_type": "code",
      "metadata": {
        "colab": {
          "base_uri": "https://localhost:8080/"
        },
        "id": "fbX4b8ajhfFR",
        "outputId": "90f90d8b-8d8c-4215-e099-808487de41d7"
      },
      "source": [
        "word_vectors = model.wv"
      ],
      "execution_count": 7,
      "outputs": [
        {
          "output_type": "stream",
          "text": [
            "/usr/local/lib/python3.6/dist-packages/ipykernel_launcher.py:1: DeprecationWarning: Call to deprecated `wv` (Attribute will be removed in 4.0.0, use self instead).\n",
            "  \"\"\"Entry point for launching an IPython kernel.\n"
          ],
          "name": "stderr"
        }
      ]
    },
    {
      "cell_type": "code",
      "metadata": {
        "colab": {
          "base_uri": "https://localhost:8080/"
        },
        "id": "c-7HBYcIjvKk",
        "outputId": "03353be5-dfc8-4b1e-887d-914780289cb8"
      },
      "source": [
        "print(\"Number of word vectors:{}\".format(len(word_vectors.vocab)))"
      ],
      "execution_count": 8,
      "outputs": [
        {
          "output_type": "stream",
          "text": [
            "Number of word vectors:515851\n"
          ],
          "name": "stdout"
        }
      ]
    },
    {
      "cell_type": "code",
      "metadata": {
        "id": "lc0TeyAOj6ZK"
      },
      "source": [
        "nb_words = len(word_vectors.vocab)\r\n",
        "WV_DIM = word_vectors.vector_size"
      ],
      "execution_count": 9,
      "outputs": []
    },
    {
      "cell_type": "code",
      "metadata": {
        "colab": {
          "base_uri": "https://localhost:8080/"
        },
        "id": "U3BA3hYIfkCn",
        "outputId": "ba7bbe01-2dd8-4eda-c276-c6647022568d"
      },
      "source": [
        "nb_words, WV_DIM"
      ],
      "execution_count": 10,
      "outputs": [
        {
          "output_type": "execute_result",
          "data": {
            "text/plain": [
              "(515851, 300)"
            ]
          },
          "metadata": {
            "tags": []
          },
          "execution_count": 10
        }
      ]
    },
    {
      "cell_type": "code",
      "metadata": {
        "id": "GN1jOa5GgUxn"
      },
      "source": [
        "wv_matrix = (np.random.rand(nb_words, WV_DIM)-0.5)/5.0"
      ],
      "execution_count": 11,
      "outputs": []
    },
    {
      "cell_type": "markdown",
      "metadata": {
        "id": "qA9cGWUzhuFJ"
      },
      "source": [
        "Now use this word2vec values with all the values in the dataset and use the embeddings of the words present in the dataset and leave all the others as zeros"
      ]
    },
    {
      "cell_type": "code",
      "metadata": {
        "id": "ptK3gHH2gddK"
      },
      "source": [
        "for word, i in word_index.items():\r\n",
        "  if i>= nb_words:\r\n",
        "    continue\r\n",
        "  try:\r\n",
        "    embedding_vector = word_vectors[word]\r\n",
        "    # words not found in embedding index will be all-zeros\r\n",
        "    wv_matrix[i] = embedding_vector\r\n",
        "  except:\r\n",
        "    pass"
      ],
      "execution_count": 229,
      "outputs": []
    },
    {
      "cell_type": "code",
      "metadata": {
        "colab": {
          "base_uri": "https://localhost:8080/"
        },
        "id": "NiyljPDThLoS",
        "outputId": "e589b697-28fe-47db-b1e2-342404a575eb"
      },
      "source": [
        "!git clone https://github.com/devkotasawal1/Poem-Generator\r\n"
      ],
      "execution_count": 12,
      "outputs": [
        {
          "output_type": "stream",
          "text": [
            "Cloning into 'Poem-Generator'...\n",
            "remote: Enumerating objects: 10, done.\u001b[K\n",
            "remote: Total 10 (delta 0), reused 0 (delta 0), pack-reused 10\u001b[K\n",
            "Unpacking objects: 100% (10/10), done.\n"
          ],
          "name": "stdout"
        }
      ]
    },
    {
      "cell_type": "code",
      "metadata": {
        "id": "l98YR9sti9NB"
      },
      "source": [
        "path_to_file = \"Poem-Generator/lspd.txt\""
      ],
      "execution_count": 13,
      "outputs": []
    },
    {
      "cell_type": "code",
      "metadata": {
        "id": "auiOUsMejBv9"
      },
      "source": [
        "from nltk.tokenize.api import StringTokenizer\r\n",
        "tokenizer = StringTokenizer()"
      ],
      "execution_count": 70,
      "outputs": []
    },
    {
      "cell_type": "code",
      "metadata": {
        "id": "Azy6wDdijqIx"
      },
      "source": [
        "from collections import Counter\r\n",
        "vocab = Counter"
      ],
      "execution_count": 71,
      "outputs": []
    },
    {
      "cell_type": "code",
      "metadata": {
        "id": "8MYS9AcEjRSo"
      },
      "source": [
        "def text_to_wordlist(text):\r\n",
        "  text = tokenizer.tokenize(text)\r\n",
        "  vocab.update(text)\r\n",
        "  return text "
      ],
      "execution_count": 72,
      "outputs": []
    },
    {
      "cell_type": "code",
      "metadata": {
        "id": "xLckCvOijx1S"
      },
      "source": [
        "def process_data(text_sentences):\r\n",
        "  sentences = []\r\n",
        "  for text in tqdm(text_sentences):\r\n",
        "    txt = text_to_wordlist(text)\r\n",
        "    sentences.append(txt)\r\n",
        "  return sentences"
      ],
      "execution_count": 73,
      "outputs": []
    },
    {
      "cell_type": "code",
      "metadata": {
        "id": "IKhhETU8Kmty"
      },
      "source": [
        "data_file = open(path_to_file, 'r')\r\n",
        "file_contents = data_file.read()\r\n",
        "sentences_split = file_contents.splitlines()"
      ],
      "execution_count": 107,
      "outputs": []
    },
    {
      "cell_type": "code",
      "metadata": {
        "colab": {
          "base_uri": "https://localhost:8080/"
        },
        "id": "5FgOel2lNeOJ",
        "outputId": "5277926c-0673-4223-a493-2b99a5214da3"
      },
      "source": [
        "len(sentences_split)"
      ],
      "execution_count": 109,
      "outputs": [
        {
          "output_type": "execute_result",
          "data": {
            "text/plain": [
              "4091"
            ]
          },
          "metadata": {
            "tags": []
          },
          "execution_count": 109
        }
      ]
    },
    {
      "cell_type": "code",
      "metadata": {
        "colab": {
          "base_uri": "https://localhost:8080/"
        },
        "id": "uJz3ETeIWYXY",
        "outputId": "080d6791-9572-408e-f3d4-36ada26b779e"
      },
      "source": [
        "import nltk\r\n",
        "nltk.download('punkt') \r\n",
        "from nltk.tokenize import word_tokenize"
      ],
      "execution_count": 99,
      "outputs": [
        {
          "output_type": "stream",
          "text": [
            "[nltk_data] Downloading package punkt to /root/nltk_data...\n",
            "[nltk_data]   Package punkt is already up-to-date!\n"
          ],
          "name": "stdout"
        }
      ]
    },
    {
      "cell_type": "code",
      "metadata": {
        "id": "QfqVOz9HlyeK"
      },
      "source": [
        "vocab = Counter()\r\n",
        "def text_to_wordlist(text, lower = False):\r\n",
        "    text = word_tokenize(text)\r\n",
        "    vocab.update(text)\r\n",
        "    return text\r\n",
        "def process_comments(list_sentences, lower = False):\r\n",
        "    comments = []\r\n",
        "    for text in tqdm(list_sentences):\r\n",
        "        txt = text_to_wordlist(text, lower = lower)\r\n",
        "        comments.append(txt)\r\n",
        "    return comments"
      ],
      "execution_count": 199,
      "outputs": []
    },
    {
      "cell_type": "code",
      "metadata": {
        "colab": {
          "base_uri": "https://localhost:8080/"
        },
        "id": "Ogq3H15ql--o",
        "outputId": "595a9501-e473-4a17-a929-ce55e08198b5"
      },
      "source": [
        "comments = process_comments(sentences_split)"
      ],
      "execution_count": 200,
      "outputs": [
        {
          "output_type": "stream",
          "text": [
            "100%|██████████| 4091/4091 [00:00<00:00, 8799.26it/s]\n"
          ],
          "name": "stderr"
        }
      ]
    },
    {
      "cell_type": "code",
      "metadata": {
        "colab": {
          "base_uri": "https://localhost:8080/"
        },
        "id": "lTMpbeDKmEWQ",
        "outputId": "6354b83c-3c66-4e60-8cdd-d207b8a27f43"
      },
      "source": [
        "comments[1]"
      ],
      "execution_count": 201,
      "outputs": [
        {
          "output_type": "execute_result",
          "data": {
            "text/plain": [
              "['मनको', 'वनमा', 'ननिभ्ने', 'गरी', 'विरह', 'जलाई', '!']"
            ]
          },
          "metadata": {
            "tags": []
          },
          "execution_count": 201
        }
      ]
    },
    {
      "cell_type": "code",
      "metadata": {
        "id": "VGCt2v74Mf16"
      },
      "source": [
        "vocab = Counter()\r\n",
        "words_split = []\r\n",
        "for i in range(len(sentences_split)):\r\n",
        "#  words = \"\"\r\n",
        "  for idx, word in enumerate(sentences_split[i].split()):\r\n",
        "  #  words = words + \" \" +word\r\n",
        "    word = word_tokenize(word)\r\n",
        "    vocab.update(word)\r\n",
        "    words_split.append(word)"
      ],
      "execution_count": 217,
      "outputs": []
    },
    {
      "cell_type": "code",
      "metadata": {
        "colab": {
          "base_uri": "https://localhost:8080/"
        },
        "id": "6xt8OiombxK7",
        "outputId": "3f636a0d-40da-4d5b-d1d7-83e9f2acc38c"
      },
      "source": [
        "len(vocab)"
      ],
      "execution_count": 218,
      "outputs": [
        {
          "output_type": "execute_result",
          "data": {
            "text/plain": [
              "8572"
            ]
          },
          "metadata": {
            "tags": []
          },
          "execution_count": 218
        }
      ]
    },
    {
      "cell_type": "code",
      "metadata": {
        "colab": {
          "base_uri": "https://localhost:8080/"
        },
        "id": "e7TxfN-gWCZ9",
        "outputId": "5962ee0f-4fae-418f-d6af-1ae97ca9a2f5"
      },
      "source": [
        "vocab['मदन'], vocab['मुना']"
      ],
      "execution_count": 219,
      "outputs": [
        {
          "output_type": "execute_result",
          "data": {
            "text/plain": [
              "(28, 35)"
            ]
          },
          "metadata": {
            "tags": []
          },
          "execution_count": 219
        }
      ]
    },
    {
      "cell_type": "code",
      "metadata": {
        "id": "oQlHK1nWcV5W"
      },
      "source": [
        "model_new = Word2Vec(words_split, size = 100, window = 5, min_count = 5, workers = 16, sg = 0, negative = 5)"
      ],
      "execution_count": 220,
      "outputs": []
    },
    {
      "cell_type": "code",
      "metadata": {
        "colab": {
          "base_uri": "https://localhost:8080/"
        },
        "id": "YuDFQ2sLeICU",
        "outputId": "d2ec7192-b510-4a7a-bbb7-ac6ae9bb25f1"
      },
      "source": [
        "model_new.wv.most_similar('मदन')"
      ],
      "execution_count": 221,
      "outputs": [
        {
          "output_type": "execute_result",
          "data": {
            "text/plain": [
              "[('आँसु', 0.28142857551574707),\n",
              " ('मजा', 0.27314072847366333),\n",
              " ('जीव', 0.2465236335992813),\n",
              " ('गोली', 0.23700422048568726),\n",
              " ('जलप', 0.23592029511928558),\n",
              " ('यसको', 0.2278319150209427),\n",
              " ('अघि', 0.22552791237831116),\n",
              " ('पवित्र', 0.2194938063621521),\n",
              " ('शून्य', 0.21850956976413727),\n",
              " ('रेशम', 0.21591463685035706)]"
            ]
          },
          "metadata": {
            "tags": []
          },
          "execution_count": 221
        }
      ]
    },
    {
      "cell_type": "code",
      "metadata": {
        "id": "_GjYyN44ktXD"
      },
      "source": [
        "word_vectors = model_new.wv"
      ],
      "execution_count": 209,
      "outputs": []
    },
    {
      "cell_type": "code",
      "metadata": {
        "id": "kMRW0-SweOV9"
      },
      "source": [
        "MAX_NB_WORDS = len(word_vectors.vocab)\r\n",
        "MAX_SEQUENCE_LENGTH = 200"
      ],
      "execution_count": 222,
      "outputs": []
    },
    {
      "cell_type": "code",
      "metadata": {
        "id": "5zY9E3Fgf2w2"
      },
      "source": [
        "from keras.preprocessing.sequence import pad_sequences"
      ],
      "execution_count": 223,
      "outputs": []
    },
    {
      "cell_type": "code",
      "metadata": {
        "id": "HI3enKkMf4xB"
      },
      "source": [
        "word_index = {t[0]:i+1 for i, t in enumerate(vocab.most_common(MAX_NB_WORDS))}"
      ],
      "execution_count": 224,
      "outputs": []
    },
    {
      "cell_type": "code",
      "metadata": {
        "id": "Zpn4luSLgiia"
      },
      "source": [
        "sequences = [[word_index.get(t,0) for t in comment] for comment in comments[:len(sentences_split)]]"
      ],
      "execution_count": 225,
      "outputs": []
    },
    {
      "cell_type": "code",
      "metadata": {
        "colab": {
          "base_uri": "https://localhost:8080/"
        },
        "id": "aX9OexXZjyBd",
        "outputId": "a229cd48-27f5-4430-9787-ce0466a6d2e3"
      },
      "source": [
        "len(sequences)"
      ],
      "execution_count": 226,
      "outputs": [
        {
          "output_type": "execute_result",
          "data": {
            "text/plain": [
              "4091"
            ]
          },
          "metadata": {
            "tags": []
          },
          "execution_count": 226
        }
      ]
    },
    {
      "cell_type": "code",
      "metadata": {
        "colab": {
          "base_uri": "https://localhost:8080/"
        },
        "id": "w1LTtOFYkK74",
        "outputId": "bdc2b228-797b-4c21-be30-18cdbab0fe67"
      },
      "source": [
        "print(sequences[0])\r\n",
        "print(comments[0])"
      ],
      "execution_count": 228,
      "outputs": [
        {
          "output_type": "stream",
          "text": [
            "[0, 0, 13, 46, 109, 1, 0, 28, 2]\n",
            "['नछाडी', 'जानोस्', 'हे', 'मेरा', 'प्राण', '!', 'अकेली', 'मलाई', ',']\n"
          ],
          "name": "stdout"
        }
      ]
    },
    {
      "cell_type": "markdown",
      "metadata": {
        "id": "c901IN57nraL"
      },
      "source": [
        "**FIX THE ABOVE CELL ERROR**"
      ]
    },
    {
      "cell_type": "code",
      "metadata": {
        "id": "rMOrzLNIkUuJ"
      },
      "source": [
        "for word, i in word_index.items():\r\n",
        "  if i>= nb_words:\r\n",
        "    continue\r\n",
        "  try:\r\n",
        "    embedding_vector = word_vectors[word]\r\n",
        "    # words not found in embedding index will be all-zeros\r\n",
        "    wv_matrix[i] = embedding_vector\r\n",
        "  except:\r\n",
        "    pass"
      ],
      "execution_count": 230,
      "outputs": []
    },
    {
      "cell_type": "code",
      "metadata": {
        "id": "9f1Ag9AWnux5"
      },
      "source": [
        "from keras.layers import Dense, Input, LSTM, Embedding, Dropout,SpatialDropout1D, Bidirectional\r\n",
        "from keras.models import Model\r\n",
        "from keras.optimizers import Adam\r\n",
        "from keras.layers.normalization import BatchNormalization\r\n"
      ],
      "execution_count": 231,
      "outputs": []
    },
    {
      "cell_type": "code",
      "metadata": {
        "id": "7Ftd4EcYn2_S"
      },
      "source": [
        "wv_layer = Embedding(nb_words,\r\n",
        "                     WV_DIM,\r\n",
        "                     mask_zero=False,\r\n",
        "                     weights=[wv_matrix],\r\n",
        "                     input_length=MAX_SEQUENCE_LENGTH,\r\n",
        "                     trainable=False)"
      ],
      "execution_count": 232,
      "outputs": []
    },
    {
      "cell_type": "code",
      "metadata": {
        "id": "gVdPwZsYn7ri"
      },
      "source": [
        ""
      ],
      "execution_count": null,
      "outputs": []
    }
  ]
}