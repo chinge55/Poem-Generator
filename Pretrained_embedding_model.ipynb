{
  "cells": [
    {
      "cell_type": "code",
      "execution_count": 1,
      "metadata": {
        "colab": {
          "base_uri": "https://localhost:8080/"
        },
        "id": "-NKtpbW_fsNo",
        "outputId": "846a2c41-9815-4137-9bbf-8b4d05af82c9"
      },
      "outputs": [
        {
          "name": "stdout",
          "output_type": "stream",
          "text": [
            "Mounted at /content/drive\n"
          ]
        }
      ],
      "source": [
        "# from google.colab import drive\n",
        "# drive.mount('/content/drive')\n",
        "\n",
        "!git clone https://github.com/devkotasawal1/Poem-Generator"
      ]
    },
    {
      "cell_type": "code",
      "execution_count": 2,
      "metadata": {
        "id": "bSTYHY-_gfZp"
      },
      "outputs": [],
      "source": [
        "import numpy as np\n",
        "from tqdm import tqdm"
      ]
    },
    {
      "cell_type": "code",
      "execution_count": 3,
      "metadata": {
        "id": "dG7AWz6QgWLG"
      },
      "outputs": [],
      "source": [
        "PATH =  \"/content/drive/MyDrive/word2vec_models/nepali_embeddings_word2vec.txt\""
      ]
    },
    {
      "cell_type": "code",
      "execution_count": 4,
      "metadata": {
        "id": "kkq2EycRgYoE"
      },
      "outputs": [],
      "source": [
        "from gensim.models import KeyedVectors"
      ]
    },
    {
      "cell_type": "code",
      "execution_count": 5,
      "metadata": {
        "id": "o5pswMMLgawd"
      },
      "outputs": [],
      "source": [
        "model_pretrained = KeyedVectors.load_word2vec_format(PATH, binary=False)\n",
        "model = model_pretrained"
      ]
    },
    {
      "cell_type": "code",
      "execution_count": 6,
      "metadata": {
        "colab": {
          "base_uri": "https://localhost:8080/"
        },
        "id": "XExLVzAugbcc",
        "outputId": "793ea7ad-6dae-4474-ad56-475e1f27137f"
      },
      "outputs": [
        {
          "data": {
            "text/plain": [
              "[('मुगल', 0.8069719672203064),\n",
              " ('महारानी', 0.7991781234741211),\n",
              " ('राजाहरू', 0.799119770526886),\n",
              " ('राजगद्दी', 0.7980359196662903),\n",
              " ('अधिराजकुमार', 0.7924796938896179),\n",
              " ('राजदरबार', 0.7917264103889465),\n",
              " ('महाराजा', 0.7911354303359985),\n",
              " ('सम्राट्', 0.7840874791145325),\n",
              " ('राजामहाराजा', 0.7802377343177795),\n",
              " ('चन्द्रशम्शेर', 0.7725237607955933)]"
            ]
          },
          "execution_count": 6,
          "metadata": {
            "tags": []
          },
          "output_type": "execute_result"
        }
      ],
      "source": [
        "model_pretrained.most_similar_cosmul(positive = ['केटी', 'राजा'], negative = ['केटा'])"
      ]
    },
    {
      "cell_type": "code",
      "execution_count": 7,
      "metadata": {
        "colab": {
          "base_uri": "https://localhost:8080/"
        },
        "id": "fbX4b8ajhfFR",
        "outputId": "90f90d8b-8d8c-4215-e099-808487de41d7"
      },
      "outputs": [
        {
          "name": "stderr",
          "output_type": "stream",
          "text": [
            "/usr/local/lib/python3.6/dist-packages/ipykernel_launcher.py:1: DeprecationWarning: Call to deprecated `wv` (Attribute will be removed in 4.0.0, use self instead).\n",
            "  \"\"\"Entry point for launching an IPython kernel.\n"
          ]
        }
      ],
      "source": [
        "word_vectors = model.wv"
      ]
    },
    {
      "cell_type": "code",
      "execution_count": 8,
      "metadata": {
        "colab": {
          "base_uri": "https://localhost:8080/"
        },
        "id": "c-7HBYcIjvKk",
        "outputId": "03353be5-dfc8-4b1e-887d-914780289cb8"
      },
      "outputs": [
        {
          "name": "stdout",
          "output_type": "stream",
          "text": [
            "Number of word vectors:515851\n"
          ]
        }
      ],
      "source": [
        "print(\"Number of word vectors:{}\".format(len(word_vectors.vocab)))"
      ]
    },
    {
      "cell_type": "code",
      "execution_count": 9,
      "metadata": {
        "id": "lc0TeyAOj6ZK"
      },
      "outputs": [],
      "source": [
        "nb_words = len(word_vectors.vocab)\n",
        "WV_DIM = word_vectors.vector_size"
      ]
    },
    {
      "cell_type": "code",
      "execution_count": 10,
      "metadata": {
        "colab": {
          "base_uri": "https://localhost:8080/"
        },
        "id": "U3BA3hYIfkCn",
        "outputId": "ba7bbe01-2dd8-4eda-c276-c6647022568d"
      },
      "outputs": [
        {
          "data": {
            "text/plain": [
              "(515851, 300)"
            ]
          },
          "execution_count": 10,
          "metadata": {
            "tags": []
          },
          "output_type": "execute_result"
        }
      ],
      "source": [
        "nb_words, WV_DIM"
      ]
    },
    {
      "cell_type": "code",
      "execution_count": 11,
      "metadata": {
        "id": "GN1jOa5GgUxn"
      },
      "outputs": [],
      "source": [
        "wv_matrix = (np.random.rand(nb_words, WV_DIM)-0.5)/5.0"
      ]
    },
    {
      "cell_type": "markdown",
      "metadata": {
        "id": "qA9cGWUzhuFJ"
      },
      "source": [
        "Now use this word2vec values with all the values in the dataset and use the embeddings of the words present in the dataset and leave all the others as zeros"
      ]
    },
    {
      "cell_type": "code",
      "execution_count": 229,
      "metadata": {
        "id": "ptK3gHH2gddK"
      },
      "outputs": [],
      "source": [
        "for word, i in word_index.items():\n",
        "  if i>= nb_words:\n",
        "    continue\n",
        "  try:\n",
        "    embedding_vector = word_vectors[word]\n",
        "    # words not found in embedding index will be all-zeros\n",
        "    wv_matrix[i] = embedding_vector\n",
        "  except:\n",
        "    pass"
      ]
    },
    {
      "cell_type": "code",
      "execution_count": 13,
      "metadata": {
        "id": "l98YR9sti9NB"
      },
      "outputs": [],
      "source": [
        "path_to_file = \"Poem-Generator/lspd.txt\""
      ]
    },
    {
      "cell_type": "code",
      "execution_count": 70,
      "metadata": {
        "id": "auiOUsMejBv9"
      },
      "outputs": [],
      "source": [
        "from nltk.tokenize.api import StringTokenizer\n",
        "tokenizer = StringTokenizer()"
      ]
    },
    {
      "cell_type": "code",
      "execution_count": 71,
      "metadata": {
        "id": "Azy6wDdijqIx"
      },
      "outputs": [],
      "source": [
        "from collections import Counter\n",
        "vocab = Counter"
      ]
    },
    {
      "cell_type": "code",
      "execution_count": 72,
      "metadata": {
        "id": "8MYS9AcEjRSo"
      },
      "outputs": [],
      "source": [
        "def text_to_wordlist(text):\n",
        "  text = tokenizer.tokenize(text)\n",
        "  vocab.update(text)\n",
        "  return text "
      ]
    },
    {
      "cell_type": "code",
      "execution_count": 73,
      "metadata": {
        "id": "xLckCvOijx1S"
      },
      "outputs": [],
      "source": [
        "def process_data(text_sentences):\n",
        "  sentences = []\n",
        "  for text in tqdm(text_sentences):\n",
        "    txt = text_to_wordlist(text)\n",
        "    sentences.append(txt)\n",
        "  return sentences"
      ]
    },
    {
      "cell_type": "code",
      "execution_count": 107,
      "metadata": {
        "id": "IKhhETU8Kmty"
      },
      "outputs": [],
      "source": [
        "data_file = open(path_to_file, 'r')\n",
        "file_contents = data_file.read()\n",
        "sentences_split = file_contents.splitlines()"
      ]
    },
    {
      "cell_type": "code",
      "execution_count": 109,
      "metadata": {
        "colab": {
          "base_uri": "https://localhost:8080/"
        },
        "id": "5FgOel2lNeOJ",
        "outputId": "5277926c-0673-4223-a493-2b99a5214da3"
      },
      "outputs": [
        {
          "data": {
            "text/plain": [
              "4091"
            ]
          },
          "execution_count": 109,
          "metadata": {
            "tags": []
          },
          "output_type": "execute_result"
        }
      ],
      "source": [
        "len(sentences_split)"
      ]
    },
    {
      "cell_type": "code",
      "execution_count": 99,
      "metadata": {
        "colab": {
          "base_uri": "https://localhost:8080/"
        },
        "id": "uJz3ETeIWYXY",
        "outputId": "080d6791-9572-408e-f3d4-36ada26b779e"
      },
      "outputs": [
        {
          "name": "stdout",
          "output_type": "stream",
          "text": [
            "[nltk_data] Downloading package punkt to /root/nltk_data...\n",
            "[nltk_data]   Package punkt is already up-to-date!\n"
          ]
        }
      ],
      "source": [
        "import nltk\n",
        "nltk.download('punkt') \n",
        "from nltk.tokenize import word_tokenize"
      ]
    },
    {
      "cell_type": "code",
      "execution_count": 199,
      "metadata": {
        "id": "QfqVOz9HlyeK"
      },
      "outputs": [],
      "source": [
        "vocab = Counter()\n",
        "def text_to_wordlist(text, lower = False):\n",
        "    text = word_tokenize(text)\n",
        "    vocab.update(text)\n",
        "    return text\n",
        "def process_comments(list_sentences, lower = False):\n",
        "    comments = []\n",
        "    for text in tqdm(list_sentences):\n",
        "        txt = text_to_wordlist(text, lower = lower)\n",
        "        comments.append(txt)\n",
        "    return comments"
      ]
    },
    {
      "cell_type": "code",
      "execution_count": 200,
      "metadata": {
        "colab": {
          "base_uri": "https://localhost:8080/"
        },
        "id": "Ogq3H15ql--o",
        "outputId": "595a9501-e473-4a17-a929-ce55e08198b5"
      },
      "outputs": [
        {
          "name": "stderr",
          "output_type": "stream",
          "text": [
            "100%|██████████| 4091/4091 [00:00<00:00, 8799.26it/s]\n"
          ]
        }
      ],
      "source": [
        "comments = process_comments(sentences_split)"
      ]
    },
    {
      "cell_type": "code",
      "execution_count": 201,
      "metadata": {
        "colab": {
          "base_uri": "https://localhost:8080/"
        },
        "id": "lTMpbeDKmEWQ",
        "outputId": "6354b83c-3c66-4e60-8cdd-d207b8a27f43"
      },
      "outputs": [
        {
          "data": {
            "text/plain": [
              "['मनको', 'वनमा', 'ननिभ्ने', 'गरी', 'विरह', 'जलाई', '!']"
            ]
          },
          "execution_count": 201,
          "metadata": {
            "tags": []
          },
          "output_type": "execute_result"
        }
      ],
      "source": [
        "comments[1]"
      ]
    },
    {
      "cell_type": "code",
      "execution_count": 217,
      "metadata": {
        "id": "VGCt2v74Mf16"
      },
      "outputs": [],
      "source": [
        "vocab = Counter()\n",
        "words_split = []\n",
        "for i in range(len(sentences_split)):\n",
        "#  words = \"\"\n",
        "  for idx, word in enumerate(sentences_split[i].split()):\n",
        "  #  words = words + \" \" +word\n",
        "    word = word_tokenize(word)\n",
        "    vocab.update(word)\n",
        "    words_split.append(word)"
      ]
    },
    {
      "cell_type": "code",
      "execution_count": 218,
      "metadata": {
        "colab": {
          "base_uri": "https://localhost:8080/"
        },
        "id": "6xt8OiombxK7",
        "outputId": "3f636a0d-40da-4d5b-d1d7-83e9f2acc38c"
      },
      "outputs": [
        {
          "data": {
            "text/plain": [
              "8572"
            ]
          },
          "execution_count": 218,
          "metadata": {
            "tags": []
          },
          "output_type": "execute_result"
        }
      ],
      "source": [
        "len(vocab)"
      ]
    },
    {
      "cell_type": "code",
      "execution_count": 219,
      "metadata": {
        "colab": {
          "base_uri": "https://localhost:8080/"
        },
        "id": "e7TxfN-gWCZ9",
        "outputId": "5962ee0f-4fae-418f-d6af-1ae97ca9a2f5"
      },
      "outputs": [
        {
          "data": {
            "text/plain": [
              "(28, 35)"
            ]
          },
          "execution_count": 219,
          "metadata": {
            "tags": []
          },
          "output_type": "execute_result"
        }
      ],
      "source": [
        "vocab['मदन'], vocab['मुना']"
      ]
    },
    {
      "cell_type": "code",
      "execution_count": 220,
      "metadata": {
        "id": "oQlHK1nWcV5W"
      },
      "outputs": [],
      "source": [
        "model_new = Word2Vec(words_split, size = 100, window = 5, min_count = 5, workers = 16, sg = 0, negative = 5)"
      ]
    },
    {
      "cell_type": "code",
      "execution_count": 221,
      "metadata": {
        "colab": {
          "base_uri": "https://localhost:8080/"
        },
        "id": "YuDFQ2sLeICU",
        "outputId": "d2ec7192-b510-4a7a-bbb7-ac6ae9bb25f1"
      },
      "outputs": [
        {
          "data": {
            "text/plain": [
              "[('आँसु', 0.28142857551574707),\n",
              " ('मजा', 0.27314072847366333),\n",
              " ('जीव', 0.2465236335992813),\n",
              " ('गोली', 0.23700422048568726),\n",
              " ('जलप', 0.23592029511928558),\n",
              " ('यसको', 0.2278319150209427),\n",
              " ('अघि', 0.22552791237831116),\n",
              " ('पवित्र', 0.2194938063621521),\n",
              " ('शून्य', 0.21850956976413727),\n",
              " ('रेशम', 0.21591463685035706)]"
            ]
          },
          "execution_count": 221,
          "metadata": {
            "tags": []
          },
          "output_type": "execute_result"
        }
      ],
      "source": [
        "model_new.wv.most_similar('मदन')"
      ]
    },
    {
      "cell_type": "code",
      "execution_count": 209,
      "metadata": {
        "id": "_GjYyN44ktXD"
      },
      "outputs": [],
      "source": [
        "word_vectors = model_new.wv"
      ]
    },
    {
      "cell_type": "code",
      "execution_count": 222,
      "metadata": {
        "id": "kMRW0-SweOV9"
      },
      "outputs": [],
      "source": [
        "MAX_NB_WORDS = len(word_vectors.vocab)\n",
        "MAX_SEQUENCE_LENGTH = 200"
      ]
    },
    {
      "cell_type": "code",
      "execution_count": 223,
      "metadata": {
        "id": "5zY9E3Fgf2w2"
      },
      "outputs": [],
      "source": [
        "from keras.preprocessing.sequence import pad_sequences"
      ]
    },
    {
      "cell_type": "code",
      "execution_count": 224,
      "metadata": {
        "id": "HI3enKkMf4xB"
      },
      "outputs": [],
      "source": [
        "word_index = {t[0]:i+1 for i, t in enumerate(vocab.most_common(MAX_NB_WORDS))}"
      ]
    },
    {
      "cell_type": "code",
      "execution_count": 225,
      "metadata": {
        "id": "Zpn4luSLgiia"
      },
      "outputs": [],
      "source": [
        "sequences = [[word_index.get(t,0) for t in comment] for comment in comments[:len(sentences_split)]]"
      ]
    },
    {
      "cell_type": "code",
      "execution_count": 226,
      "metadata": {
        "colab": {
          "base_uri": "https://localhost:8080/"
        },
        "id": "aX9OexXZjyBd",
        "outputId": "a229cd48-27f5-4430-9787-ce0466a6d2e3"
      },
      "outputs": [
        {
          "data": {
            "text/plain": [
              "4091"
            ]
          },
          "execution_count": 226,
          "metadata": {
            "tags": []
          },
          "output_type": "execute_result"
        }
      ],
      "source": [
        "len(sequences)"
      ]
    },
    {
      "cell_type": "code",
      "execution_count": 228,
      "metadata": {
        "colab": {
          "base_uri": "https://localhost:8080/"
        },
        "id": "w1LTtOFYkK74",
        "outputId": "bdc2b228-797b-4c21-be30-18cdbab0fe67"
      },
      "outputs": [
        {
          "name": "stdout",
          "output_type": "stream",
          "text": [
            "[0, 0, 13, 46, 109, 1, 0, 28, 2]\n",
            "['नछाडी', 'जानोस्', 'हे', 'मेरा', 'प्राण', '!', 'अकेली', 'मलाई', ',']\n"
          ]
        }
      ],
      "source": [
        "print(sequences[0])\n",
        "print(comments[0])"
      ]
    },
    {
      "cell_type": "markdown",
      "metadata": {
        "id": "c901IN57nraL"
      },
      "source": [
        "**FIX THE ABOVE CELL ERROR**"
      ]
    },
    {
      "cell_type": "code",
      "execution_count": 230,
      "metadata": {
        "id": "rMOrzLNIkUuJ"
      },
      "outputs": [],
      "source": [
        "for word, i in word_index.items():\n",
        "  if i>= nb_words:\n",
        "    continue\n",
        "  try:\n",
        "    embedding_vector = word_vectors[word]\n",
        "    # words not found in embedding index will be all-zeros\n",
        "    wv_matrix[i] = embedding_vector\n",
        "  except:\n",
        "    pass"
      ]
    },
    {
      "cell_type": "code",
      "execution_count": 231,
      "metadata": {
        "id": "9f1Ag9AWnux5"
      },
      "outputs": [],
      "source": [
        "from keras.layers import Dense, Input, LSTM, Embedding, Dropout,SpatialDropout1D, Bidirectional\n",
        "from keras.models import Model\n",
        "from keras.optimizers import Adam\n",
        "from keras.layers.normalization import BatchNormalization\n"
      ]
    },
    {
      "cell_type": "code",
      "execution_count": 232,
      "metadata": {
        "id": "7Ftd4EcYn2_S"
      },
      "outputs": [],
      "source": [
        "wv_layer = Embedding(nb_words,\n",
        "                     WV_DIM,\n",
        "                     mask_zero=False,\n",
        "                     weights=[wv_matrix],\n",
        "                     input_length=MAX_SEQUENCE_LENGTH,\n",
        "                     trainable=False)"
      ]
    },
    {
      "cell_type": "code",
      "execution_count": null,
      "metadata": {
        "id": "gVdPwZsYn7ri"
      },
      "outputs": [],
      "source": []
    }
  ],
  "metadata": {
    "colab": {
      "authorship_tag": "ABX9TyPJ7oekL/Gkm5Vqmeu7efmG",
      "collapsed_sections": [],
      "name": "Pretrained_embedding_model.ipynb",
      "provenance": []
    },
    "kernelspec": {
      "display_name": "Python 3",
      "name": "python3"
    },
    "language_info": {
      "name": "python",
      "version": "3.8.10"
    }
  },
  "nbformat": 4,
  "nbformat_minor": 0
}
