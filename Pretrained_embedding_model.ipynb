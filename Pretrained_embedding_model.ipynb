{
  "nbformat": 4,
  "nbformat_minor": 0,
  "metadata": {
    "colab": {
      "name": "Pretrained_embedding_model.ipynb",
      "provenance": [],
      "collapsed_sections": [],
      "authorship_tag": "ABX9TyNrkCN10w03P4gsuUk7CPks",
      "include_colab_link": true
    },
    "kernelspec": {
      "name": "python3",
      "display_name": "Python 3"
    }
  },
  "cells": [
    {
      "cell_type": "markdown",
      "metadata": {
        "id": "view-in-github",
        "colab_type": "text"
      },
      "source": [
        "<a href=\"https://colab.research.google.com/github/chinge55/Poem-Generator/blob/main/Pretrained_embedding_model.ipynb\" target=\"_parent\"><img src=\"https://colab.research.google.com/assets/colab-badge.svg\" alt=\"Open In Colab\"/></a>"
      ]
    },
    {
      "cell_type": "code",
      "metadata": {
        "colab": {
          "base_uri": "https://localhost:8080/"
        },
        "id": "-NKtpbW_fsNo",
        "outputId": "846a2c41-9815-4137-9bbf-8b4d05af82c9"
      },
      "source": [
        "from google.colab import drive\r\n",
        "drive.mount('/content/drive')\r\n"
      ],
      "execution_count": 1,
      "outputs": [
        {
          "output_type": "stream",
          "text": [
            "Mounted at /content/drive\n"
          ],
          "name": "stdout"
        }
      ]
    },
    {
      "cell_type": "code",
      "metadata": {
        "id": "bSTYHY-_gfZp"
      },
      "source": [
        "import numpy as np\r\n",
        "import tensorflow as tf\r\n",
        "from tqdm import tqdm"
      ],
      "execution_count": 2,
      "outputs": []
    },
    {
      "cell_type": "code",
      "metadata": {
        "id": "dG7AWz6QgWLG"
      },
      "source": [
        "PATH =  \"/content/drive/MyDrive/word2vec_models/nepali_embeddings_word2vec.txt\"\r\n"
      ],
      "execution_count": 3,
      "outputs": []
    },
    {
      "cell_type": "code",
      "metadata": {
        "id": "kkq2EycRgYoE"
      },
      "source": [
        "from gensim.models import KeyedVectors\r\n"
      ],
      "execution_count": 4,
      "outputs": []
    },
    {
      "cell_type": "code",
      "metadata": {
        "id": "o5pswMMLgawd"
      },
      "source": [
        "model_pretrained = KeyedVectors.load_word2vec_format(PATH, binary=False)\r\n"
      ],
      "execution_count": 5,
      "outputs": []
    },
    {
      "cell_type": "code",
      "metadata": {
        "colab": {
          "base_uri": "https://localhost:8080/"
        },
        "id": "XExLVzAugbcc",
        "outputId": "793ea7ad-6dae-4474-ad56-475e1f27137f"
      },
      "source": [
        "model_pretrained.most_similar_cosmul(positive = ['केटी', 'राजा'], negative = ['केटा'])"
      ],
      "execution_count": 6,
      "outputs": [
        {
          "output_type": "execute_result",
          "data": {
            "text/plain": [
              "[('मुगल', 0.8069719672203064),\n",
              " ('महारानी', 0.7991781234741211),\n",
              " ('राजाहरू', 0.799119770526886),\n",
              " ('राजगद्दी', 0.7980359196662903),\n",
              " ('अधिराजकुमार', 0.7924796938896179),\n",
              " ('राजदरबार', 0.7917264103889465),\n",
              " ('महाराजा', 0.7911354303359985),\n",
              " ('सम्राट्', 0.7840874791145325),\n",
              " ('राजामहाराजा', 0.7802377343177795),\n",
              " ('चन्द्रशम्शेर', 0.7725237607955933)]"
            ]
          },
          "metadata": {
            "tags": []
          },
          "execution_count": 6
        }
      ]
    },
    {
      "cell_type": "code",
      "metadata": {
        "colab": {
          "base_uri": "https://localhost:8080/"
        },
        "id": "fbX4b8ajhfFR",
        "outputId": "90f90d8b-8d8c-4215-e099-808487de41d7"
      },
      "source": [
        "word_vectors = model.wv"
      ],
      "execution_count": 7,
      "outputs": [
        {
          "output_type": "stream",
          "text": [
            "/usr/local/lib/python3.6/dist-packages/ipykernel_launcher.py:1: DeprecationWarning: Call to deprecated `wv` (Attribute will be removed in 4.0.0, use self instead).\n",
            "  \"\"\"Entry point for launching an IPython kernel.\n"
          ],
          "name": "stderr"
        }
      ]
    },
    {
      "cell_type": "code",
      "metadata": {
        "colab": {
          "base_uri": "https://localhost:8080/"
        },
        "id": "c-7HBYcIjvKk",
        "outputId": "03353be5-dfc8-4b1e-887d-914780289cb8"
      },
      "source": [
        "print(\"Number of word vectors:{}\".format(len(word_vectors.vocab)))"
      ],
      "execution_count": 8,
      "outputs": [
        {
          "output_type": "stream",
          "text": [
            "Number of word vectors:515851\n"
          ],
          "name": "stdout"
        }
      ]
    },
    {
      "cell_type": "code",
      "metadata": {
        "id": "lc0TeyAOj6ZK"
      },
      "source": [
        "nb_words = len(word_vectors.vocab)\r\n",
        "WV_DIM = word_vectors.vector_size"
      ],
      "execution_count": 9,
      "outputs": []
    },
    {
      "cell_type": "code",
      "metadata": {
        "colab": {
          "base_uri": "https://localhost:8080/"
        },
        "id": "U3BA3hYIfkCn",
        "outputId": "ba7bbe01-2dd8-4eda-c276-c6647022568d"
      },
      "source": [
        "nb_words, WV_DIM"
      ],
      "execution_count": 10,
      "outputs": [
        {
          "output_type": "execute_result",
          "data": {
            "text/plain": [
              "(515851, 300)"
            ]
          },
          "metadata": {
            "tags": []
          },
          "execution_count": 10
        }
      ]
    },
    {
      "cell_type": "code",
      "metadata": {
        "id": "GN1jOa5GgUxn"
      },
      "source": [
        "wv_matrix = (np.random.rand(nb_words, WV_DIM)-0.5)/5.0"
      ],
      "execution_count": 11,
      "outputs": []
    },
    {
      "cell_type": "markdown",
      "metadata": {
        "id": "qA9cGWUzhuFJ"
      },
      "source": [
        "Now use this word2vec values with all the values in the dataset and use the embeddings of the words present in the dataset and leave all the others as zeros"
      ]
    },
    {
      "cell_type": "code",
      "metadata": {
        "colab": {
          "base_uri": "https://localhost:8080/",
          "height": 238
        },
        "id": "ptK3gHH2gddK",
        "outputId": "0e198208-815f-4a1b-b8f6-d89b262b40d2"
      },
      "source": [
        "for word, i in word_index.items():\r\n",
        "  if i>= nb_words:\r\n",
        "    continue\r\n",
        "  try:\r\n",
        "    embedding_vector = word_vectors[word]\r\n",
        "    # words not found in embedding index will be all-zeros\r\n",
        "    wv_matrix[i] = embedding_vector\r\n",
        "  except:\r\n",
        "    pass"
      ],
      "execution_count": null,
      "outputs": [
        {
          "output_type": "error",
          "ename": "NameError",
          "evalue": "ignored",
          "traceback": [
            "\u001b[0;31m---------------------------------------------------------------------------\u001b[0m",
            "\u001b[0;31mNameError\u001b[0m                                 Traceback (most recent call last)",
            "\u001b[0;32m<ipython-input-18-8f889c551444>\u001b[0m in \u001b[0;36m<module>\u001b[0;34m()\u001b[0m\n\u001b[0;32m----> 1\u001b[0;31m \u001b[0;32mfor\u001b[0m \u001b[0mword\u001b[0m\u001b[0;34m,\u001b[0m \u001b[0mi\u001b[0m \u001b[0;32min\u001b[0m \u001b[0mword_index\u001b[0m\u001b[0;34m.\u001b[0m\u001b[0mitems\u001b[0m\u001b[0;34m(\u001b[0m\u001b[0;34m)\u001b[0m\u001b[0;34m:\u001b[0m\u001b[0;34m\u001b[0m\u001b[0;34m\u001b[0m\u001b[0m\n\u001b[0m\u001b[1;32m      2\u001b[0m   \u001b[0;32mif\u001b[0m \u001b[0mi\u001b[0m\u001b[0;34m>=\u001b[0m \u001b[0mnb_words\u001b[0m\u001b[0;34m:\u001b[0m\u001b[0;34m\u001b[0m\u001b[0;34m\u001b[0m\u001b[0m\n\u001b[1;32m      3\u001b[0m     \u001b[0;32mcontinue\u001b[0m\u001b[0;34m\u001b[0m\u001b[0;34m\u001b[0m\u001b[0m\n\u001b[1;32m      4\u001b[0m   \u001b[0;32mtry\u001b[0m\u001b[0;34m:\u001b[0m\u001b[0;34m\u001b[0m\u001b[0;34m\u001b[0m\u001b[0m\n\u001b[1;32m      5\u001b[0m     \u001b[0membedding_vector\u001b[0m \u001b[0;34m=\u001b[0m \u001b[0mword_vectors\u001b[0m\u001b[0;34m[\u001b[0m\u001b[0mword\u001b[0m\u001b[0;34m]\u001b[0m\u001b[0;34m\u001b[0m\u001b[0;34m\u001b[0m\u001b[0m\n",
            "\u001b[0;31mNameError\u001b[0m: name 'word_index' is not defined"
          ]
        }
      ]
    },
    {
      "cell_type": "code",
      "metadata": {
        "colab": {
          "base_uri": "https://localhost:8080/"
        },
        "id": "NiyljPDThLoS",
        "outputId": "e589b697-28fe-47db-b1e2-342404a575eb"
      },
      "source": [
        "!git clone https://github.com/devkotasawal1/Poem-Generator\r\n"
      ],
      "execution_count": 12,
      "outputs": [
        {
          "output_type": "stream",
          "text": [
            "Cloning into 'Poem-Generator'...\n",
            "remote: Enumerating objects: 10, done.\u001b[K\n",
            "remote: Total 10 (delta 0), reused 0 (delta 0), pack-reused 10\u001b[K\n",
            "Unpacking objects: 100% (10/10), done.\n"
          ],
          "name": "stdout"
        }
      ]
    },
    {
      "cell_type": "code",
      "metadata": {
        "id": "l98YR9sti9NB"
      },
      "source": [
        "path_to_file = \"Poem-Generator/lspd.txt\""
      ],
      "execution_count": 13,
      "outputs": []
    },
    {
      "cell_type": "code",
      "metadata": {
        "id": "auiOUsMejBv9"
      },
      "source": [
        "from nltk.tokenize.api import StringTokenizer\r\n",
        "tokenizer = StringTokenizer()"
      ],
      "execution_count": 70,
      "outputs": []
    },
    {
      "cell_type": "code",
      "metadata": {
        "id": "Azy6wDdijqIx"
      },
      "source": [
        "from collections import Counter\r\n",
        "vocab = Counter"
      ],
      "execution_count": 71,
      "outputs": []
    },
    {
      "cell_type": "code",
      "metadata": {
        "id": "8MYS9AcEjRSo"
      },
      "source": [
        "def text_to_wordlist(text):\r\n",
        "  text = tokenizer.tokenize(text)\r\n",
        "  vocab.update(text)\r\n",
        "  return text "
      ],
      "execution_count": 72,
      "outputs": []
    },
    {
      "cell_type": "code",
      "metadata": {
        "id": "xLckCvOijx1S"
      },
      "source": [
        "def process_data(text_sentences):\r\n",
        "  sentences = []\r\n",
        "  for text in tqdm(text_sentences):\r\n",
        "    txt = text_to_wordlist(text)\r\n",
        "    sentences.append(txt)\r\n",
        "  return sentences"
      ],
      "execution_count": 73,
      "outputs": []
    },
    {
      "cell_type": "code",
      "metadata": {
        "id": "IKhhETU8Kmty"
      },
      "source": [
        "data_file = open(path_to_file, 'r')\r\n",
        "file_contents = data_file.read()\r\n",
        "sentences_split = file_contents.splitlines()"
      ],
      "execution_count": 107,
      "outputs": []
    },
    {
      "cell_type": "code",
      "metadata": {
        "colab": {
          "base_uri": "https://localhost:8080/"
        },
        "id": "5FgOel2lNeOJ",
        "outputId": "5277926c-0673-4223-a493-2b99a5214da3"
      },
      "source": [
        "len(sentences_split)"
      ],
      "execution_count": 109,
      "outputs": [
        {
          "output_type": "execute_result",
          "data": {
            "text/plain": [
              "4091"
            ]
          },
          "metadata": {
            "tags": []
          },
          "execution_count": 109
        }
      ]
    },
    {
      "cell_type": "code",
      "metadata": {
        "colab": {
          "base_uri": "https://localhost:8080/"
        },
        "id": "uJz3ETeIWYXY",
        "outputId": "080d6791-9572-408e-f3d4-36ada26b779e"
      },
      "source": [
        "import nltk\r\n",
        "nltk.download('punkt') \r\n",
        "from nltk.tokenize import word_tokenize"
      ],
      "execution_count": 99,
      "outputs": [
        {
          "output_type": "stream",
          "text": [
            "[nltk_data] Downloading package punkt to /root/nltk_data...\n",
            "[nltk_data]   Package punkt is already up-to-date!\n"
          ],
          "name": "stdout"
        }
      ]
    },
    {
      "cell_type": "code",
      "metadata": {
        "id": "VGCt2v74Mf16"
      },
      "source": [
        "vocab = Counter()\r\n",
        "words_split = []\r\n",
        "for i in range(len(sentences_split)):\r\n",
        "  words = \"\"\r\n",
        "  for idx, word in enumerate(sentences_split[i].split()):\r\n",
        "    #words = words + \" \" +word\r\n",
        "    word = word_tokenize(word)\r\n",
        "    vocab.update(word)\r\n",
        "    words_split.append(word)\r\n",
        "  #words_split.append(words)"
      ],
      "execution_count": 147,
      "outputs": []
    },
    {
      "cell_type": "code",
      "metadata": {
        "colab": {
          "base_uri": "https://localhost:8080/"
        },
        "id": "b172RdARNQ01",
        "outputId": "03d3640b-888e-4d37-f45e-541cc09fa91f"
      },
      "source": [
        "words_split[88]"
      ],
      "execution_count": 148,
      "outputs": [
        {
          "output_type": "execute_result",
          "data": {
            "text/plain": [
              "['आँसुले']"
            ]
          },
          "metadata": {
            "tags": []
          },
          "execution_count": 148
        }
      ]
    },
    {
      "cell_type": "code",
      "metadata": {
        "colab": {
          "base_uri": "https://localhost:8080/"
        },
        "id": "6xt8OiombxK7",
        "outputId": "e19c8bdd-837a-479a-d8fe-b541a8ebb531"
      },
      "source": [
        "len(vocab)"
      ],
      "execution_count": 138,
      "outputs": [
        {
          "output_type": "execute_result",
          "data": {
            "text/plain": [
              "8572"
            ]
          },
          "metadata": {
            "tags": []
          },
          "execution_count": 138
        }
      ]
    },
    {
      "cell_type": "code",
      "metadata": {
        "colab": {
          "base_uri": "https://localhost:8080/"
        },
        "id": "e7TxfN-gWCZ9",
        "outputId": "dce1cd18-f72e-4ef3-a501-be5fc44fea91"
      },
      "source": [
        "vocab['मदन'], vocab['मुना']"
      ],
      "execution_count": 143,
      "outputs": [
        {
          "output_type": "execute_result",
          "data": {
            "text/plain": [
              "(28, 35)"
            ]
          },
          "metadata": {
            "tags": []
          },
          "execution_count": 143
        }
      ]
    },
    {
      "cell_type": "code",
      "metadata": {
        "id": "oQlHK1nWcV5W"
      },
      "source": [
        "model_new = Word2Vec(words_split, size = 100, window = 5, min_count = 5, workers = 16, sg = 0, negative = 5)"
      ],
      "execution_count": 149,
      "outputs": []
    },
    {
      "cell_type": "code",
      "metadata": {
        "colab": {
          "base_uri": "https://localhost:8080/"
        },
        "id": "YuDFQ2sLeICU",
        "outputId": "499beefc-7d42-4ab6-d4d8-e42556c3a8df"
      },
      "source": [
        "model.wv.most_similar('जीव')"
      ],
      "execution_count": 152,
      "outputs": [
        {
          "output_type": "execute_result",
          "data": {
            "text/plain": [
              "[('गरी', 0.30912837386131287),\n",
              " ('हेरेर', 0.2999993562698364),\n",
              " ('मेरा', 0.265689492225647),\n",
              " ('प्यारी', 0.25575417280197144),\n",
              " ('फर्क', 0.25408729910850525),\n",
              " ('भोटेको', 0.253245085477829),\n",
              " ('झन', 0.25235211849212646),\n",
              " ('मदन', 0.24645788967609406),\n",
              " ('हुँ', 0.24622337520122528),\n",
              " ('गर्नु', 0.24535807967185974)]"
            ]
          },
          "metadata": {
            "tags": []
          },
          "execution_count": 152
        }
      ]
    },
    {
      "cell_type": "code",
      "metadata": {
        "id": "kMRW0-SweOV9"
      },
      "source": [
        "MAX_NB_WORDS = len(word_vectors.vocab)\r\n",
        "MAX_SEQUENCE_LENGTH = 200"
      ],
      "execution_count": 153,
      "outputs": []
    },
    {
      "cell_type": "code",
      "metadata": {
        "id": "5zY9E3Fgf2w2"
      },
      "source": [
        "from keras.preprocessing.sequence import pad_sequences"
      ],
      "execution_count": 154,
      "outputs": []
    },
    {
      "cell_type": "code",
      "metadata": {
        "id": "HI3enKkMf4xB"
      },
      "source": [
        "word_index = {t[0]:i+1 for i, t in enumerate(vocab.most_common(MAX_NB_WORDS))}"
      ],
      "execution_count": 158,
      "outputs": []
    },
    {
      "cell_type": "code",
      "metadata": {
        "colab": {
          "base_uri": "https://localhost:8080/"
        },
        "id": "yblK7xuPgRTi",
        "outputId": "b5dff2f4-cd66-419a-8711-5fc18bf10895"
      },
      "source": [
        "word_index"
      ],
      "execution_count": 159,
      "outputs": [
        {
          "output_type": "execute_result",
          "data": {
            "text/plain": [
              "{'!': 1,\n",
              " ',': 2,\n",
              " '।': 3,\n",
              " '?': 4,\n",
              " 'छ': 5,\n",
              " 'यो': 6,\n",
              " 'हो': 7,\n",
              " 'म': 8,\n",
              " 'ती': 9,\n",
              " 'के': 10,\n",
              " 'र': 11,\n",
              " 'एक': 12,\n",
              " 'हे': 13,\n",
              " 'ए': 14,\n",
              " 'तिमी': 15,\n",
              " 'नै': 16,\n",
              " 'त्यो': 17,\n",
              " 'रे': 18,\n",
              " 'न': 19,\n",
              " 'छन्': 20,\n",
              " 'मेरो': 21,\n",
              " 'मेरी': 22,\n",
              " '“': 23,\n",
              " 'आमा': 24,\n",
              " 'तिम्रो': 25,\n",
              " 'क्या': 26,\n",
              " 'आँखा': 27,\n",
              " 'मलाई': 28,\n",
              " '”': 29,\n",
              " '’': 30,\n",
              " 'भो': 31,\n",
              " 'कि': 32,\n",
              " 'आत्मा': 33,\n",
              " 'मुना': 34,\n",
              " 'सब': 35,\n",
              " 'नि': 36,\n",
              " 'संसार': 37,\n",
              " 'सारा': 38,\n",
              " 'मन': 39,\n",
              " 'जीवन': 40,\n",
              " '‘': 41,\n",
              " 'फूल': 42,\n",
              " 'घर': 43,\n",
              " 'हामी': 44,\n",
              " 'सुन्दर': 45,\n",
              " 'मेरा': 46,\n",
              " 'किन': 47,\n",
              " 'झैँ': 48,\n",
              " 'मदन': 49,\n",
              " 'त': 50,\n",
              " 'तर': 51,\n",
              " 'हाम्रो': 52,\n",
              " 'यी': 53,\n",
              " 'हेर': 54,\n",
              " 'आज': 55,\n",
              " 'मनको': 56,\n",
              " 'होला': 57,\n",
              " 'भाइ': 58,\n",
              " 'पनि': 59,\n",
              " 'यस': 60,\n",
              " 'कुन': 61,\n",
              " 'जो': 62,\n",
              " 'ईश्वर': 63,\n",
              " 'फेरि': 64,\n",
              " 'कसरी': 65,\n",
              " 'आयो': 66,\n",
              " 'ही': 67,\n",
              " 'यहाँ': 68,\n",
              " 'हृदय': 69,\n",
              " 'मनमा': 70,\n",
              " 'झैं': 71,\n",
              " 'स्वर्ग': 72,\n",
              " 'अब': 73,\n",
              " 'मानिस': 74,\n",
              " 'साथ': 75,\n",
              " 'होस्': 76,\n",
              " 'छौ': 77,\n",
              " 'भै': 78,\n",
              " 'बाबा': 79,\n",
              " 'आँसु': 80,\n",
              " 'दिन': 81,\n",
              " 'पृथिवी': 82,\n",
              " 'साथी': 83,\n",
              " 'बादल': 84,\n",
              " 'हात': 85,\n",
              " 'उज्यालो': 86,\n",
              " 'हुन्छ': 87,\n",
              " 'तिम्रा': 88,\n",
              " 'दिदी': 89,\n",
              " 'सम्झी': 90,\n",
              " 'भन': 91,\n",
              " 'जल': 92,\n",
              " 'जहाँ': 93,\n",
              " 'भयो': 94,\n",
              " 'छु': 95,\n",
              " 'केवल': 96,\n",
              " 'मुख': 97,\n",
              " 'मीठो': 98,\n",
              " 'केही': 99,\n",
              " 'उनको': 100,\n",
              " 'यौटा': 101,\n",
              " 'बोली': 102,\n",
              " 'राम्रो': 103,\n",
              " 'प्रकृति': 104,\n",
              " 'धनी': 105,\n",
              " 'कोमल': 106,\n",
              " 'मुटुमा': 107,\n",
              " 'यही': 108,\n",
              " 'प्राण': 109,\n",
              " 'प्यारा': 110,\n",
              " 'छाती': 111,\n",
              " 'नजर': 112,\n",
              " 'स्वर्गमा': 113,\n",
              " 'आकाश': 114,\n",
              " 'मानव': 115,\n",
              " 'दिव्य': 116,\n",
              " 'छैन': 117,\n",
              " 'देऊ': 118,\n",
              " 'लाग्यो': 119,\n",
              " 'यस्तो': 120,\n",
              " 'हाम्रा': 121,\n",
              " 'जब': 122,\n",
              " 'वनमा': 123,\n",
              " 'गरी': 124,\n",
              " 'मुटु': 125,\n",
              " ';': 126,\n",
              " 'छाया': 127,\n",
              " 'पर': 128,\n",
              " 'बाटो': 129,\n",
              " 'विचित्र': 130,\n",
              " 'जस्तो': 131,\n",
              " 'उचाली': 132,\n",
              " 'माथि': 133,\n",
              " 'अमृत': 134,\n",
              " 'सुन्दरी': 135,\n",
              " 'रात': 136,\n",
              " 'कालो': 137,\n",
              " 'है': 138,\n",
              " 'कोही': 139,\n",
              " 'औ': 140,\n",
              " 'हुँ': 141,\n",
              " 'तारा': 142,\n",
              " 'पारी': 143,\n",
              " 'कहाँ': 144,\n",
              " 'सुनौला': 145,\n",
              " 'झन्': 146,\n",
              " 'पन्छी': 147,\n",
              " 'थियो': 148,\n",
              " 'भित्र': 149,\n",
              " 'तिनको': 150,\n",
              " 'आए': 151,\n",
              " 'दिल': 152,\n",
              " 'भनी': 153,\n",
              " 'जगत्': 154,\n",
              " 'क्यै': 155,\n",
              " 'तँ': 156,\n",
              " 'ली': 157,\n",
              " 'निम्ति': 158,\n",
              " 'हुन्': 159,\n",
              " 'मालिक': 160,\n",
              " 'गैँडा': 161,\n",
              " 'आँसुले': 162,\n",
              " 'दाना': 163,\n",
              " 'सुनको': 164,\n",
              " 'मुहार': 165,\n",
              " 'प्यार': 166,\n",
              " 'लिएर': 167,\n",
              " 'घरमा': 168,\n",
              " 'कलिलो': 169,\n",
              " 'लौ': 170,\n",
              " 'मैले': 171,\n",
              " 'हाय': 172,\n",
              " 'छिन्': 173,\n",
              " 'हः': 174,\n",
              " 'भन्ने': 175,\n",
              " 'आउँछ': 176,\n",
              " 'प्यारी': 177,\n",
              " 'हेरी': 178,\n",
              " 'हरे': 179,\n",
              " 'देश': 180,\n",
              " 'अँध्यारो': 181,\n",
              " 'ता': 182,\n",
              " 'आफ्नो': 183,\n",
              " 'दी': 184,\n",
              " 'भनेर': 185,\n",
              " 'सपना': 186,\n",
              " 'तल': 187,\n",
              " 'भएर': 188,\n",
              " 'मधुर': 189,\n",
              " 'बनाई': 190,\n",
              " 'इच्छा': 191,\n",
              " 'बेला': 192,\n",
              " 'जाली': 193,\n",
              " 'लाल': 194,\n",
              " 'मृत्यु': 195,\n",
              " 'प्रभु': 196,\n",
              " 'लहर': 197,\n",
              " 'पापी': 198,\n",
              " 'कहिले': 199,\n",
              " 'प्यारको': 200,\n",
              " 'काल': 201,\n",
              " 'जून': 202,\n",
              " 'फुलेको': 203,\n",
              " 'ठूलो': 204,\n",
              " 'भए': 205,\n",
              " 'स्वर्गको': 206,\n",
              " 'मसिनो': 207,\n",
              " 'दिनको': 208,\n",
              " 'बत्ती': 209,\n",
              " 'अरु': 210,\n",
              " 'अगाडि': 211,\n",
              " 'दूर': 212,\n",
              " 'अझ': 213,\n",
              " 'रुन्छ': 214,\n",
              " 'हाली': 215,\n",
              " 'शान्ति': 216,\n",
              " 'फाली': 217,\n",
              " 'सुन': 218,\n",
              " 'बोल्दछ': 219,\n",
              " 'छैनन्': 220,\n",
              " 'दुई': 221,\n",
              " 'मन्दिर': 222,\n",
              " 'ज्योतिको': 223,\n",
              " 'भोलि': 224,\n",
              " 'सकल': 225,\n",
              " 'दिनभर': 226,\n",
              " 'स्वपना': 227,\n",
              " 'मोरी': 228,\n",
              " 'धम्र्म': 229,\n",
              " 'कुरा': 230,\n",
              " 'बाटामा': 231,\n",
              " 'आमाको': 232,\n",
              " 'मनले': 233,\n",
              " 'पो': 234,\n",
              " 'सार': 235,\n",
              " 'अमर': 236,\n",
              " 'कुइरो': 237,\n",
              " 'पानी': 238,\n",
              " 'शीतल': 239,\n",
              " 'घाम': 240,\n",
              " 'रानी': 241,\n",
              " 'पर्वत': 242,\n",
              " 'नेपाल': 243,\n",
              " 'नेपाली': 244,\n",
              " 'हिमाल': 245,\n",
              " 'रङ्ग': 246,\n",
              " 'कसको': 247,\n",
              " 'दुःख': 248,\n",
              " 'गइन्': 249,\n",
              " 'पृथ्वी': 250,\n",
              " 'मुखमा': 251,\n",
              " 'गर': 252,\n",
              " 'भारी': 253,\n",
              " 'भन्छन्': 254,\n",
              " 'शक्ति': 255,\n",
              " 'बुहारी': 256,\n",
              " 'गर्छ': 257,\n",
              " 'साथमा': 258,\n",
              " 'हावा': 259,\n",
              " 'त्यस्तो': 260,\n",
              " 'ज्ञान': 261,\n",
              " 'जलको': 262,\n",
              " 'मीठा': 263,\n",
              " 'चाली': 264,\n",
              " 'तातो': 265,\n",
              " 'भाषा': 266,\n",
              " 'रुन्छन्': 267,\n",
              " 'कस्तो': 268,\n",
              " 'गोली': 269,\n",
              " '.': 270,\n",
              " 'सृष्टि': 271,\n",
              " 'पङ्ख': 272,\n",
              " 'याद': 273,\n",
              " 'अपूर्व': 274,\n",
              " 'मानवता': 275,\n",
              " 'बिहान': 276,\n",
              " 'जङ्गल': 277,\n",
              " 'घरको': 278,\n",
              " 'मुटुको': 279,\n",
              " 'सबै': 280,\n",
              " 'को': 281,\n",
              " 'उसको': 282,\n",
              " 'ज्योति': 283,\n",
              " 'कहिल्यै': 284,\n",
              " 'हुँदैन': 285,\n",
              " 'कालको': 286,\n",
              " 'भर': 287,\n",
              " 'हजार': 288,\n",
              " 'ह्लासाको': 289,\n",
              " 'आखिर': 290,\n",
              " 'पवित्र': 291,\n",
              " 'क्वै': 292,\n",
              " 'त्यहाँ': 293,\n",
              " 'बनी': 294,\n",
              " 'प्रथम': 295,\n",
              " 'तरङ्ग': 296,\n",
              " 'निठुरी': 297,\n",
              " 'काँढा': 298,\n",
              " 'आई': 299,\n",
              " 'छातीमा': 300,\n",
              " 'दैवले': 301,\n",
              " 'रहेछ': 302,\n",
              " 'विशाल': 303,\n",
              " 'मन्त्र': 304,\n",
              " 'गीत': 305,\n",
              " 'तब': 306,\n",
              " 'होइन': 307,\n",
              " 'बच्चा': 308,\n",
              " 'लेऊ': 309,\n",
              " 'अनन्त': 310,\n",
              " 'शून्य': 311,\n",
              " 'एउटै': 312,\n",
              " 'एउटा': 313,\n",
              " 'तिनका': 314,\n",
              " 'यत्ति': 315,\n",
              " 'प्यास': 316,\n",
              " 'ल': 317,\n",
              " 'यसको': 318,\n",
              " 'या': 319,\n",
              " 'ज्यान': 320,\n",
              " 'नेपालीको': 321,\n",
              " 'गलामा': 322,\n",
              " 'तिमीले': 323,\n",
              " 'पाउ': 324,\n",
              " 'सुनका': 325,\n",
              " 'गर्नु': 326,\n",
              " 'सास': 327,\n",
              " 'आशा': 328,\n",
              " 'गुलाफ': 329,\n",
              " 'दर्शन': 330,\n",
              " 'त्यसमा': 331,\n",
              " 'आत्मालाई': 332,\n",
              " 'डर': 333,\n",
              " 'चरी': 334,\n",
              " 'चार': 335,\n",
              " 'माटो': 336,\n",
              " 'अनेक': 337,\n",
              " 'छाना': 338,\n",
              " 'आँखामा': 339,\n",
              " 'आनन्द': 340,\n",
              " 'बिरामी': 341,\n",
              " 'बाँसुरी': 342,\n",
              " 'वनको': 343,\n",
              " 'बोल': 344,\n",
              " 'हरियो': 345,\n",
              " 'चुली': 346,\n",
              " 'धन': 347,\n",
              " 'युगका': 348,\n",
              " 'पार': 349,\n",
              " 'राम्री': 350,\n",
              " 'मोती': 351,\n",
              " 'जस्ती': 352,\n",
              " 'गयो': 353,\n",
              " 'आफ्ना': 354,\n",
              " 'आँखाको': 355,\n",
              " 'हजूर': 356,\n",
              " 'देखी': 357,\n",
              " 'अघि': 358,\n",
              " 'फूलको': 359,\n",
              " 'बसी': 360,\n",
              " 'पखेटा': 361,\n",
              " 'चन्द्रमा': 362,\n",
              " 'बाबु': 363,\n",
              " 'पर्दछ': 364,\n",
              " 'आएन': 365,\n",
              " 'टाढा': 366,\n",
              " 'भन्छ': 367,\n",
              " 'बूढी': 368,\n",
              " 'बार': 369,\n",
              " 'बोल्न': 370,\n",
              " 'भरी': 371,\n",
              " 'थाली': 372,\n",
              " 'कहानी': 373,\n",
              " 'छाडेर': 374,\n",
              " 'जलमा': 375,\n",
              " 'रोई': 376,\n",
              " 'आएँ': 377,\n",
              " 'फर्क': 378,\n",
              " 'गर्न': 379,\n",
              " 'जिन्दगी': 380,\n",
              " 'चिसो': 381,\n",
              " 'राज': 382,\n",
              " 'गौंथली': 383,\n",
              " 'पागल': 384,\n",
              " 'गर्दछ': 385,\n",
              " 'तिमीकन': 386,\n",
              " 'ह': 387,\n",
              " 'व्यङ्ग्य': 388,\n",
              " 'यस्तै': 389,\n",
              " 'छाल': 390,\n",
              " 'माछा': 391,\n",
              " 'चिर': 392,\n",
              " 'फुलेकी': 393,\n",
              " 'आँसुको': 394,\n",
              " 'कृष्ण': 395,\n",
              " 'पहाड': 396,\n",
              " 'रातमा': 397,\n",
              " 'सुसार': 398,\n",
              " 'गएर': 399,\n",
              " 'धारा': 400,\n",
              " 'क्षण': 401,\n",
              " 'हुन्न': 402,\n",
              " 'चल्छ': 403,\n",
              " 'बसे': 404,\n",
              " 'बतास': 405,\n",
              " 'शिर': 406,\n",
              " 'जाने': 407,\n",
              " 'साँझमा': 408,\n",
              " 'टाकुरा': 409,\n",
              " 'सडकमा': 410,\n",
              " 'चले': 411,\n",
              " 'लागी': 412,\n",
              " 'कहीँ': 413,\n",
              " 'हावामा': 414,\n",
              " 'गर्ने': 415,\n",
              " 'भीषण': 416,\n",
              " 'लहरा': 417,\n",
              " 'देखेर': 418,\n",
              " 'भेटी': 419,\n",
              " 'किनारा': 420,\n",
              " 'लामा': 421,\n",
              " 'उज्याला': 422,\n",
              " 'मुनाको': 423,\n",
              " 'दुःखको': 424,\n",
              " 'राम्रा': 425,\n",
              " 'बास्ना': 426,\n",
              " 'ज्वाला': 427,\n",
              " 'दयाले': 428,\n",
              " 'नैनी': 429,\n",
              " 'चोला': 430,\n",
              " 'त्यसै': 431,\n",
              " 'किरण': 432,\n",
              " 'हाल': 433,\n",
              " 'उडेर': 434,\n",
              " 'रोएर': 435,\n",
              " 'जादू': 436,\n",
              " 'थिए': 437,\n",
              " 'छोरी': 438,\n",
              " 'तैपनि': 439,\n",
              " 'सरि': 440,\n",
              " 'काम': 441,\n",
              " 'वन': 442,\n",
              " 'नाम': 443,\n",
              " 'लागे': 444,\n",
              " 'नयाँ': 445,\n",
              " 'हातमा': 446,\n",
              " 'स्याब्बो': 447,\n",
              " 'नीलो': 448,\n",
              " 'खालि': 449,\n",
              " 'हेरेर': 450,\n",
              " 'अकेला': 451,\n",
              " 'माग': 452,\n",
              " 'बीउ': 453,\n",
              " 'बिलौना': 454,\n",
              " 'हा': 455,\n",
              " 'कलेजा': 456,\n",
              " 'भनेको': 457,\n",
              " 'एकै': 458,\n",
              " 'आऊ': 459,\n",
              " 'घाउ': 460,\n",
              " 'प्रातः': 461,\n",
              " 'गाउँछ': 462,\n",
              " 'गान': 463,\n",
              " 'सुख': 464,\n",
              " 'यात्री': 465,\n",
              " 'शूल': 466,\n",
              " 'रेशम': 467,\n",
              " 'उरमा': 468,\n",
              " 'मुस्की': 469,\n",
              " 'भनीकन': 470,\n",
              " 'आँशु': 471,\n",
              " 'मुसकान': 472,\n",
              " 'हूँ': 473,\n",
              " 'आजको': 474,\n",
              " 'सदा': 475,\n",
              " 'स्मारक': 476,\n",
              " 'स्वतन्त्रता': 477,\n",
              " 'उषा': 478,\n",
              " 'विरह': 479,\n",
              " 'विष': 480,\n",
              " 'कुनै': 481,\n",
              " 'वनका': 482,\n",
              " 'ठाडा': 483,\n",
              " 'झन': 484,\n",
              " 'डाँडा': 485,\n",
              " 'सम्झना': 486,\n",
              " 'बिजुली': 487,\n",
              " 'हुनेछ': 488,\n",
              " 'दिने': 489,\n",
              " 'धार': 490,\n",
              " 'दीप': 491,\n",
              " 'तिमीलाई': 492,\n",
              " 'तीखो': 493,\n",
              " 'दुइटा': 494,\n",
              " 'दिलको': 495,\n",
              " 'चीसो': 496,\n",
              " 'कष्ट': 497,\n",
              " 'ह्लासा': 498,\n",
              " 'झलझल': 499,\n",
              " 'कल्पना': 500,\n",
              " 'जलप': 501,\n",
              " 'शहर': 502,\n",
              " 'पथमा': 503,\n",
              " 'पाई': 504,\n",
              " 'बुद्धको': 505,\n",
              " 'रङ्गीन': 506,\n",
              " 'सारी': 507,\n",
              " 'हिउँका': 508,\n",
              " 'लगाई': 509,\n",
              " 'कपाल': 510,\n",
              " 'नौलो': 511,\n",
              " 'परी': 512,\n",
              " 'भाव': 513,\n",
              " 'उनका': 514,\n",
              " 'माल': 515,\n",
              " 'यस्ता': 516,\n",
              " 'पातलो': 517,\n",
              " 'समाई': 518,\n",
              " 'जाति': 519,\n",
              " 'आदिम': 520,\n",
              " 'जीव': 521,\n",
              " 'लोक': 522,\n",
              " 'चिल्लो': 523,\n",
              " 'ऊँचा': 524,\n",
              " 'ताज': 525,\n",
              " 'पहिलो': 526,\n",
              " 'बिहानी': 527,\n",
              " 'लाली': 528,\n",
              " 'सृष्टिको': 529,\n",
              " 'इतिहास': 530,\n",
              " 'क्रूर': 531,\n",
              " 'भोटेको': 532,\n",
              " 'गाना': 533,\n",
              " 'गुलाब': 534,\n",
              " 'जुन': 535,\n",
              " 'आकाशमा': 536,\n",
              " 'तिनलाई': 537,\n",
              " 'देही': 538,\n",
              " 'मात्र': 539,\n",
              " 'फुल': 540,\n",
              " 'कान': 541,\n",
              " 'लिई': 542,\n",
              " 'जगत्को': 543,\n",
              " 'सुगन्ध': 544,\n",
              " 'आँसुका': 545,\n",
              " 'आगो': 546,\n",
              " 'चाल': 547,\n",
              " 'खराब': 548,\n",
              " 'लाग्छ': 549,\n",
              " 'हावाले': 550,\n",
              " 'भएको': 551,\n",
              " 'बिचरा': 552,\n",
              " 'वचन': 553,\n",
              " 'देव': 554,\n",
              " 'समान': 555,\n",
              " 'कलकल': 556,\n",
              " 'कण': 557,\n",
              " 'जनको': 558,\n",
              " 'मिठास': 559,\n",
              " 'कसले': 560,\n",
              " 'गुन': 561,\n",
              " 'झल्क्यो': 562,\n",
              " 'त्यसको': 563,\n",
              " 'चल्दछ': 564,\n",
              " 'कथा': 565,\n",
              " 'जान': 566,\n",
              " 'विलाप': 567,\n",
              " 'पाप': 568,\n",
              " 'दुःखमा': 569,\n",
              " 'आँगन': 570,\n",
              " 'पछि': 571,\n",
              " 'माटोमा': 572,\n",
              " 'गरेर': 573,\n",
              " 'सरी': 574,\n",
              " 'सन्चो': 575,\n",
              " 'राति': 576,\n",
              " 'कलम': 577,\n",
              " 'देख्न': 578,\n",
              " 'मुनालाई': 579,\n",
              " 'तिनी': 580,\n",
              " 'सुखका': 581,\n",
              " 'सीमा': 582,\n",
              " 'मुठी': 583,\n",
              " 'मासुको': 584,\n",
              " 'स्वर्गका': 585,\n",
              " 'भन्दछ': 586,\n",
              " 'जन्म': 587,\n",
              " 'करुण': 588,\n",
              " 'डाली': 589,\n",
              " 'हुन्छन्': 590,\n",
              " 'उड्छ': 591,\n",
              " 'निज': 592,\n",
              " 'दिलमा': 593,\n",
              " 'गाई': 594,\n",
              " 'अपार': 595,\n",
              " 'खोजी': 596,\n",
              " 'पीडा': 597,\n",
              " 'मौन': 598,\n",
              " 'देवकोटाको': 599,\n",
              " 'फ्यारफ्यार': 600,\n",
              " 'प्यारका': 601,\n",
              " 'निशिको': 602,\n",
              " 'कविता': 603,\n",
              " 'पछाडि': 604,\n",
              " 'गन्ध': 605,\n",
              " 'बुलबुल': 606,\n",
              " 'महान्': 607,\n",
              " 'मूक': 608,\n",
              " 'नित्य': 609,\n",
              " 'बिउँझी': 610,\n",
              " 'वा': 611,\n",
              " 'अविरल': 612,\n",
              " 'तिमीहरु': 613,\n",
              " 'हलुका': 614,\n",
              " 'लाचारी': 615,\n",
              " 'हामीलाई': 616,\n",
              " 'वेद': 617,\n",
              " 'नाना': 618,\n",
              " 'बलिदान': 619,\n",
              " 'मानो': 620,\n",
              " 'शान': 621,\n",
              " 'गो': 622,\n",
              " 'यति': 623,\n",
              " 'चोली': 624,\n",
              " 'कदम': 625,\n",
              " 'मजा': 626,\n",
              " 'सङ्गीत': 627,\n",
              " 'जोरी': 628,\n",
              " 'निरन्तर': 629,\n",
              " 'क्रन्दन': 630,\n",
              " 'युग': 631,\n",
              " 'सुरा': 632,\n",
              " 'शुरु': 633,\n",
              " 'गैंडा': 634,\n",
              " 'भ्यागुतो': 635,\n",
              " 'अकेली': 636,\n",
              " 'खोली': 637,\n",
              " 'चाँडै': 638,\n",
              " 'खोलेर': 639,\n",
              " 'यौटी': 640,\n",
              " 'तीन': 641,\n",
              " 'फुलेका': 642,\n",
              " 'केश': 643,\n",
              " 'मिल्छ': 644,\n",
              " 'लाई': 645,\n",
              " 'खँदिलो': 646,\n",
              " 'बलियो': 647,\n",
              " 'उठायो': 648,\n",
              " 'परे': 649,\n",
              " 'दु': 650,\n",
              " ':': 651,\n",
              " 'रसिलो': 652,\n",
              " 'पर्छ': 653,\n",
              " 'विजय': 654,\n",
              " 'जोडी': 655,\n",
              " 'तार': 656,\n",
              " 'ईश्वरको': 657,\n",
              " 'वर': 658,\n",
              " 'निर्मल': 659,\n",
              " 'ढुङ्गा': 660,\n",
              " 'सही': 661,\n",
              " 'स्वप्नमा': 662,\n",
              " 'दृश्य': 663,\n",
              " 'झलमल': 664,\n",
              " 'अप्सरा': 665,\n",
              " 'पात': 666,\n",
              " 'सेतो': 667,\n",
              " 'खोला': 668,\n",
              " 'महल': 669,\n",
              " 'ठाउँ': 670,\n",
              " 'फल': 671,\n",
              " 'थिइन्': 672,\n",
              " 'गाला': 673,\n",
              " 'राज्य': 674,\n",
              " 'क्षणमा': 675,\n",
              " 'गरल': 676,\n",
              " 'जस्ता': 677,\n",
              " 'बनेली': 678,\n",
              " 'यसमा': 679,\n",
              " 'देवी': 680,\n",
              " 'अत्तर': 681,\n",
              " 'मानिसलाई': 682,\n",
              " 'गजूर': 683,\n",
              " 'हिमाली': 684,\n",
              " 'हिउँको': 685,\n",
              " 'भूमा': 686,\n",
              " 'रहस्य': 687,\n",
              " 'अवश्य': 688,\n",
              " 'शिव': 689,\n",
              " 'निश्चल': 690,\n",
              " 'सागर': 691,\n",
              " 'स्वरमा': 692,\n",
              " 'थिएन': 693,\n",
              " 'वरदान': 694,\n",
              " 'बल्ल': 695,\n",
              " 'पाए': 696,\n",
              " 'पथ': 697,\n",
              " 'ओठ': 698,\n",
              " 'पुछेर': 699,\n",
              " 'झ्यालमा': 700,\n",
              " 'बोले': 701,\n",
              " 'सपनाभित्र': 702,\n",
              " 'किनार': 703,\n",
              " 'मोहनी': 704,\n",
              " 'जुहार': 705,\n",
              " 'मिलेको': 706,\n",
              " 'मैना': 707,\n",
              " 'छोडी': 708,\n",
              " 'जलेर': 709,\n",
              " 'लाख': 710,\n",
              " 'भार': 711,\n",
              " 'जूनको': 712,\n",
              " 'कलङ्क': 713,\n",
              " 'देखेँ': 714,\n",
              " 'थोपा': 715,\n",
              " 'सडक': 716,\n",
              " 'जानु': 717,\n",
              " 'ठूला': 718,\n",
              " 'धेरै': 719,\n",
              " 'आफूलाई': 720,\n",
              " 'मुहान': 721,\n",
              " 'सानो': 722,\n",
              " 'मान्छे': 723,\n",
              " 'घाँटी': 724,\n",
              " 'गर्छौ': 725,\n",
              " 'टाढाको': 726,\n",
              " 'अन्त्यको': 727,\n",
              " 'गाढा': 728,\n",
              " 'भोटेले': 729,\n",
              " 'जहान': 730,\n",
              " 'दिलले': 731,\n",
              " 'घुट्का': 732,\n",
              " 'कठै': 733,\n",
              " 'बीच': 734,\n",
              " 'हावाको': 735,\n",
              " 'नरम': 736,\n",
              " 'राग': 737,\n",
              " 'रोग': 738,\n",
              " 'पोथी': 739,\n",
              " 'कला': 740,\n",
              " 'मानी': 741,\n",
              " 'मेघ': 742,\n",
              " 'कुकुर': 743,\n",
              " 'शब्द': 744,\n",
              " 'चञ्चल': 745,\n",
              " 'शरीर': 746,\n",
              " 'लाउन': 747,\n",
              " 'ऊ': 748,\n",
              " 'मनका': 749,\n",
              " 'स्वर': 750,\n",
              " 'बुट्टा': 751,\n",
              " 'सम्झेर': 752,\n",
              " 'चिडिया': 753,\n",
              " 'प्राणको': 754,\n",
              " 'सधैँको': 755,\n",
              " 'थियौ': 756,\n",
              " 'पुगेन': 757,\n",
              " 'झरेका': 758,\n",
              " 'अँगालो': 759,\n",
              " 'दुनियाँ': 760,\n",
              " 'वसन्त': 761,\n",
              " 'अक्षर': 762,\n",
              " 'बालक': 763,\n",
              " 'तेल': 764,\n",
              " 'तयार': 765,\n",
              " 'हुने': 766,\n",
              " 'भक्ति': 767,\n",
              " 'जान्छ': 768,\n",
              " 'भेट': 769,\n",
              " 'भिजेका': 770,\n",
              " 'झिल्का': 771,\n",
              " 'खोल': 772,\n",
              " 'इशारा': 773,\n",
              " 'औषधि': 774,\n",
              " 'गयौ': 775,\n",
              " 'खरानी': 776,\n",
              " 'फुल्दछ': 777,\n",
              " 'दिई': 778,\n",
              " 'बस्तिनँ': 779,\n",
              " 'वैद्यले': 780,\n",
              " 'कता': 781,\n",
              " 'बहिनी': 782,\n",
              " 'दिन्छु': 783,\n",
              " 'जसले': 784,\n",
              " 'कवि': 785,\n",
              " 'भन्छु': 786,\n",
              " 'मन्दिरमा': 787,\n",
              " 'करले': 788,\n",
              " 'मलम': 789,\n",
              " 'भिखारी': 790,\n",
              " 'अडि': 791,\n",
              " 'थुरथुर': 792,\n",
              " 'निशा': 793,\n",
              " 'आश': 794,\n",
              " 'बिलाएँ': 795,\n",
              " 'गुँड': 796,\n",
              " 'गुण': 797,\n",
              " 'जिउँछ': 798,\n",
              " 'स्वर्गले': 799,\n",
              " 'ठुँग्छ': 800,\n",
              " 'कुल्ची': 801,\n",
              " 'होश': 802,\n",
              " 'विधिले': 803,\n",
              " 'वेदना': 804,\n",
              " 'छौँ': 805,\n",
              " 'जलका': 806,\n",
              " 'मृदुल': 807,\n",
              " 'उल्टो': 808,\n",
              " 'विधिको': 809,\n",
              " 'भगवन्': 810,\n",
              " 'सामु': 811,\n",
              " 'बाफ': 812,\n",
              " 'शेष': 813,\n",
              " 'झार': 814,\n",
              " 'पुष्प': 815,\n",
              " 'कस्ती': 816,\n",
              " 'आ': 817,\n",
              " 'द्धार': 818,\n",
              " 'देखें': 819,\n",
              " 'आधा': 820,\n",
              " 'अवनी': 821,\n",
              " 'नाश': 822,\n",
              " 'बाक्लो': 823,\n",
              " 'जसको': 824,\n",
              " 'मानवताको': 825,\n",
              " 'भीम': 826,\n",
              " 'बुद्धि': 827,\n",
              " 'कमजोरी': 828,\n",
              " 'माने': 829,\n",
              " 'रस': 830,\n",
              " 'आफै': 831,\n",
              " 'सुर': 832,\n",
              " 'चरो': 833,\n",
              " 'तरबार': 834,\n",
              " 'भूर्भुव': 835,\n",
              " 'स्वः': 836,\n",
              " 'कालले': 837,\n",
              " 'बाढी': 838,\n",
              " 'क्रान्ति': 839,\n",
              " 'जा': 840,\n",
              " 'जली': 841,\n",
              " 'झिल्के': 842,\n",
              " 'अहो': 843,\n",
              " 'जलकण': 844,\n",
              " 'भने': 845,\n",
              " 'क्षुधा': 846,\n",
              " 'वयसी': 847,\n",
              " 'पङ्खमा': 848,\n",
              " 'बोल्छन्': 849,\n",
              " 'अतिथि': 850,\n",
              " 'हुन': 851,\n",
              " 'बन्न': 852,\n",
              " 'समाजको': 853,\n",
              " 'झर': 854,\n",
              " 'होऊ': 855,\n",
              " 'अति': 856,\n",
              " 'गुञ्जार': 857,\n",
              " 'सलिल': 858,\n",
              " 'मिलन': 859,\n",
              " 'घट': 860,\n",
              " 'सूनसान': 861,\n",
              " 'बनेर': 862,\n",
              " 'दिन्न': 863,\n",
              " 'अटूट': 864,\n",
              " 'फ्याक': 865,\n",
              " 'तृषा': 866,\n",
              " 'मिरमिर': 867,\n",
              " 'यात्रामा': 868,\n",
              " 'हरहर': 869,\n",
              " 'बतासमा': 870,\n",
              " 'उडानको': 871,\n",
              " 'चढ्': 872,\n",
              " 'लाखौं': 873,\n",
              " 'जय': 874,\n",
              " 'ननिभ्ने': 875,\n",
              " 'त्यसो': 876,\n",
              " 'जूनमा': 877,\n",
              " 'फेरी': 878,\n",
              " 'सक्छु': 879,\n",
              " 'राम': 880,\n",
              " 'भोटे': 881,\n",
              " 'हजुरको': 882,\n",
              " 'काँडा': 883,\n",
              " 'कसोरी': 884,\n",
              " 'टुहुरी': 885,\n",
              " 'मायाले': 886,\n",
              " 'छायाले': 887,\n",
              " 'जङ्गली': 888,\n",
              " 'छाडी': 889,\n",
              " 'मैला': 890,\n",
              " 'पाटी': 891,\n",
              " 'जग': 892,\n",
              " 'पयर': 893,\n",
              " 'जङ्घार': 894,\n",
              " 'गर्दा': 895,\n",
              " 'अमोल': 896,\n",
              " '–': 897,\n",
              " 'रुन': 898,\n",
              " 'नबोली': 899,\n",
              " 'सुकेको': 900,\n",
              " 'वैलेर': 901,\n",
              " 'कमलको': 902,\n",
              " 'मर्छ': 903,\n",
              " 'विना': 904,\n",
              " 'तिर्सना': 905,\n",
              " 'मुटुलाई': 906,\n",
              " 'भुरभुर': 907,\n",
              " 'नजरका': 908,\n",
              " 'खाडी': 909,\n",
              " 'नाघेर': 910,\n",
              " 'पखाली': 911,\n",
              " 'नमान': 912,\n",
              " 'नङ्गा': 913,\n",
              " 'हिउँले': 914,\n",
              " 'खम्बा': 915,\n",
              " 'खुट्टा': 916,\n",
              " 'चम्कन्छ': 917,\n",
              " 'ओछयान': 918,\n",
              " 'दाँत': 919,\n",
              " 'दरबार': 920,\n",
              " 'पर्दा': 921,\n",
              " 'मूर्ति': 922,\n",
              " 'हरिया': 923,\n",
              " 'आँकुरा': 924,\n",
              " 'सेता': 925,\n",
              " 'शहरका': 926,\n",
              " 'भोटेका': 927,\n",
              " 'माला': 928,\n",
              " 'अनौठा': 929,\n",
              " 'बटुवा': 930,\n",
              " 'हिमालको': 931,\n",
              " 'गरे': 932,\n",
              " 'बिर्सी': 933,\n",
              " 'ताप': 934,\n",
              " 'फुलको': 935,\n",
              " 'ठाडो': 936,\n",
              " 'डोरी': 937,\n",
              " 'विफल': 938,\n",
              " 'पहाडी': 939,\n",
              " 'प्रतिभा': 940,\n",
              " 'उनलाई': 941,\n",
              " 'नाची': 942,\n",
              " 'तालमा': 943,\n",
              " 'भरमा': 944,\n",
              " 'स्वभाव': 945,\n",
              " 'तपस्वी': 946,\n",
              " 'भन्दा': 947,\n",
              " 'बन': 948,\n",
              " 'कायामा': 949,\n",
              " 'जीवनको': 950,\n",
              " 'छायामा': 951,\n",
              " 'चुच्चो': 952,\n",
              " 'सुन्दरताको': 953,\n",
              " 'पाठो': 954,\n",
              " 'हिमालमा': 955,\n",
              " 'बोकेर': 956,\n",
              " 'हेर्थे': 957,\n",
              " 'दिनले': 958,\n",
              " 'स्वरुप': 959,\n",
              " 'माया': 960,\n",
              " 'चाँदनी': 961,\n",
              " 'भावको': 962,\n",
              " 'सधैँ': 963,\n",
              " 'घारी': 964,\n",
              " 'लामो': 965,\n",
              " 'खडा': 966,\n",
              " 'भेडाको': 967,\n",
              " 'पृथ्वीको': 968,\n",
              " 'दल': 969,\n",
              " 'सँगमा': 970,\n",
              " 'बादलको': 971,\n",
              " 'कलिला': 972,\n",
              " 'की': 973,\n",
              " 'चिन्ताले': 974,\n",
              " 'उदासी': 975,\n",
              " 'वर्षा': 976,\n",
              " 'देखे': 977,\n",
              " 'पन्छीको': 978,\n",
              " 'लुकाई': 979,\n",
              " 'फूलमा': 980,\n",
              " 'मानिसको': 981,\n",
              " 'हेर्\\u200dयो': 982,\n",
              " 'टुना': 983,\n",
              " 'तनको': 984,\n",
              " 'सौन्दर्य': 985,\n",
              " 'धोऊ': 986,\n",
              " 'हजूरको': 987,\n",
              " 'हाँसेको': 988,\n",
              " 'ह्लासामा': 989,\n",
              " 'यसरी': 990,\n",
              " 'मात्रै': 991,\n",
              " 'जस्तै': 992,\n",
              " 'आगोको': 993,\n",
              " 'भन्छिन्': 994,\n",
              " 'बुझ्यौ': 995,\n",
              " 'अरुका': 996,\n",
              " 'चाख': 997,\n",
              " 'हीरा': 998,\n",
              " 'कीरा': 999,\n",
              " 'जाल': 1000,\n",
              " ...}"
            ]
          },
          "metadata": {
            "tags": []
          },
          "execution_count": 159
        }
      ]
    },
    {
      "cell_type": "code",
      "metadata": {
        "id": "Zpn4luSLgiia"
      },
      "source": [
        ""
      ],
      "execution_count": null,
      "outputs": []
    }
  ]
}