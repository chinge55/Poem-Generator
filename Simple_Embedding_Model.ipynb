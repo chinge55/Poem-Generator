{
  "nbformat": 4,
  "nbformat_minor": 0,
  "metadata": {
    "colab": {
      "name": "Simple_Embedding_Model.ipynb",
      "provenance": [],
      "authorship_tag": "ABX9TyPUm97Bdz/dyIZDwwUiWUfe",
      "include_colab_link": true
    },
    "kernelspec": {
      "name": "python3",
      "display_name": "Python 3"
    },
    "accelerator": "GPU"
  },
  "cells": [
    {
      "cell_type": "markdown",
      "metadata": {
        "id": "view-in-github",
        "colab_type": "text"
      },
      "source": [
        "<a href=\"https://colab.research.google.com/github/chinge55/Poem-Generator/blob/main/Simple_Embedding_Model.ipynb\" target=\"_parent\"><img src=\"https://colab.research.google.com/assets/colab-badge.svg\" alt=\"Open In Colab\"/></a>"
      ]
    },
    {
      "cell_type": "code",
      "metadata": {
        "colab": {
          "base_uri": "https://localhost:8080/"
        },
        "id": "cyEFXArJMJqw",
        "outputId": "6e09f688-c39c-4414-979e-8b26fab76ba4"
      },
      "source": [
        "!git clone https://github.com/devkotasawal1/Poem-Generator"
      ],
      "execution_count": 1,
      "outputs": [
        {
          "output_type": "stream",
          "text": [
            "fatal: destination path 'Poem-Generator' already exists and is not an empty directory.\n"
          ],
          "name": "stdout"
        }
      ]
    },
    {
      "cell_type": "code",
      "metadata": {
        "id": "3l-y6n-eMgem"
      },
      "source": [
        "import matplotlib.pyplot as plt\r\n",
        "import tensorflow as tf\r\n",
        "\r\n",
        "import numpy as np\r\n",
        "import os\r\n",
        "import time"
      ],
      "execution_count": 2,
      "outputs": []
    },
    {
      "cell_type": "code",
      "metadata": {
        "id": "SX0wF7bnTB1x"
      },
      "source": [
        "path_to_file = \"Poem-Generator/lspd.txt\""
      ],
      "execution_count": 3,
      "outputs": []
    },
    {
      "cell_type": "code",
      "metadata": {
        "colab": {
          "base_uri": "https://localhost:8080/"
        },
        "id": "1zRNvme-TInN",
        "outputId": "54d5c48a-f872-4284-aa5f-cea195fb285c"
      },
      "source": [
        "# Read, then decode for py2 compat.\r\n",
        "text = open(path_to_file, 'rb').read().decode(encoding='utf-8')\r\n",
        "# length of text is the number of characters in it\r\n",
        "print('Length of text: {} characters'.format(len(text)))"
      ],
      "execution_count": 4,
      "outputs": [
        {
          "output_type": "stream",
          "text": [
            "Length of text: 119162 characters\n"
          ],
          "name": "stdout"
        }
      ]
    },
    {
      "cell_type": "code",
      "metadata": {
        "colab": {
          "base_uri": "https://localhost:8080/"
        },
        "id": "uCXQh964Ngtu",
        "outputId": "06c6b95f-b4df-4b8e-a41b-d120ba083aad"
      },
      "source": [
        "print(text[:250])"
      ],
      "execution_count": 5,
      "outputs": [
        {
          "output_type": "stream",
          "text": [
            "नछाडी जानोस् हे मेरा प्राण ! अकेली मलाई,\n",
            "मनको वनमा ननिभ्ने गरी विरह जलाई !\n",
            "ननिभ्ने गरी विरह जलाई,\n",
            "लोचनका तारा ! हे मेर प्यारा ! यो जोति  बिलाए !\n",
            "के भनूँ? भन्ने म केही थिइन  विष नै पिलाए !\n",
            "प्यारा ! विष नै पिलाए !\n",
            "मनको कुरा गलामा अड्छ, अड्कन्छ गलामा,\n",
            "य\n"
          ],
          "name": "stdout"
        }
      ]
    },
    {
      "cell_type": "code",
      "metadata": {
        "colab": {
          "base_uri": "https://localhost:8080/"
        },
        "id": "bGUQLPgcTOsK",
        "outputId": "b7db23de-3553-4e0f-e7e5-a9d2d42b7226"
      },
      "source": [
        "# The unique characters in the file\r\n",
        "vocab = sorted(set(text))\r\n",
        "print('{} unique characters'.format(len(vocab)))"
      ],
      "execution_count": 6,
      "outputs": [
        {
          "output_type": "stream",
          "text": [
            "74 unique characters\n"
          ],
          "name": "stdout"
        }
      ]
    },
    {
      "cell_type": "code",
      "metadata": {
        "id": "w29QiPdETSG9"
      },
      "source": [
        "char2idx = {u:i for i, u in enumerate(vocab)}\r\n",
        "idx2char = np.array(vocab)\r\n",
        "\r\n",
        "text_as_int = np.array([char2idx[c] for c in text])"
      ],
      "execution_count": 7,
      "outputs": []
    },
    {
      "cell_type": "code",
      "metadata": {
        "colab": {
          "base_uri": "https://localhost:8080/"
        },
        "id": "htnsN_U_TW2T",
        "outputId": "40e71cfc-5004-4f7b-ccd4-5a6d5944f2c3"
      },
      "source": [
        "print('{')\r\n",
        "for char,_ in zip(char2idx, range(20)):\r\n",
        "    print('  {:4s}: {:3d},'.format(repr(char), char2idx[char]))\r\n",
        "print('  ...\\n}')"
      ],
      "execution_count": 8,
      "outputs": [
        {
          "output_type": "stream",
          "text": [
            "{\n",
            "  '\\n':   0,\n",
            "  ' ' :   1,\n",
            "  '!' :   2,\n",
            "  ',' :   3,\n",
            "  '.' :   4,\n",
            "  ':' :   5,\n",
            "  ';' :   6,\n",
            "  '?' :   7,\n",
            "  'ँ' :   8,\n",
            "  'ं' :   9,\n",
            "  'ः' :  10,\n",
            "  'अ' :  11,\n",
            "  'आ' :  12,\n",
            "  'इ' :  13,\n",
            "  'ई' :  14,\n",
            "  'उ' :  15,\n",
            "  'ऊ' :  16,\n",
            "  'ऋ' :  17,\n",
            "  'ए' :  18,\n",
            "  'ऐ' :  19,\n",
            "  ...\n",
            "}\n"
          ],
          "name": "stdout"
        }
      ]
    },
    {
      "cell_type": "code",
      "metadata": {
        "colab": {
          "base_uri": "https://localhost:8080/"
        },
        "id": "OIt1GGcgTc19",
        "outputId": "f8659983-9e21-460a-a8df-04d3f2772c90"
      },
      "source": [
        "# Show how the first 13 characters from the text are mapped to integers\r\n",
        "print('{} ---- characters mapped to int ---- > {}'.format(repr(text[:13]), text_as_int[:13]))"
      ],
      "execution_count": 9,
      "outputs": [
        {
          "output_type": "stream",
          "text": [
            "'नछाडी जानोस् ' ---- characters mapped to int ---- > [41 28 55 34 57  1 29 55 41 63 53 65  1]\n"
          ],
          "name": "stdout"
        }
      ]
    },
    {
      "cell_type": "code",
      "metadata": {
        "colab": {
          "base_uri": "https://localhost:8080/"
        },
        "id": "Ec88LenrTgoV",
        "outputId": "f41488cd-b1cf-407c-86f2-569483126593"
      },
      "source": [
        "seq_length = 100\r\n",
        "examples_per_epoch = len(text)//(seq_length + 1)\r\n",
        "examples_per_epoch"
      ],
      "execution_count": 10,
      "outputs": [
        {
          "output_type": "execute_result",
          "data": {
            "text/plain": [
              "1179"
            ]
          },
          "metadata": {
            "tags": []
          },
          "execution_count": 10
        }
      ]
    },
    {
      "cell_type": "code",
      "metadata": {
        "colab": {
          "base_uri": "https://localhost:8080/"
        },
        "id": "9ah9_3bkTq9G",
        "outputId": "65b18ca4-62c9-4904-c00f-a7671b74ed7c"
      },
      "source": [
        "char_dataset = tf.data.Dataset.from_tensor_slices(text_as_int)\r\n",
        "\r\n",
        "for i in char_dataset.take(5):\r\n",
        "  print(idx2char[i.numpy()])"
      ],
      "execution_count": 11,
      "outputs": [
        {
          "output_type": "stream",
          "text": [
            "न\n",
            "छ\n",
            "ा\n",
            "ड\n",
            "ी\n"
          ],
          "name": "stdout"
        }
      ]
    },
    {
      "cell_type": "code",
      "metadata": {
        "colab": {
          "base_uri": "https://localhost:8080/"
        },
        "id": "qdACH30oT2L9",
        "outputId": "ddcac779-7cde-490b-9245-745aa053c076"
      },
      "source": [
        "sequences = char_dataset.batch(seq_length+1, drop_remainder=True)\r\n",
        "\r\n",
        "for item in sequences.take(5):\r\n",
        "    print(repr(''.join(idx2char[item.numpy()])))"
      ],
      "execution_count": 12,
      "outputs": [
        {
          "output_type": "stream",
          "text": [
            "'नछाडी जानोस् हे मेरा प्राण ! अकेली मलाई,\\nमनको वनमा ननिभ्ने गरी विरह जलाई !\\nननिभ्ने गरी विरह जलाई,\\nलोच'\n",
            "'नका तारा ! हे मेर प्यारा ! यो जोति  बिलाए !\\nके भनूँ? भन्ने म केही थिइन  विष नै पिलाए !\\nप्यारा ! विष न'\n",
            "'ै पिलाए !\\nमनको कुरा गलामा अड्छ, अड्कन्छ गलामा,\\nयो मेरो मुटु पचासबाजी धड्कन्छ पलामा ।\\nयो छाती मेरो चिर'\n",
            "'ेर खोली नजर गराए,\\nत्यो मन केही फर्कंदो होला, तस्विर खुलाए\\nआँसुमा खस्छ मनको टुक्रा यो आँसु बोल्दैन,\\nमन'\n",
            "'को कुरा मनमै बस्छ, छातिले खोल्दैन,\\nप्यारा ! आँसुले बोल्दैन !\\nहे मेरी मुना ! नभन त्यसो, जूनमा फुलेकी !'\n"
          ],
          "name": "stdout"
        }
      ]
    },
    {
      "cell_type": "code",
      "metadata": {
        "id": "vh7oyDFwW6gG"
      },
      "source": [
        "def split_input_target(chunk):\r\n",
        "    input_text = chunk[:-1]\r\n",
        "    target_text = chunk[1:]\r\n",
        "    return input_text, target_text\r\n",
        "\r\n",
        "dataset = sequences.map(split_input_target)"
      ],
      "execution_count": 13,
      "outputs": []
    },
    {
      "cell_type": "code",
      "metadata": {
        "colab": {
          "base_uri": "https://localhost:8080/"
        },
        "id": "JLnEqpR9XBT9",
        "outputId": "daa2cd78-aa4e-4a8b-ae3a-1316d8c2cd87"
      },
      "source": [
        "for input_example, target_example in  dataset.take(1):\r\n",
        "    print('Input data: ', repr(''.join(idx2char[input_example.numpy()])))\r\n",
        "    print('Target data:', repr(''.join(idx2char[target_example.numpy()])))"
      ],
      "execution_count": 14,
      "outputs": [
        {
          "output_type": "stream",
          "text": [
            "Input data:  'नछाडी जानोस् हे मेरा प्राण ! अकेली मलाई,\\nमनको वनमा ननिभ्ने गरी विरह जलाई !\\nननिभ्ने गरी विरह जलाई,\\nलो'\n",
            "Target data: 'छाडी जानोस् हे मेरा प्राण ! अकेली मलाई,\\nमनको वनमा ननिभ्ने गरी विरह जलाई !\\nननिभ्ने गरी विरह जलाई,\\nलोच'\n"
          ],
          "name": "stdout"
        }
      ]
    },
    {
      "cell_type": "code",
      "metadata": {
        "colab": {
          "base_uri": "https://localhost:8080/"
        },
        "id": "fZBnP9ovXFSR",
        "outputId": "248fbb27-4f1e-48b9-8a08-e04465198cda"
      },
      "source": [
        "# Batch size\r\n",
        "BATCH_SIZE = 64\r\n",
        "\r\n",
        "# Buffer size to shuffle the dataset\r\n",
        "# (TF data is designed to work with possibly infinite sequences,\r\n",
        "# so it doesn't attempt to shuffle the entire sequence in memory. Instead,\r\n",
        "# it maintains a buffer in which it shuffles elements).\r\n",
        "BUFFER_SIZE = 10000\r\n",
        "\r\n",
        "dataset = dataset.shuffle(BUFFER_SIZE).batch(BATCH_SIZE, drop_remainder=True)\r\n",
        "\r\n",
        "dataset"
      ],
      "execution_count": 15,
      "outputs": [
        {
          "output_type": "execute_result",
          "data": {
            "text/plain": [
              "<BatchDataset shapes: ((64, 100), (64, 100)), types: (tf.int64, tf.int64)>"
            ]
          },
          "metadata": {
            "tags": []
          },
          "execution_count": 15
        }
      ]
    },
    {
      "cell_type": "code",
      "metadata": {
        "colab": {
          "base_uri": "https://localhost:8080/"
        },
        "id": "PTHG2HQ_XTY_",
        "outputId": "98d6ba6d-b339-4959-cf48-13d0a4d09624"
      },
      "source": [
        "# Length of the vocabulary in chars\r\n",
        "vocab_size = len(vocab)\r\n",
        "\r\n",
        "# The embedding dimension\r\n",
        "embedding_dim = 256\r\n",
        "\r\n",
        "# Number of RNN units\r\n",
        "rnn_units = 1024\r\n",
        "vocab_size"
      ],
      "execution_count": 16,
      "outputs": [
        {
          "output_type": "execute_result",
          "data": {
            "text/plain": [
              "74"
            ]
          },
          "metadata": {
            "tags": []
          },
          "execution_count": 16
        }
      ]
    },
    {
      "cell_type": "code",
      "metadata": {
        "id": "UsiAAf8nXec0"
      },
      "source": [
        "def build_model(vocab_size, embedding_dim, rnn_units, batch_size):\r\n",
        "    model = tf.keras.Sequential([\r\n",
        "        tf.keras.layers.Embedding(vocab_size, embedding_dim,\r\n",
        "                                  batch_input_shape=[batch_size, None]),\r\n",
        "        tf.keras.layers.GRU(rnn_units,\r\n",
        "                            return_sequences=True,\r\n",
        "                            stateful=True,\r\n",
        "                            recurrent_initializer='glorot_uniform'),\r\n",
        "        tf.keras.layers.Dense(vocab_size)\r\n",
        "    ])\r\n",
        "    return model"
      ],
      "execution_count": 17,
      "outputs": []
    },
    {
      "cell_type": "code",
      "metadata": {
        "id": "bbHe39SIXnRe"
      },
      "source": [
        "model = build_model(\r\n",
        "    vocab_size=len(vocab),\r\n",
        "    embedding_dim=embedding_dim,\r\n",
        "    rnn_units=rnn_units,\r\n",
        "    batch_size=BATCH_SIZE)"
      ],
      "execution_count": 18,
      "outputs": []
    },
    {
      "cell_type": "code",
      "metadata": {
        "colab": {
          "base_uri": "https://localhost:8080/"
        },
        "id": "yjRZrg1NXpm4",
        "outputId": "128821d6-c7c4-43fa-c79b-b6575bbe75aa"
      },
      "source": [
        "for input_example_batch, target_example_batch in dataset.take(1):\r\n",
        "    example_batch_predictions = model(input_example_batch)\r\n",
        "    print(example_batch_predictions.shape, \"# (batch_size, sequence_length, vocab_size)\")"
      ],
      "execution_count": 19,
      "outputs": [
        {
          "output_type": "stream",
          "text": [
            "(64, 100, 74) # (batch_size, sequence_length, vocab_size)\n"
          ],
          "name": "stdout"
        }
      ]
    },
    {
      "cell_type": "code",
      "metadata": {
        "colab": {
          "base_uri": "https://localhost:8080/"
        },
        "id": "tteHyDo-Xstq",
        "outputId": "1fff5e1d-5641-4ada-c844-29b1af63a68f"
      },
      "source": [
        "model.summary()"
      ],
      "execution_count": 20,
      "outputs": [
        {
          "output_type": "stream",
          "text": [
            "Model: \"sequential\"\n",
            "_________________________________________________________________\n",
            "Layer (type)                 Output Shape              Param #   \n",
            "=================================================================\n",
            "embedding (Embedding)        (64, None, 256)           18944     \n",
            "_________________________________________________________________\n",
            "gru (GRU)                    (64, None, 1024)          3938304   \n",
            "_________________________________________________________________\n",
            "dense (Dense)                (64, None, 74)            75850     \n",
            "=================================================================\n",
            "Total params: 4,033,098\n",
            "Trainable params: 4,033,098\n",
            "Non-trainable params: 0\n",
            "_________________________________________________________________\n"
          ],
          "name": "stdout"
        }
      ]
    },
    {
      "cell_type": "code",
      "metadata": {
        "id": "YJDYvZV7XvEE"
      },
      "source": [
        "sampled_indices = tf.random.categorical(example_batch_predictions[0], num_samples=1)\r\n",
        "sampled_indices = tf.squeeze(sampled_indices,axis=-1).numpy()"
      ],
      "execution_count": 21,
      "outputs": []
    },
    {
      "cell_type": "code",
      "metadata": {
        "colab": {
          "base_uri": "https://localhost:8080/"
        },
        "id": "uIfKovmdXy3c",
        "outputId": "b456bc95-6523-4a87-ad83-0c7b55bb2822"
      },
      "source": [
        "sampled_indices"
      ],
      "execution_count": 22,
      "outputs": [
        {
          "output_type": "execute_result",
          "data": {
            "text/plain": [
              "array([ 7, 72, 57, 50, 10, 38, 56, 15, 49,  4, 63, 40, 26, 73, 70, 59, 65,\n",
              "       65, 10, 38, 49,  0, 61, 69, 59, 49, 64, 15, 34, 27, 20, 66, 44,  4,\n",
              "       33, 32, 62, 19, 36, 39, 45, 31, 32, 54, 49, 54, 56, 20, 61, 38, 61,\n",
              "       69, 45, 59, 16, 68, 49, 73, 63, 37, 66, 29,  8, 65, 59,  5, 29, 47,\n",
              "       63, 54, 41,  1, 23, 14,  2, 37, 12, 11, 59, 65, 63, 16, 65, 12, 58,\n",
              "       26, 29, 64,  4, 16, 62, 43, 26, 26, 66, 31, 57, 40,  9, 60])"
            ]
          },
          "metadata": {
            "tags": []
          },
          "execution_count": 22
        }
      ]
    },
    {
      "cell_type": "code",
      "metadata": {
        "colab": {
          "base_uri": "https://localhost:8080/"
        },
        "id": "RWwlM1U4X2Lq",
        "outputId": "c30318c4-0a0d-4aa6-ee81-1c5c6ba31d7c"
      },
      "source": [
        "print(\"Input: \\n\", repr(\"\".join(idx2char[input_example_batch[0]])))\r\n",
        "print()\r\n",
        "print(\"Next Char Predictions: \\n\", repr(\"\".join(idx2char[sampled_indices ])))"
      ],
      "execution_count": 23,
      "outputs": [
        {
          "output_type": "stream",
          "text": [
            "Input: \n",
            " '!\\nकस्तो कल्पिनसक्नु सुन्दर\\nहोला त्यो ?\\nराम्रो सम्झी हामी रुन्छौँ\\nअवनीमा !\\nहाम्रा कणझैं देख्छौ तारा,\\n'\n",
            "\n",
            "Next Char Predictions: \n",
            " '?“ीवःथिउल.ोधङ”‘ू््ःथल\\nे–ूलौउडचओॐब.ठटैऐणदभञटहलहिओेथे–भूऊ\\u200dल”ोतॐजँ्ू:जयोहन खई!तआअू्ोऊ्आुङजौ.ऊैफङङॐञीधंृ'\n"
          ],
          "name": "stdout"
        }
      ]
    },
    {
      "cell_type": "code",
      "metadata": {
        "colab": {
          "base_uri": "https://localhost:8080/"
        },
        "id": "q3eQWTLtX5ZH",
        "outputId": "e00232f1-6c63-4598-96e5-c65cbfbe7511"
      },
      "source": [
        "def loss(labels, logits):\r\n",
        "    return tf.keras.losses.sparse_categorical_crossentropy(labels, logits, from_logits=True)\r\n",
        "\r\n",
        "example_batch_loss = loss(target_example_batch, example_batch_predictions)\r\n",
        "print(\"Prediction shape: \", example_batch_predictions.shape, \" # (batch_size, sequence_length, vocab_size)\")\r\n",
        "print(\"scalar_loss:      \", example_batch_loss.numpy().mean())"
      ],
      "execution_count": 24,
      "outputs": [
        {
          "output_type": "stream",
          "text": [
            "Prediction shape:  (64, 100, 74)  # (batch_size, sequence_length, vocab_size)\n",
            "scalar_loss:       4.304136\n"
          ],
          "name": "stdout"
        }
      ]
    },
    {
      "cell_type": "code",
      "metadata": {
        "id": "uQRYgFiGX-Ed"
      },
      "source": [
        "model.compile(optimizer='adam', loss=loss, metrics = ['acc'])"
      ],
      "execution_count": 25,
      "outputs": []
    },
    {
      "cell_type": "code",
      "metadata": {
        "id": "oWIr3v17YA-6"
      },
      "source": [
        "# Directory where the checkpoints will be saved\r\n",
        "checkpoint_dir = './training_checkpoints'\r\n",
        "# Name of the checkpoint files\r\n",
        "checkpoint_prefix = os.path.join(checkpoint_dir, \"ckpt_{epoch}\")\r\n",
        "\r\n",
        "checkpoint_callback = tf.keras.callbacks.ModelCheckpoint(\r\n",
        "    filepath=checkpoint_prefix,\r\n",
        "    save_weights_only=True)"
      ],
      "execution_count": 26,
      "outputs": []
    },
    {
      "cell_type": "code",
      "metadata": {
        "id": "P4CIAHjkYCk0"
      },
      "source": [
        "EPOCHS = 50"
      ],
      "execution_count": 27,
      "outputs": []
    },
    {
      "cell_type": "code",
      "metadata": {
        "colab": {
          "base_uri": "https://localhost:8080/"
        },
        "id": "Aq1Y-aweYENk",
        "outputId": "9d3407d2-9334-47ef-f6d9-57a3051def85"
      },
      "source": [
        "history = model.fit(dataset, epochs=EPOCHS, callbacks=[checkpoint_callback])"
      ],
      "execution_count": 28,
      "outputs": [
        {
          "output_type": "stream",
          "text": [
            "Epoch 1/50\n",
            "18/18 [==============================] - 2s 59ms/step - loss: 4.4969 - acc: 0.1044\n",
            "Epoch 2/50\n",
            "18/18 [==============================] - 1s 57ms/step - loss: 3.5879 - acc: 0.1222\n",
            "Epoch 3/50\n",
            "18/18 [==============================] - 1s 57ms/step - loss: 3.1824 - acc: 0.2151\n",
            "Epoch 4/50\n",
            "18/18 [==============================] - 1s 58ms/step - loss: 2.8584 - acc: 0.2574\n",
            "Epoch 5/50\n",
            "18/18 [==============================] - 1s 58ms/step - loss: 2.7361 - acc: 0.2714\n",
            "Epoch 6/50\n",
            "18/18 [==============================] - 1s 60ms/step - loss: 2.6689 - acc: 0.2801\n",
            "Epoch 7/50\n",
            "18/18 [==============================] - 1s 59ms/step - loss: 2.6333 - acc: 0.2852\n",
            "Epoch 8/50\n",
            "18/18 [==============================] - 1s 60ms/step - loss: 2.5939 - acc: 0.2921\n",
            "Epoch 9/50\n",
            "18/18 [==============================] - 1s 61ms/step - loss: 2.5579 - acc: 0.3025\n",
            "Epoch 10/50\n",
            "18/18 [==============================] - 1s 60ms/step - loss: 2.5265 - acc: 0.3069\n",
            "Epoch 11/50\n",
            "18/18 [==============================] - 1s 59ms/step - loss: 2.4956 - acc: 0.3157\n",
            "Epoch 12/50\n",
            "18/18 [==============================] - 1s 60ms/step - loss: 2.4647 - acc: 0.3221\n",
            "Epoch 13/50\n",
            "18/18 [==============================] - 1s 59ms/step - loss: 2.4216 - acc: 0.3310\n",
            "Epoch 14/50\n",
            "18/18 [==============================] - 1s 60ms/step - loss: 2.3923 - acc: 0.3397\n",
            "Epoch 15/50\n",
            "18/18 [==============================] - 1s 60ms/step - loss: 2.3590 - acc: 0.3469\n",
            "Epoch 16/50\n",
            "18/18 [==============================] - 1s 60ms/step - loss: 2.3329 - acc: 0.3540\n",
            "Epoch 17/50\n",
            "18/18 [==============================] - 1s 60ms/step - loss: 2.2969 - acc: 0.3596\n",
            "Epoch 18/50\n",
            "18/18 [==============================] - 1s 60ms/step - loss: 2.2732 - acc: 0.3684\n",
            "Epoch 19/50\n",
            "18/18 [==============================] - 1s 60ms/step - loss: 2.2416 - acc: 0.3721\n",
            "Epoch 20/50\n",
            "18/18 [==============================] - 1s 61ms/step - loss: 2.2121 - acc: 0.3804\n",
            "Epoch 21/50\n",
            "18/18 [==============================] - 1s 61ms/step - loss: 2.1868 - acc: 0.3861\n",
            "Epoch 22/50\n",
            "18/18 [==============================] - 1s 61ms/step - loss: 2.1393 - acc: 0.4000\n",
            "Epoch 23/50\n",
            "18/18 [==============================] - 1s 61ms/step - loss: 2.1086 - acc: 0.4067\n",
            "Epoch 24/50\n",
            "18/18 [==============================] - 1s 61ms/step - loss: 2.0655 - acc: 0.4173\n",
            "Epoch 25/50\n",
            "18/18 [==============================] - 1s 61ms/step - loss: 2.0327 - acc: 0.4279\n",
            "Epoch 26/50\n",
            "18/18 [==============================] - 1s 62ms/step - loss: 1.9808 - acc: 0.4430\n",
            "Epoch 27/50\n",
            "18/18 [==============================] - 1s 61ms/step - loss: 1.9427 - acc: 0.4505\n",
            "Epoch 28/50\n",
            "18/18 [==============================] - 1s 62ms/step - loss: 1.8908 - acc: 0.4658\n",
            "Epoch 29/50\n",
            "18/18 [==============================] - 1s 61ms/step - loss: 1.8444 - acc: 0.4756\n",
            "Epoch 30/50\n",
            "18/18 [==============================] - 1s 62ms/step - loss: 1.7876 - acc: 0.4912\n",
            "Epoch 31/50\n",
            "18/18 [==============================] - 1s 62ms/step - loss: 1.7397 - acc: 0.5049\n",
            "Epoch 32/50\n",
            "18/18 [==============================] - 1s 62ms/step - loss: 1.6679 - acc: 0.5261\n",
            "Epoch 33/50\n",
            "18/18 [==============================] - 1s 62ms/step - loss: 1.6043 - acc: 0.5428\n",
            "Epoch 34/50\n",
            "18/18 [==============================] - 1s 62ms/step - loss: 1.5341 - acc: 0.5660\n",
            "Epoch 35/50\n",
            "18/18 [==============================] - 1s 61ms/step - loss: 1.4591 - acc: 0.5900\n",
            "Epoch 36/50\n",
            "18/18 [==============================] - 1s 62ms/step - loss: 1.3827 - acc: 0.6132\n",
            "Epoch 37/50\n",
            "18/18 [==============================] - 1s 60ms/step - loss: 1.2997 - acc: 0.6412\n",
            "Epoch 38/50\n",
            "18/18 [==============================] - 1s 61ms/step - loss: 1.2041 - acc: 0.6731\n",
            "Epoch 39/50\n",
            "18/18 [==============================] - 1s 61ms/step - loss: 1.1077 - acc: 0.7051\n",
            "Epoch 40/50\n",
            "18/18 [==============================] - 1s 60ms/step - loss: 1.0254 - acc: 0.7367\n",
            "Epoch 41/50\n",
            "18/18 [==============================] - 1s 61ms/step - loss: 0.9227 - acc: 0.7721\n",
            "Epoch 42/50\n",
            "18/18 [==============================] - 1s 61ms/step - loss: 0.8287 - acc: 0.8048\n",
            "Epoch 43/50\n",
            "18/18 [==============================] - 1s 61ms/step - loss: 0.7549 - acc: 0.8314\n",
            "Epoch 44/50\n",
            "18/18 [==============================] - 1s 60ms/step - loss: 0.6769 - acc: 0.8593\n",
            "Epoch 45/50\n",
            "18/18 [==============================] - 1s 61ms/step - loss: 0.6062 - acc: 0.8839\n",
            "Epoch 46/50\n",
            "18/18 [==============================] - 1s 61ms/step - loss: 0.5354 - acc: 0.9047\n",
            "Epoch 47/50\n",
            "18/18 [==============================] - 1s 61ms/step - loss: 0.4810 - acc: 0.9200\n",
            "Epoch 48/50\n",
            "18/18 [==============================] - 1s 61ms/step - loss: 0.4334 - acc: 0.9324\n",
            "Epoch 49/50\n",
            "18/18 [==============================] - 1s 60ms/step - loss: 0.3925 - acc: 0.9405\n",
            "Epoch 50/50\n",
            "18/18 [==============================] - 1s 61ms/step - loss: 0.3633 - acc: 0.9451\n"
          ],
          "name": "stdout"
        }
      ]
    },
    {
      "cell_type": "code",
      "metadata": {
        "colab": {
          "base_uri": "https://localhost:8080/",
          "height": 295
        },
        "id": "sO8iO_wndcBW",
        "outputId": "82e7118e-39e3-4c34-94e2-e00ebd4ea0ab"
      },
      "source": [
        "loss_train = history.history['loss']\r\n",
        "epochs = range(1,len(history.history['acc'])+1)\r\n",
        "plt.plot(epochs, loss_train, 'g', label='Training loss')\r\n",
        "plt.title('Training loss')\r\n",
        "plt.xlabel('Epochs')\r\n",
        "plt.ylabel('Loss')\r\n",
        "plt.legend()\r\n",
        "plt.show()"
      ],
      "execution_count": 29,
      "outputs": [
        {
          "output_type": "display_data",
          "data": {
            "image/png": "[encoded data removed]",
            "text/plain": [
              "<Figure size 432x288 with 1 Axes>"
            ]
          },
          "metadata": {
            "tags": [],
            "needs_background": "light"
          }
        }
      ]
    },
    {
      "cell_type": "code",
      "metadata": {
        "id": "ZJzB6Fq6YuhI"
      },
      "source": [
        "def generate_text(model, start_string):\r\n",
        "    # Evaluation step (generating text using the learned model)\r\n",
        "\r\n",
        "    # Number of characters to generate\r\n",
        "    num_generate = 1000\r\n",
        "\r\n",
        "    # Converting our start string to numbers (vectorizing)\r\n",
        "    input_eval = [char2idx[s] for s in start_string]\r\n",
        "    input_eval = tf.expand_dims(input_eval, 0)\r\n",
        "\r\n",
        "    # Empty string to store our results\r\n",
        "    text_generated = []\r\n",
        "\r\n",
        "    # Low temperature results in more predictable text.\r\n",
        "    # Higher temperature results in more surprising text.\r\n",
        "    # Experiment to find the best setting.\r\n",
        "    temperature = 1.0\r\n",
        "\r\n",
        "    # Here batch size == 1\r\n",
        "    model.reset_states()\r\n",
        "    for i in range(num_generate):\r\n",
        "        predictions = model(input_eval)\r\n",
        "        # remove the batch dimension\r\n",
        "        predictions = tf.squeeze(predictions, 0)\r\n",
        "\r\n",
        "        # using a categorical distribution to predict the character returned by the model\r\n",
        "        predictions = predictions / temperature\r\n",
        "        predicted_id = tf.random.categorical(predictions, num_samples=1)[-1,0].numpy()\r\n",
        "\r\n",
        "        # Pass the predicted character as the next input to the model\r\n",
        "        # along with the previous hidden state\r\n",
        "        input_eval = tf.expand_dims([predicted_id], 0)\r\n",
        "\r\n",
        "        text_generated.append(idx2char[predicted_id])\r\n",
        "\r\n",
        "    return (start_string + ''.join(text_generated))"
      ],
      "execution_count": 30,
      "outputs": []
    },
    {
      "cell_type": "code",
      "metadata": {
        "colab": {
          "base_uri": "https://localhost:8080/",
          "height": 35
        },
        "id": "15AFM-PvY97K",
        "outputId": "00beb251-615c-40cf-e72f-2aa52950a1b4"
      },
      "source": [
        "tf.train.latest_checkpoint(checkpoint_dir)"
      ],
      "execution_count": 31,
      "outputs": [
        {
          "output_type": "execute_result",
          "data": {
            "application/vnd.google.colaboratory.intrinsic+json": {
              "type": "string"
            },
            "text/plain": [
              "'./training_checkpoints/ckpt_50'"
            ]
          },
          "metadata": {
            "tags": []
          },
          "execution_count": 31
        }
      ]
    },
    {
      "cell_type": "code",
      "metadata": {
        "id": "0tQxhvigY_qJ"
      },
      "source": [
        "model = build_model(vocab_size, embedding_dim, rnn_units, batch_size=1)\r\n",
        "\r\n",
        "model.load_weights(tf.train.latest_checkpoint(checkpoint_dir))\r\n",
        "\r\n",
        "model.build(tf.TensorShape([1, None]))"
      ],
      "execution_count": 32,
      "outputs": []
    },
    {
      "cell_type": "code",
      "metadata": {
        "colab": {
          "base_uri": "https://localhost:8080/"
        },
        "id": "N8sknnCNYv3C",
        "outputId": "098862e9-b12b-4fae-c12f-f5b8b7fcd791"
      },
      "source": [
        "print(generate_text(model, start_string=\"हे मेरी मुना\"))"
      ],
      "execution_count": 35,
      "outputs": [
        {
          "output_type": "stream",
          "text": [
            "हे मेरी मुना !! ओहार्छ !\n",
            "म महिता ! प्रतिडे म !\n",
            "मुस्किनौ ?\n",
            "मुस्की बनैन्, तिनमा पाइन्न !’\n",
            "‘सजी कणु लिन्छुमा गुँजगुल बन्नेका रे !\n",
            "सूनसान भो त्रासले मुस्काँला अब, सुवारि सिथरी–मुसबाई तान्छ तिमी नै,\n",
            "मोटीहरुमा गाता भएर यो !\n",
            "बच्चाहरुको सूत्र सर्खीभित्र माति नभेख्तो ल्या।\n",
            "फूल कहान्या होइन यो त !\n",
            "ति सो आमा ! ए युवता गुणा भए,\n",
            "सिथी शङ्का–नापी जनी,\n",
            "बजापहरूको हातमा !\n",
            "कलाको राम्रो हजूरको पाउन ल्यो केव दुःखीन् तीबाली\n",
            "सम्झँदाहरुको सङ्गारको यो आदूभरूली,\n",
            "ढलक्मको डडल होला श्रीज भिलाको\n",
            "विरमज्री, ढल्क्यो प्रलय गर्दैन !\n",
            "चाहन्छौँ हुन, भोरिजो यतीको मुटु पङ्खले छ्ँदैन !\n",
            "पुछनध्यौ  आँसु न ।\n",
            "‘जुनुला हर्‍यौ किमी क्या ली !\n",
            "बुज्रुक्ष तल्पे मिलिई देव्य सिरमाथि\n",
            "भएर आँशुको नजर ।\n",
            "मदनशी त्यो बिच्ति छ मानव ह्लासा लगतमा गुलेको !\n",
            "मलाई माग चाहियो ! म दृष्टा लगन ! हा ! म !\n",
            "घर !\n",
            "बुझाउँछे मन !\n",
            "शीघ्र शेरका दृग जाल छ !\n",
            "म मूर्छिन बादल ।\n",
            "मीठो दे भन्छु याग्यो आकाश रथाई,\n",
            "कलेजाका लीवन अभो ठोला दियो छुमादित नि ज्ञान ।\n",
            "आखीर शूल गर्दछिइन् ।\n",
            " हे पिनका मना–दिनले प्रतिभा प्रभातमा ।\n",
            "कलिलो तिम्रो शरीरमा काँचेको ।\n",
            "विकारको एर मुसाडझूफ चिन्छु वै खिज्ली पूर्\n"
          ],
          "name": "stdout"
        }
      ]
    },
    {
      "cell_type": "code",
      "metadata": {
        "id": "4TezB9tBYzLS"
      },
      "source": [
        ""
      ],
      "execution_count": 33,
      "outputs": []
    }
  ]
}