{
  "nbformat": 4,
  "nbformat_minor": 0,
  "metadata": {
    "colab": {
      "name": "Simple_Embedding_Model.ipynb",
      "provenance": []
    },
    "kernelspec": {
      "name": "python3",
      "display_name": "Python 3"
    },
    "accelerator": "GPU"
  },
  "cells": [
    {
      "cell_type": "code",
      "metadata": {
        "colab": {
          "base_uri": "https://localhost:8080/"
        },
        "id": "cyEFXArJMJqw",
        "outputId": "4ac6a75f-d9ea-4266-9f5e-ba6bcc4a9ee3"
      },
      "source": [
        "!git clone https://github.com/devkotasawal1/Poem-Generator"
      ],
      "execution_count": 34,
      "outputs": [
        {
          "output_type": "stream",
          "name": "stdout",
          "text": [
            "fatal: destination path 'Poem-Generator' already exists and is not an empty directory.\n"
          ]
        }
      ]
    },
    {
      "cell_type": "code",
      "metadata": {
        "id": "3l-y6n-eMgem"
      },
      "source": [
        "import matplotlib.pyplot as plt\n",
        "import tensorflow as tf\n",
        "\n",
        "import numpy as np\n",
        "import os\n",
        "import time"
      ],
      "execution_count": 35,
      "outputs": []
    },
    {
      "cell_type": "code",
      "metadata": {
        "id": "SX0wF7bnTB1x"
      },
      "source": [
        "path_to_file = \"combined.txt\""
      ],
      "execution_count": 36,
      "outputs": []
    },
    {
      "cell_type": "code",
      "metadata": {
        "colab": {
          "base_uri": "https://localhost:8080/"
        },
        "id": "1zRNvme-TInN",
        "outputId": "f471db26-9b3b-4689-9b5f-dfff8afc4ab3"
      },
      "source": [
        "# Read, then decode for py2 compat.\n",
        "text = open(path_to_file, 'rb').read().decode(encoding='utf-8')\n",
        "# length of text is the number of characters in it\n",
        "print('Length of text: {} characters'.format(len(text)))"
      ],
      "execution_count": 37,
      "outputs": [
        {
          "output_type": "stream",
          "name": "stdout",
          "text": [
            "Length of text: 155334 characters\n"
          ]
        }
      ]
    },
    {
      "cell_type": "code",
      "metadata": {
        "colab": {
          "base_uri": "https://localhost:8080/"
        },
        "id": "uCXQh964Ngtu",
        "outputId": "de0e0cf3-2f31-4ab4-9d8e-45ddc5ecac9c"
      },
      "source": [
        "print(text[:250])"
      ],
      "execution_count": 38,
      "outputs": [
        {
          "output_type": "stream",
          "name": "stdout",
          "text": [
            "नछाडी जानोस् हे मेरा प्राण ! अकेली मलाई,\n",
            "मनको वनमा ननिभ्ने गरी विरह जलाई !\n",
            "ननिभ्ने गरी विरह जलाई,\n",
            "लोचनका तारा ! हे मेर प्यारा ! यो जोति  बिलाए !\n",
            "के भनूँ? भन्ने म केही थिइन  विष नै पिलाए !\n",
            "प्यारा ! विष नै पिलाए !\n",
            "मनको कुरा गलामा अड्छ, अड्कन्छ गलामा,\n",
            "य\n"
          ]
        }
      ]
    },
    {
      "cell_type": "code",
      "metadata": {
        "colab": {
          "base_uri": "https://localhost:8080/"
        },
        "id": "bGUQLPgcTOsK",
        "outputId": "5fa190a2-1eb2-4e65-b87d-42557fb3f261"
      },
      "source": [
        "# The unique characters in the file\n",
        "vocab = sorted(set(text))\n",
        "print('{} unique characters'.format(len(vocab)))"
      ],
      "execution_count": 39,
      "outputs": [
        {
          "output_type": "stream",
          "name": "stdout",
          "text": [
            "83 unique characters\n"
          ]
        }
      ]
    },
    {
      "cell_type": "code",
      "metadata": {
        "id": "w29QiPdETSG9"
      },
      "source": [
        "char2idx = {u:i for i, u in enumerate(vocab)}\n",
        "idx2char = np.array(vocab)\n",
        "\n",
        "text_as_int = np.array([char2idx[c] for c in text])"
      ],
      "execution_count": 40,
      "outputs": []
    },
    {
      "cell_type": "code",
      "metadata": {
        "colab": {
          "base_uri": "https://localhost:8080/"
        },
        "id": "htnsN_U_TW2T",
        "outputId": "71f1d67c-bdac-4066-84ef-d9939fdb3791"
      },
      "source": [
        "print('{')\n",
        "for char,_ in zip(char2idx, range(20)):\n",
        "    print('  {:4s}: {:3d},'.format(repr(char), char2idx[char]))\n",
        "print('  ...\\n}')"
      ],
      "execution_count": 41,
      "outputs": [
        {
          "output_type": "stream",
          "name": "stdout",
          "text": [
            "{\n",
            "  '\\n':   0,\n",
            "  ' ' :   1,\n",
            "  '!' :   2,\n",
            "  '(' :   3,\n",
            "  ')' :   4,\n",
            "  ',' :   5,\n",
            "  '-' :   6,\n",
            "  '.' :   7,\n",
            "  ':' :   8,\n",
            "  ';' :   9,\n",
            "  '?' :  10,\n",
            "  'm' :  11,\n",
            "  '¥' :  12,\n",
            "  '«' :  13,\n",
            "  'ँ' :  14,\n",
            "  'ं' :  15,\n",
            "  'ः' :  16,\n",
            "  'अ' :  17,\n",
            "  'आ' :  18,\n",
            "  'इ' :  19,\n",
            "  ...\n",
            "}\n"
          ]
        }
      ]
    },
    {
      "cell_type": "code",
      "metadata": {
        "colab": {
          "base_uri": "https://localhost:8080/"
        },
        "id": "OIt1GGcgTc19",
        "outputId": "544df29e-588f-425b-8383-64bebcd7a559"
      },
      "source": [
        "# Show how the first 13 characters from the text are mapped to integers\n",
        "print('{} ---- characters mapped to int ---- > {}'.format(repr(text[:13]), text_as_int[:13]))"
      ],
      "execution_count": 42,
      "outputs": [
        {
          "output_type": "stream",
          "name": "stdout",
          "text": [
            "'नछाडी जानोस् ' ---- characters mapped to int ---- > [47 34 61 40 63  1 35 61 47 69 59 71  1]\n"
          ]
        }
      ]
    },
    {
      "cell_type": "code",
      "metadata": {
        "colab": {
          "base_uri": "https://localhost:8080/"
        },
        "id": "Ec88LenrTgoV",
        "outputId": "b5011242-2a44-4849-c655-6cdbdcc83138"
      },
      "source": [
        "seq_length = 100\n",
        "examples_per_epoch = len(text)//(seq_length + 1)\n",
        "examples_per_epoch"
      ],
      "execution_count": 43,
      "outputs": [
        {
          "output_type": "execute_result",
          "data": {
            "text/plain": [
              "1537"
            ]
          },
          "metadata": {},
          "execution_count": 43
        }
      ]
    },
    {
      "cell_type": "code",
      "metadata": {
        "colab": {
          "base_uri": "https://localhost:8080/"
        },
        "id": "9ah9_3bkTq9G",
        "outputId": "7aeec005-8d61-4c3d-c381-7194d86fa358"
      },
      "source": [
        "char_dataset = tf.data.Dataset.from_tensor_slices(text_as_int)\n",
        "\n",
        "for i in char_dataset.take(5):\n",
        "  print(idx2char[i.numpy()])"
      ],
      "execution_count": 44,
      "outputs": [
        {
          "output_type": "stream",
          "name": "stdout",
          "text": [
            "न\n",
            "छ\n",
            "ा\n",
            "ड\n",
            "ी\n"
          ]
        }
      ]
    },
    {
      "cell_type": "code",
      "metadata": {
        "colab": {
          "base_uri": "https://localhost:8080/"
        },
        "id": "qdACH30oT2L9",
        "outputId": "07beb96c-9771-4f1e-cade-7d0dafc40934"
      },
      "source": [
        "sequences = char_dataset.batch(seq_length+1, drop_remainder=True)\n",
        "\n",
        "for item in sequences.take(5):\n",
        "    print(repr(''.join(idx2char[item.numpy()])))"
      ],
      "execution_count": 45,
      "outputs": [
        {
          "output_type": "stream",
          "name": "stdout",
          "text": [
            "'नछाडी जानोस् हे मेरा प्राण ! अकेली मलाई,\\nमनको वनमा ननिभ्ने गरी विरह जलाई !\\nननिभ्ने गरी विरह जलाई,\\nलोच'\n",
            "'नका तारा ! हे मेर प्यारा ! यो जोति  बिलाए !\\nके भनूँ? भन्ने म केही थिइन  विष नै पिलाए !\\nप्यारा ! विष न'\n",
            "'ै पिलाए !\\nमनको कुरा गलामा अड्छ, अड्कन्छ गलामा,\\nयो मेरो मुटु पचासबाजी धड्कन्छ पलामा ।\\nयो छाती मेरो चिर'\n",
            "'ेर खोली नजर गराए,\\nत्यो मन केही फर्कंदो होला, तस्विर खुलाए\\nआँसुमा खस्छ मनको टुक्रा यो आँसु बोल्दैन,\\nमन'\n",
            "'को कुरा मनमै बस्छ, छातिले खोल्दैन,\\nप्यारा ! आँसुले बोल्दैन !\\nहे मेरी मुना ! नभन त्यसो, जूनमा फुलेकी !'\n"
          ]
        }
      ]
    },
    {
      "cell_type": "code",
      "metadata": {
        "id": "vh7oyDFwW6gG"
      },
      "source": [
        "def split_input_target(chunk):\n",
        "    input_text = chunk[:-1]\n",
        "    target_text = chunk[1:]\n",
        "    return input_text, target_text\n",
        "\n",
        "dataset = sequences.map(split_input_target)"
      ],
      "execution_count": 46,
      "outputs": []
    },
    {
      "cell_type": "code",
      "metadata": {
        "colab": {
          "base_uri": "https://localhost:8080/"
        },
        "id": "JLnEqpR9XBT9",
        "outputId": "fc9ddc5f-8f57-409d-bbc3-28181d8094d0"
      },
      "source": [
        "for input_example, target_example in  dataset.take(1):\n",
        "    print('Input data: ', repr(''.join(idx2char[input_example.numpy()])))\n",
        "    print('Target data:', repr(''.join(idx2char[target_example.numpy()])))"
      ],
      "execution_count": 47,
      "outputs": [
        {
          "output_type": "stream",
          "name": "stdout",
          "text": [
            "Input data:  'नछाडी जानोस् हे मेरा प्राण ! अकेली मलाई,\\nमनको वनमा ननिभ्ने गरी विरह जलाई !\\nननिभ्ने गरी विरह जलाई,\\nलो'\n",
            "Target data: 'छाडी जानोस् हे मेरा प्राण ! अकेली मलाई,\\nमनको वनमा ननिभ्ने गरी विरह जलाई !\\nननिभ्ने गरी विरह जलाई,\\nलोच'\n"
          ]
        }
      ]
    },
    {
      "cell_type": "code",
      "metadata": {
        "colab": {
          "base_uri": "https://localhost:8080/"
        },
        "id": "fZBnP9ovXFSR",
        "outputId": "c59bd926-fa1d-4470-ad45-32ffc116d6bc"
      },
      "source": [
        "# Batch size\n",
        "BATCH_SIZE = 64\n",
        "\n",
        "# Buffer size to shuffle the dataset\n",
        "# (TF data is designed to work with possibly infinite sequences,\n",
        "# so it doesn't attempt to shuffle the entire sequence in memory. Instead,\n",
        "# it maintains a buffer in which it shuffles elements).\n",
        "BUFFER_SIZE = 10000\n",
        "\n",
        "dataset = dataset.shuffle(BUFFER_SIZE).batch(BATCH_SIZE, drop_remainder=True)\n",
        "\n",
        "dataset"
      ],
      "execution_count": 48,
      "outputs": [
        {
          "output_type": "execute_result",
          "data": {
            "text/plain": [
              "<BatchDataset element_spec=(TensorSpec(shape=(64, 100), dtype=tf.int64, name=None), TensorSpec(shape=(64, 100), dtype=tf.int64, name=None))>"
            ]
          },
          "metadata": {},
          "execution_count": 48
        }
      ]
    },
    {
      "cell_type": "code",
      "metadata": {
        "colab": {
          "base_uri": "https://localhost:8080/"
        },
        "id": "PTHG2HQ_XTY_",
        "outputId": "ea483a57-52f4-447d-aff0-4a182380f6a9"
      },
      "source": [
        "# Length of the vocabulary in chars\n",
        "vocab_size = len(vocab)\n",
        "\n",
        "# The embedding dimension\n",
        "embedding_dim = 256\n",
        "\n",
        "# Number of RNN units\n",
        "rnn_units = 1024\n",
        "vocab_size"
      ],
      "execution_count": 49,
      "outputs": [
        {
          "output_type": "execute_result",
          "data": {
            "text/plain": [
              "83"
            ]
          },
          "metadata": {},
          "execution_count": 49
        }
      ]
    },
    {
      "cell_type": "code",
      "metadata": {
        "id": "UsiAAf8nXec0"
      },
      "source": [
        "def build_model(vocab_size, embedding_dim, rnn_units, batch_size):\n",
        "    model = tf.keras.Sequential([\n",
        "        tf.keras.layers.Embedding(vocab_size, embedding_dim,\n",
        "                                  batch_input_shape=[batch_size, None]),\n",
        "        tf.keras.layers.GRU(rnn_units,\n",
        "                            return_sequences=True,\n",
        "                            stateful=True,\n",
        "                            recurrent_initializer='glorot_uniform'),\n",
        "        tf.keras.layers.Dense(vocab_size)\n",
        "    ])\n",
        "    return model"
      ],
      "execution_count": 50,
      "outputs": []
    },
    {
      "cell_type": "code",
      "metadata": {
        "id": "bbHe39SIXnRe"
      },
      "source": [
        "model = build_model(\n",
        "    vocab_size=len(vocab),\n",
        "    embedding_dim=embedding_dim,\n",
        "    rnn_units=rnn_units,\n",
        "    batch_size=BATCH_SIZE)"
      ],
      "execution_count": 51,
      "outputs": []
    },
    {
      "cell_type": "code",
      "metadata": {
        "colab": {
          "base_uri": "https://localhost:8080/"
        },
        "id": "yjRZrg1NXpm4",
        "outputId": "67913e22-c549-445e-b6fc-49b6f777ebd9"
      },
      "source": [
        "for input_example_batch, target_example_batch in dataset.take(1):\n",
        "    example_batch_predictions = model(input_example_batch)\n",
        "    print(example_batch_predictions.shape, \"# (batch_size, sequence_length, vocab_size)\")"
      ],
      "execution_count": 52,
      "outputs": [
        {
          "output_type": "stream",
          "name": "stdout",
          "text": [
            "WARNING:tensorflow:Detecting that an object or model or tf.train.Checkpoint is being deleted with unrestored values. See the following logs for the specific values in question. To silence these warnings, use `status.expect_partial()`. See https://www.tensorflow.org/api_docs/python/tf/train/Checkpoint#restorefor details about the status object returned by the restore function.\n",
            "WARNING:tensorflow:Value in checkpoint could not be found in the restored object: (root).optimizer.iter\n",
            "WARNING:tensorflow:Value in checkpoint could not be found in the restored object: (root).optimizer.beta_1\n",
            "WARNING:tensorflow:Value in checkpoint could not be found in the restored object: (root).optimizer.beta_2\n",
            "WARNING:tensorflow:Value in checkpoint could not be found in the restored object: (root).optimizer.decay\n",
            "WARNING:tensorflow:Value in checkpoint could not be found in the restored object: (root).optimizer.learning_rate\n",
            "WARNING:tensorflow:Value in checkpoint could not be found in the restored object: (root).optimizer's state 'm' for (root).layer_with_weights-0.embeddings\n",
            "WARNING:tensorflow:Value in checkpoint could not be found in the restored object: (root).optimizer's state 'm' for (root).layer_with_weights-2.kernel\n",
            "WARNING:tensorflow:Value in checkpoint could not be found in the restored object: (root).optimizer's state 'm' for (root).layer_with_weights-2.bias\n",
            "WARNING:tensorflow:Value in checkpoint could not be found in the restored object: (root).optimizer's state 'm' for (root).layer_with_weights-1.cell.kernel\n",
            "WARNING:tensorflow:Value in checkpoint could not be found in the restored object: (root).optimizer's state 'm' for (root).layer_with_weights-1.cell.recurrent_kernel\n",
            "WARNING:tensorflow:Value in checkpoint could not be found in the restored object: (root).optimizer's state 'm' for (root).layer_with_weights-1.cell.bias\n",
            "WARNING:tensorflow:Value in checkpoint could not be found in the restored object: (root).optimizer's state 'v' for (root).layer_with_weights-0.embeddings\n",
            "WARNING:tensorflow:Value in checkpoint could not be found in the restored object: (root).optimizer's state 'v' for (root).layer_with_weights-2.kernel\n",
            "WARNING:tensorflow:Value in checkpoint could not be found in the restored object: (root).optimizer's state 'v' for (root).layer_with_weights-2.bias\n",
            "WARNING:tensorflow:Value in checkpoint could not be found in the restored object: (root).optimizer's state 'v' for (root).layer_with_weights-1.cell.kernel\n",
            "WARNING:tensorflow:Value in checkpoint could not be found in the restored object: (root).optimizer's state 'v' for (root).layer_with_weights-1.cell.recurrent_kernel\n",
            "WARNING:tensorflow:Value in checkpoint could not be found in the restored object: (root).optimizer's state 'v' for (root).layer_with_weights-1.cell.bias\n",
            "(64, 100, 83) # (batch_size, sequence_length, vocab_size)\n"
          ]
        }
      ]
    },
    {
      "cell_type": "code",
      "metadata": {
        "colab": {
          "base_uri": "https://localhost:8080/"
        },
        "id": "tteHyDo-Xstq",
        "outputId": "ffe0c1e2-d9bc-4e80-d7c7-d7bdc024a721"
      },
      "source": [
        "model.summary()"
      ],
      "execution_count": 53,
      "outputs": [
        {
          "output_type": "stream",
          "name": "stdout",
          "text": [
            "Model: \"sequential_2\"\n",
            "_________________________________________________________________\n",
            " Layer (type)                Output Shape              Param #   \n",
            "=================================================================\n",
            " embedding_2 (Embedding)     (64, None, 256)           21248     \n",
            "                                                                 \n",
            " gru_2 (GRU)                 (64, None, 1024)          3938304   \n",
            "                                                                 \n",
            " dense_2 (Dense)             (64, None, 83)            85075     \n",
            "                                                                 \n",
            "=================================================================\n",
            "Total params: 4,044,627\n",
            "Trainable params: 4,044,627\n",
            "Non-trainable params: 0\n",
            "_________________________________________________________________\n"
          ]
        }
      ]
    },
    {
      "cell_type": "code",
      "metadata": {
        "id": "YJDYvZV7XvEE"
      },
      "source": [
        "sampled_indices = tf.random.categorical(example_batch_predictions[0], num_samples=1)\n",
        "sampled_indices = tf.squeeze(sampled_indices,axis=-1).numpy()"
      ],
      "execution_count": 54,
      "outputs": []
    },
    {
      "cell_type": "code",
      "metadata": {
        "colab": {
          "base_uri": "https://localhost:8080/"
        },
        "id": "uIfKovmdXy3c",
        "outputId": "89614239-6961-4945-d7c1-81d99d6454a2"
      },
      "source": [
        "sampled_indices"
      ],
      "execution_count": 55,
      "outputs": [
        {
          "output_type": "execute_result",
          "data": {
            "text/plain": [
              "array([ 8, 30, 67, 64, 27, 69, 43, 43, 51, 29, 53,  4, 35, 50, 66, 27,  6,\n",
              "       39, 44, 72, 76, 17, 47, 79, 58, 14, 71, 42, 58, 76, 75, 78, 38, 45,\n",
              "       59, 66, 26, 61, 55, 16, 52,  7, 25, 46, 48, 55, 21, 57,  4,  3, 45,\n",
              "       36, 35, 12, 40, 65, 49, 35, 28, 56, 71, 21, 41, 34, 13, 81, 22, 15,\n",
              "        6,  9, 62, 19, 63, 75, 49, 45,  5, 50, 12, 19, 69, 24, 43, 77, 59,\n",
              "        5, 72, 67, 59, 53, 40, 73, 11, 62, 39, 25, 82, 56, 55, 38])"
            ]
          },
          "metadata": {},
          "execution_count": 55
        }
      ]
    },
    {
      "cell_type": "code",
      "metadata": {
        "colab": {
          "base_uri": "https://localhost:8080/"
        },
        "id": "RWwlM1U4X2Lq",
        "outputId": "53478ae1-633c-4996-afa5-6aa5365fee81"
      },
      "source": [
        "print(\"Input: \\n\", repr(\"\".join(idx2char[input_example_batch[0]])))\n",
        "print()\n",
        "print(\"Next Char Predictions: \\n\", repr(\"\".join(idx2char[sampled_indices ])))"
      ],
      "execution_count": 56,
      "outputs": [
        {
          "output_type": "stream",
          "name": "stdout",
          "text": [
            "Input: \n",
            " ' मेरो गीत !\\nशिल्पित उपलको वेलीवनमा,\\nयो रुह बुलबुल,\\nघनले निलेकी शशिकन सम्झी,\\nबोली रहला युगका यात्री\\nस'\n",
            "\n",
            "Next Char Predictions: \n",
            " ':गेुऔोततभखय)जबृऔ-ठथॐ–अन’षँ्णष–\\u200d‘टदसृओालःम.ऐधपलउश)(दझज¥डूफजकव्उढछ«”ऊं-;िइी\\u200dफद,ब¥इोएत—स,ॐेसयड।mिठऐ…वलट'\n"
          ]
        }
      ]
    },
    {
      "cell_type": "code",
      "metadata": {
        "colab": {
          "base_uri": "https://localhost:8080/"
        },
        "id": "q3eQWTLtX5ZH",
        "outputId": "7b41edc0-e0c3-43ff-eef0-6213cb7be6dd"
      },
      "source": [
        "def loss(labels, logits):\n",
        "    return tf.keras.losses.sparse_categorical_crossentropy(labels, logits, from_logits=True)\n",
        "\n",
        "example_batch_loss = loss(target_example_batch, example_batch_predictions)\n",
        "print(\"Prediction shape: \", example_batch_predictions.shape, \" # (batch_size, sequence_length, vocab_size)\")\n",
        "print(\"scalar_loss:      \", example_batch_loss.numpy().mean())"
      ],
      "execution_count": 57,
      "outputs": [
        {
          "output_type": "stream",
          "name": "stdout",
          "text": [
            "Prediction shape:  (64, 100, 83)  # (batch_size, sequence_length, vocab_size)\n",
            "scalar_loss:       4.419906\n"
          ]
        }
      ]
    },
    {
      "cell_type": "code",
      "metadata": {
        "id": "uQRYgFiGX-Ed"
      },
      "source": [
        "model.compile(optimizer='adam', loss=loss, metrics = ['acc'])"
      ],
      "execution_count": 58,
      "outputs": []
    },
    {
      "cell_type": "code",
      "metadata": {
        "id": "oWIr3v17YA-6"
      },
      "source": [
        "# Directory where the checkpoints will be saved\n",
        "checkpoint_dir = './training_checkpoints'\n",
        "# Name of the checkpoint files\n",
        "checkpoint_prefix = os.path.join(checkpoint_dir, \"ckpt_{epoch}\")\n",
        "\n",
        "checkpoint_callback = tf.keras.callbacks.ModelCheckpoint(\n",
        "    filepath=checkpoint_prefix,\n",
        "    save_weights_only=True,\n",
        "    save_best_only=True)"
      ],
      "execution_count": 59,
      "outputs": []
    },
    {
      "cell_type": "code",
      "metadata": {
        "id": "P4CIAHjkYCk0"
      },
      "source": [
        "EPOCHS = 60"
      ],
      "execution_count": 60,
      "outputs": []
    },
    {
      "cell_type": "code",
      "metadata": {
        "colab": {
          "base_uri": "https://localhost:8080/"
        },
        "id": "Aq1Y-aweYENk",
        "outputId": "d966559b-0e06-4803-96db-1a7fad68b809"
      },
      "source": [
        "history = model.fit(dataset, epochs=EPOCHS, callbacks=[checkpoint_callback])"
      ],
      "execution_count": 61,
      "outputs": [
        {
          "output_type": "stream",
          "name": "stdout",
          "text": [
            "Epoch 1/60\n",
            "24/24 [==============================] - 6s 153ms/step - loss: 4.1886 - acc: 0.1036\n",
            "Epoch 2/60\n",
            "24/24 [==============================] - 4s 146ms/step - loss: 3.3501 - acc: 0.1755\n",
            "Epoch 3/60\n",
            "24/24 [==============================] - 4s 142ms/step - loss: 2.9450 - acc: 0.2426\n",
            "Epoch 4/60\n",
            "24/24 [==============================] - 4s 141ms/step - loss: 2.7646 - acc: 0.2582\n",
            "Epoch 5/60\n",
            "24/24 [==============================] - 4s 139ms/step - loss: 2.6933 - acc: 0.2685\n",
            "Epoch 6/60\n",
            "24/24 [==============================] - 4s 140ms/step - loss: 2.6448 - acc: 0.2756\n",
            "Epoch 7/60\n",
            "24/24 [==============================] - 4s 139ms/step - loss: 2.6016 - acc: 0.2887\n",
            "Epoch 8/60\n",
            "24/24 [==============================] - 4s 139ms/step - loss: 2.5608 - acc: 0.2976\n",
            "Epoch 9/60\n",
            "24/24 [==============================] - 4s 139ms/step - loss: 2.5170 - acc: 0.3087\n",
            "Epoch 10/60\n",
            "24/24 [==============================] - 4s 145ms/step - loss: 2.4761 - acc: 0.3201\n",
            "Epoch 11/60\n",
            "24/24 [==============================] - 4s 154ms/step - loss: 2.4337 - acc: 0.3307\n",
            "Epoch 12/60\n",
            "24/24 [==============================] - 4s 144ms/step - loss: 2.3922 - acc: 0.3390\n",
            "Epoch 13/60\n",
            "24/24 [==============================] - 4s 143ms/step - loss: 2.3518 - acc: 0.3493\n",
            "Epoch 14/60\n",
            "24/24 [==============================] - 4s 142ms/step - loss: 2.3161 - acc: 0.3574\n",
            "Epoch 15/60\n",
            "24/24 [==============================] - 4s 139ms/step - loss: 2.2770 - acc: 0.3667\n",
            "Epoch 16/60\n",
            "24/24 [==============================] - 4s 139ms/step - loss: 2.2384 - acc: 0.3771\n",
            "Epoch 17/60\n",
            "24/24 [==============================] - 4s 139ms/step - loss: 2.1997 - acc: 0.3859\n",
            "Epoch 18/60\n",
            "24/24 [==============================] - 4s 141ms/step - loss: 2.1561 - acc: 0.3982\n",
            "Epoch 19/60\n",
            "24/24 [==============================] - 4s 139ms/step - loss: 2.1146 - acc: 0.4084\n",
            "Epoch 20/60\n",
            "24/24 [==============================] - 4s 140ms/step - loss: 2.0713 - acc: 0.4199\n",
            "Epoch 21/60\n",
            "24/24 [==============================] - 4s 139ms/step - loss: 2.0242 - acc: 0.4303\n",
            "Epoch 22/60\n",
            "24/24 [==============================] - 4s 140ms/step - loss: 1.9728 - acc: 0.4452\n",
            "Epoch 23/60\n",
            "24/24 [==============================] - 4s 140ms/step - loss: 1.9223 - acc: 0.4568\n",
            "Epoch 24/60\n",
            "24/24 [==============================] - 4s 140ms/step - loss: 1.8662 - acc: 0.4723\n",
            "Epoch 25/60\n",
            "24/24 [==============================] - 4s 140ms/step - loss: 1.8055 - acc: 0.4888\n",
            "Epoch 26/60\n",
            "24/24 [==============================] - 4s 140ms/step - loss: 1.7392 - acc: 0.5063\n",
            "Epoch 27/60\n",
            "24/24 [==============================] - 4s 141ms/step - loss: 1.6711 - acc: 0.5261\n",
            "Epoch 28/60\n",
            "24/24 [==============================] - 4s 140ms/step - loss: 1.5952 - acc: 0.5477\n",
            "Epoch 29/60\n",
            "24/24 [==============================] - 4s 142ms/step - loss: 1.5165 - acc: 0.5719\n",
            "Epoch 30/60\n",
            "24/24 [==============================] - 4s 142ms/step - loss: 1.4305 - acc: 0.5974\n",
            "Epoch 31/60\n",
            "24/24 [==============================] - 4s 141ms/step - loss: 1.3393 - acc: 0.6272\n",
            "Epoch 32/60\n",
            "24/24 [==============================] - 4s 140ms/step - loss: 1.2455 - acc: 0.6567\n",
            "Epoch 33/60\n",
            "24/24 [==============================] - 4s 141ms/step - loss: 1.1430 - acc: 0.6910\n",
            "Epoch 34/60\n",
            "24/24 [==============================] - 4s 141ms/step - loss: 1.0456 - acc: 0.7244\n",
            "Epoch 35/60\n",
            "24/24 [==============================] - 4s 141ms/step - loss: 0.9465 - acc: 0.7589\n",
            "Epoch 36/60\n",
            "24/24 [==============================] - 4s 140ms/step - loss: 0.8510 - acc: 0.7933\n",
            "Epoch 37/60\n",
            "24/24 [==============================] - 4s 140ms/step - loss: 0.7573 - acc: 0.8265\n",
            "Epoch 38/60\n",
            "24/24 [==============================] - 4s 140ms/step - loss: 0.6692 - acc: 0.8579\n",
            "Epoch 39/60\n",
            "24/24 [==============================] - 4s 141ms/step - loss: 0.5946 - acc: 0.8836\n",
            "Epoch 40/60\n",
            "24/24 [==============================] - 4s 139ms/step - loss: 0.5278 - acc: 0.9045\n",
            "Epoch 41/60\n",
            "24/24 [==============================] - 4s 140ms/step - loss: 0.4722 - acc: 0.9200\n",
            "Epoch 42/60\n",
            "24/24 [==============================] - 4s 140ms/step - loss: 0.4281 - acc: 0.9309\n",
            "Epoch 43/60\n",
            "24/24 [==============================] - 4s 140ms/step - loss: 0.3955 - acc: 0.9374\n",
            "Epoch 44/60\n",
            "24/24 [==============================] - 4s 139ms/step - loss: 0.3632 - acc: 0.9432\n",
            "Epoch 45/60\n",
            "24/24 [==============================] - 4s 140ms/step - loss: 0.3378 - acc: 0.9470\n",
            "Epoch 46/60\n",
            "24/24 [==============================] - 4s 140ms/step - loss: 0.3198 - acc: 0.9497\n",
            "Epoch 47/60\n",
            "24/24 [==============================] - 4s 141ms/step - loss: 0.3068 - acc: 0.9516\n",
            "Epoch 48/60\n",
            "24/24 [==============================] - 4s 140ms/step - loss: 0.2932 - acc: 0.9537\n",
            "Epoch 49/60\n",
            "24/24 [==============================] - 4s 140ms/step - loss: 0.2825 - acc: 0.9546\n",
            "Epoch 50/60\n",
            "24/24 [==============================] - 4s 141ms/step - loss: 0.2739 - acc: 0.9549\n",
            "Epoch 51/60\n",
            "24/24 [==============================] - 4s 141ms/step - loss: 0.2673 - acc: 0.9568\n",
            "Epoch 52/60\n",
            "24/24 [==============================] - 4s 140ms/step - loss: 0.2626 - acc: 0.9567\n",
            "Epoch 53/60\n",
            "24/24 [==============================] - 4s 141ms/step - loss: 0.2559 - acc: 0.9575\n",
            "Epoch 54/60\n",
            "24/24 [==============================] - 4s 141ms/step - loss: 0.2464 - acc: 0.9585\n",
            "Epoch 55/60\n",
            "24/24 [==============================] - 4s 141ms/step - loss: 0.2433 - acc: 0.9593\n",
            "Epoch 56/60\n",
            "24/24 [==============================] - 4s 140ms/step - loss: 0.2371 - acc: 0.9606\n",
            "Epoch 57/60\n",
            "24/24 [==============================] - 4s 139ms/step - loss: 0.2348 - acc: 0.9605\n",
            "Epoch 58/60\n",
            "24/24 [==============================] - 4s 141ms/step - loss: 0.2301 - acc: 0.9611\n",
            "Epoch 59/60\n",
            "24/24 [==============================] - 4s 141ms/step - loss: 0.2261 - acc: 0.9617\n",
            "Epoch 60/60\n",
            "24/24 [==============================] - 4s 142ms/step - loss: 0.2250 - acc: 0.9618\n"
          ]
        }
      ]
    },
    {
      "cell_type": "code",
      "metadata": {
        "colab": {
          "base_uri": "https://localhost:8080/",
          "height": 295
        },
        "id": "sO8iO_wndcBW",
        "outputId": "c85eaaa1-ab4f-4ce6-fe5e-55f7fc1ed947"
      },
      "source": [
        "loss_train = history.history['loss']\n",
        "epochs = range(1,len(history.history['acc'])+1)\n",
        "plt.plot(epochs, loss_train, 'g', label='Training loss')\n",
        "plt.title('Training loss')\n",
        "plt.xlabel('Epochs')\n",
        "plt.ylabel('Loss')\n",
        "plt.legend()\n",
        "plt.show()"
      ],
      "execution_count": 62,
      "outputs": [
        {
          "output_type": "display_data",
          "data": {
            "image/png": "[encoded data removed]",
            "text/plain": [
              "<Figure size 432x288 with 1 Axes>"
            ]
          },
          "metadata": {
            "needs_background": "light"
          }
        }
      ]
    },
    {
      "cell_type": "code",
      "metadata": {
        "id": "ZJzB6Fq6YuhI"
      },
      "source": [
        "def generate_text(model, start_string):\n",
        "    # Evaluation step (generating text using the learned model)\n",
        "\n",
        "    # Number of characters to generate\n",
        "    num_generate = 1000\n",
        "\n",
        "    # Converting our start string to numbers (vectorizing)\n",
        "    input_eval = [char2idx[s] for s in start_string]\n",
        "    input_eval = tf.expand_dims(input_eval, 0)\n",
        "\n",
        "    # Empty string to store our results\n",
        "    text_generated = []\n",
        "\n",
        "    # Low temperature results in more predictable text.\n",
        "    # Higher temperature results in more surprising text.\n",
        "    # Experiment to find the best setting.\n",
        "    temperature = 1.0\n",
        "\n",
        "    # Here batch size == 1\n",
        "    model.reset_states()\n",
        "    for i in range(num_generate):\n",
        "        predictions = model(input_eval)\n",
        "        # remove the batch dimension\n",
        "        predictions = tf.squeeze(predictions, 0)\n",
        "\n",
        "        # using a categorical distribution to predict the character returned by the model\n",
        "        predictions = predictions / temperature\n",
        "        predicted_id = tf.random.categorical(predictions, num_samples=1)[-1,0].numpy()\n",
        "\n",
        "        # Pass the predicted character as the next input to the model\n",
        "        # along with the previous hidden state\n",
        "        input_eval = tf.expand_dims([predicted_id], 0)\n",
        "\n",
        "        text_generated.append(idx2char[predicted_id])\n",
        "\n",
        "    return (start_string + ''.join(text_generated))"
      ],
      "execution_count": 63,
      "outputs": []
    },
    {
      "cell_type": "code",
      "metadata": {
        "colab": {
          "base_uri": "https://localhost:8080/",
          "height": 35
        },
        "id": "15AFM-PvY97K",
        "outputId": "240137d3-5ead-4378-c9ca-7c9df7ac0416"
      },
      "source": [
        "tf.train.latest_checkpoint(checkpoint_dir)"
      ],
      "execution_count": 64,
      "outputs": [
        {
          "output_type": "execute_result",
          "data": {
            "application/vnd.google.colaboratory.intrinsic+json": {
              "type": "string"
            },
            "text/plain": [
              "'./training_checkpoints/ckpt_60'"
            ]
          },
          "metadata": {},
          "execution_count": 64
        }
      ]
    },
    {
      "cell_type": "code",
      "metadata": {
        "id": "0tQxhvigY_qJ"
      },
      "source": [
        "model = build_model(vocab_size, embedding_dim, rnn_units, batch_size=1)\n",
        "\n",
        "model.load_weights(tf.train.latest_checkpoint(checkpoint_dir))\n",
        "\n",
        "model.build(tf.TensorShape([1, None]))"
      ],
      "execution_count": 65,
      "outputs": []
    },
    {
      "cell_type": "code",
      "metadata": {
        "colab": {
          "base_uri": "https://localhost:8080/"
        },
        "id": "N8sknnCNYv3C",
        "outputId": "355febb2-8ccb-425d-ac44-6b11a826e396"
      },
      "source": [
        "print(generate_text(model, start_string=\"हे मेरी मुना\"))"
      ],
      "execution_count": 67,
      "outputs": [
        {
          "output_type": "stream",
          "name": "stdout",
          "text": [
            "हे मेरी मुना ! ओह !\n",
            "असि यह्नो लटको रो !\n",
            "छाती, पङ्ख मानीका रुखहरु\n",
            "लिर दर्दा सुनौला मनोषगरमाथि कि बिचिता रे !\n",
            "सुनेछ सत्यक्री कोलिलाई,\n",
            "हो अमिटर खोइ !”\n",
            "के गरी छहिँली !\n",
            "र माइ वन गर्दिन्छ ।\n",
            "अत्रनाकन\n",
            "र अमृतको जाल चिन्ती लिचात\n",
            "महाँ देखेर तर्साई,\n",
            "महान दिल किन म शिर हो, भोम तारी, तानाए छालेकी !\n",
            "विशाल व्यङ्ग्य केवल !\n",
            "रातले रोइरहिन, पार्वती भेट्न थालेँ ।\n",
            "“ङ्कृति नीतै !\n",
            "भेटेन वयौँ\n",
            "दिनभरि रे !\n",
            "खिल्ली पद्य छौ !\n",
            "म तरले छाती चिर्दै \n",
            "चामल एक मुठी ।\n",
            " जीवनभरको एक पुकारा \n",
            "चामल एक मुठी ।\n",
            " मानिससँगमा मानिस हुँछुँदैनौ तिम्रो खिदा छ सास,\n",
            "एकमुखा सुत\n",
            "सब बाबु तर्साउँछु दीप वदनी\n",
            "एउटा कलिलो रहेछ\n",
            "हामी बाँचिद्यान् अमर्यका रहस्? \n",
            "हेर ढो ली पहेँला कोटा दाखता,\n",
            "समाज्न प्रभातको कहानी,\n",
            "आजैको यो येगअघि खडा, डाक्न खोज्छे जवानी,\n",
            "के रो मयाँडामा अब बहुली !\n",
            "र नमाभित्र तिम्रनेछ म दगत्त्यौ यस जगतिर भन्ने,\n",
            "मिली उठयौं उस जगतिर भन्ने\n",
            "भस्म मस्तो विकसिर अनि स्फुली गुमाएँ,\n",
            "आमिको जीवन प्रत्येक व्यक्ति टन्न सकानमा निरन्तर झरबरमा राख तन रान्छ,\n",
            "सुनिएँ !\n",
            "नम्म भन्छु मानवचाचराहरु\n",
            "पङ्खमा फाँचिएका\n",
            "के त आज शौक भड्की ?\n",
            "थर्री !\n",
            "फर्किन अजीत !\n",
            "म हुनेहरु छ \n",
            "आन्दछ\n"
          ]
        }
      ]
    },
    {
      "cell_type": "code",
      "metadata": {
        "id": "4TezB9tBYzLS"
      },
      "source": [
        ""
      ],
      "execution_count": 66,
      "outputs": []
    }
  ]
}