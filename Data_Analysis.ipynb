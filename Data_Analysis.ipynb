{
  "cells": [
    {
      "cell_type": "markdown",
      "metadata": {
        "colab_type": "text",
        "id": "view-in-github"
      },
      "source": [
        "<a href=\"https://colab.research.google.com/github/chinge55/Poem-Generator/blob/main/Data_Analysis.ipynb\" target=\"_parent\"><img src=\"https://colab.research.google.com/assets/colab-badge.svg\" alt=\"Open In Colab\"/></a>"
      ]
    },
    {
      "cell_type": "code",
      "execution_count": 1,
      "metadata": {
        "colab": {
          "base_uri": "https://localhost:8080/"
        },
        "id": "g7DGD02gBqG2",
        "outputId": "30bfd258-4075-491c-c1c9-4c76da91133b"
      },
      "outputs": [
        {
          "name": "stdout",
          "output_type": "stream",
          "text": [
            "Mounted at /content/drive\n"
          ]
        }
      ],
      "source": [
        "# from google.colab import drive\n",
        "# drive.mount('/content/drive')"
      ]
    },
    {
      "cell_type": "code",
      "execution_count": 4,
      "metadata": {
        "id": "Yn41K2pLBrMS"
      },
      "outputs": [],
      "source": [
        "PATH =  \"/content/drive/MyDrive/word2vec_models/nepali_embeddings_word2vec.txt\""
      ]
    },
    {
      "cell_type": "code",
      "execution_count": 9,
      "metadata": {
        "id": "q_ONqnpYB_cY"
      },
      "outputs": [],
      "source": [
        "from gensim.models import KeyedVectors"
      ]
    },
    {
      "cell_type": "code",
      "execution_count": 10,
      "metadata": {
        "id": "k59bkaovCx27"
      },
      "outputs": [],
      "source": [
        "model = KeyedVectors.load_word2vec_format(PATH, binary=False)"
      ]
    },
    {
      "cell_type": "code",
      "execution_count": 12,
      "metadata": {
        "colab": {
          "base_uri": "https://localhost:8080/"
        },
        "id": "Wc5WGWIOC-KR",
        "outputId": "20a88fd0-3c2b-4571-91b4-f7c893e1a0d8"
      },
      "outputs": [
        {
          "name": "stderr",
          "output_type": "stream",
          "text": [
            "/usr/local/lib/python3.6/dist-packages/gensim/matutils.py:737: FutureWarning: Conversion of the second argument of issubdtype from `int` to `np.signedinteger` is deprecated. In future, it will be treated as `np.int64 == np.dtype(int).type`.\n",
            "  if np.issubdtype(vec.dtype, np.int):\n"
          ]
        },
        {
          "data": {
            "text/plain": [
              "0.6848251"
            ]
          },
          "execution_count": 12,
          "metadata": {
            "tags": []
          },
          "output_type": "execute_result"
        }
      ],
      "source": [
        "model.similarity('फेसबूक','इन्स्टाग्राम')"
      ]
    },
    {
      "cell_type": "code",
      "execution_count": 16,
      "metadata": {
        "colab": {
          "base_uri": "https://localhost:8080/"
        },
        "id": "5xlx9kDHFaie",
        "outputId": "52bf9808-dcd4-4bc9-82b6-3571434e188f"
      },
      "outputs": [
        {
          "name": "stderr",
          "output_type": "stream",
          "text": [
            "/usr/local/lib/python3.6/dist-packages/gensim/matutils.py:737: FutureWarning: Conversion of the second argument of issubdtype from `int` to `np.signedinteger` is deprecated. In future, it will be treated as `np.int64 == np.dtype(int).type`.\n",
            "  if np.issubdtype(vec.dtype, np.int):\n"
          ]
        },
        {
          "data": {
            "text/plain": [
              "[('हेटौंडा', 0.7888251543045044),\n",
              " ('हेटौँडा', 0.7715580463409424),\n",
              " ('हेटाैंडा', 0.7254653573036194),\n",
              " ('हेटांैडा', 0.677879810333252),\n",
              " ('पदमपोखरी', 0.6223083734512329),\n",
              " ('बुटवल', 0.6162656545639038),\n",
              " ('सिमरा', 0.5966447591781616),\n",
              " ('बिराटनगर', 0.5812625288963318),\n",
              " ('बुटबल', 0.5734950304031372),\n",
              " ('इटहरी', 0.5695759654045105)]"
            ]
          },
          "execution_count": 16,
          "metadata": {
            "tags": []
          },
          "output_type": "execute_result"
        }
      ],
      "source": [
        "model.most_similar('हेटौडा')"
      ]
    },
    {
      "cell_type": "code",
      "execution_count": 1,
      "metadata": {
        "colab": {
          "base_uri": "https://localhost:8080/"
        },
        "id": "lh4oSzgkFfJz",
        "outputId": "6b0136ee-4e65-4adc-c787-fe49cf63592d"
      },
      "outputs": [
        {
          "name": "stdout",
          "output_type": "stream",
          "text": [
            "fatal: destination path 'Poem-Generator' already exists and is not an empty directory.\n"
          ]
        }
      ],
      "source": [
        "!git clone https://github.com/devkotasawal1/Poem-Generator"
      ]
    },
    {
      "cell_type": "code",
      "execution_count": 15,
      "metadata": {
        "id": "Mp2BiO6PG-QW"
      },
      "outputs": [],
      "source": [
        "import numpy as np\n",
        "import keras\n",
        "from keras.callbacks import ModelCheckpoint\n",
        "from keras.models import Sequential\n",
        "from keras.layers import Dense, Activation\n",
        "from keras.layers import LSTM\n",
        "import matplotlib.pyplot as plt"
      ]
    },
    {
      "cell_type": "code",
      "execution_count": 3,
      "metadata": {
        "id": "XHiWLjTTHVlW"
      },
      "outputs": [],
      "source": [
        "with open (\"Poem-Generator/lspd.txt\",\"r\") as f:\n",
        "  corpus=f.read()"
      ]
    },
    {
      "cell_type": "code",
      "execution_count": 4,
      "metadata": {
        "colab": {
          "base_uri": "https://localhost:8080/"
        },
        "id": "qFRnncpbHc7E",
        "outputId": "d76cd24a-5762-4515-a841-831338688963"
      },
      "outputs": [
        {
          "name": "stdout",
          "output_type": "stream",
          "text": [
            "{'\\n': 0, ' ': 1, '!': 2, ',': 3, '.': 4, ':': 5, ';': 6, '?': 7, 'ँ': 8, 'ं': 9, 'ः': 10, 'अ': 11, 'आ': 12, 'इ': 13, 'ई': 14, 'उ': 15, 'ऊ': 16, 'ऋ': 17, 'ए': 18, 'ऐ': 19, 'ओ': 20, 'औ': 21, 'क': 22, 'ख': 23, 'ग': 24, 'घ': 25, 'ङ': 26, 'च': 27, 'छ': 28, 'ज': 29, 'झ': 30, 'ञ': 31, 'ट': 32, 'ठ': 33, 'ड': 34, 'ढ': 35, 'ण': 36, 'त': 37, 'थ': 38, 'द': 39, 'ध': 40, 'न': 41, 'प': 42, 'फ': 43, 'ब': 44, 'भ': 45, 'म': 46, 'य': 47, 'र': 48, 'ल': 49, 'व': 50, 'श': 51, 'ष': 52, 'स': 53, 'ह': 54, 'ा': 55, 'ि': 56, 'ी': 57, 'ु': 58, 'ू': 59, 'ृ': 60, 'े': 61, 'ै': 62, 'ो': 63, 'ौ': 64, '्': 65, 'ॐ': 66, '।': 67, '\\u200d': 68, '–': 69, '‘': 70, '’': 71, '“': 72, '”': 73}\n",
            "{0: '\\n', 1: ' ', 2: '!', 3: ',', 4: '.', 5: ':', 6: ';', 7: '?', 8: 'ँ', 9: 'ं', 10: 'ः', 11: 'अ', 12: 'आ', 13: 'इ', 14: 'ई', 15: 'उ', 16: 'ऊ', 17: 'ऋ', 18: 'ए', 19: 'ऐ', 20: 'ओ', 21: 'औ', 22: 'क', 23: 'ख', 24: 'ग', 25: 'घ', 26: 'ङ', 27: 'च', 28: 'छ', 29: 'ज', 30: 'झ', 31: 'ञ', 32: 'ट', 33: 'ठ', 34: 'ड', 35: 'ढ', 36: 'ण', 37: 'त', 38: 'थ', 39: 'द', 40: 'ध', 41: 'न', 42: 'प', 43: 'फ', 44: 'ब', 45: 'भ', 46: 'म', 47: 'य', 48: 'र', 49: 'ल', 50: 'व', 51: 'श', 52: 'ष', 53: 'स', 54: 'ह', 55: 'ा', 56: 'ि', 57: 'ी', 58: 'ु', 59: 'ू', 60: 'ृ', 61: 'े', 62: 'ै', 63: 'ो', 64: 'ौ', 65: '्', 66: 'ॐ', 67: '।', 68: '\\u200d', 69: '–', 70: '‘', 71: '’', 72: '“', 73: '”'}\n",
            "Unique characters 74\n",
            "Total characters 119162\n"
          ]
        }
      ],
      "source": [
        "char=sorted(list(set(corpus)))\n",
        "\n",
        "encoding={c:i for i,c in enumerate(char)}\n",
        "decoding={i:c for i,c in enumerate(char)}\n",
        "\n",
        "print(encoding)\n",
        "print(decoding)\n",
        "print(\"Unique characters \"+str(len(char)))\n",
        "print(\"Total characters \"+str(len(corpus)))"
      ]
    },
    {
      "cell_type": "code",
      "execution_count": 5,
      "metadata": {
        "id": "RgGYffk_HftK"
      },
      "outputs": [],
      "source": [
        "sentence_length=60\n",
        "step=1\n",
        "sentences=[]\n",
        "nextchar=[]"
      ]
    },
    {
      "cell_type": "code",
      "execution_count": 6,
      "metadata": {
        "colab": {
          "base_uri": "https://localhost:8080/"
        },
        "id": "oo-PXMjaHnc2",
        "outputId": "f6b1bcfc-f812-4ca7-8ce3-9e1e59357210"
      },
      "outputs": [
        {
          "name": "stdout",
          "output_type": "stream",
          "text": [
            "Train set length 119102\n"
          ]
        }
      ],
      "source": [
        "for i in range (0,len(corpus)-sentence_length,step):\n",
        "  sentences.append(corpus[i:i+sentence_length])\n",
        "  nextchar.append(corpus[i+sentence_length])\n",
        "  \n",
        "  \n",
        "print(\"Train set length \"+str(len(nextchar)))"
      ]
    },
    {
      "cell_type": "code",
      "execution_count": 7,
      "metadata": {
        "id": "WrhwWK-VHqx3"
      },
      "outputs": [],
      "source": [
        "x=np.zeros((len(sentences),sentence_length,len(char)),dtype=np.bool)\n",
        "y=np.zeros((len(sentences),len(char)),dtype=np.bool)"
      ]
    },
    {
      "cell_type": "code",
      "execution_count": 8,
      "metadata": {
        "colab": {
          "base_uri": "https://localhost:8080/"
        },
        "id": "rj-Y-4obHumi",
        "outputId": "bfcf9eff-5a4d-4f92-bb9a-846989fec2de"
      },
      "outputs": [
        {
          "name": "stdout",
          "output_type": "stream",
          "text": [
            "Training set(X) shape(119102, 60, 74)\n",
            "Training set(Y) shape(119102, 74)\n"
          ]
        }
      ],
      "source": [
        "for i,sentence in enumerate(sentences):\n",
        "  for t,character in enumerate(sentence):\n",
        "    x[i,t,encoding[character]]=1\n",
        "  y[i,encoding[nextchar[i]]]=1\n",
        "  \n",
        "print(\"Training set(X) shape\"+str(x.shape))\n",
        "print(\"Training set(Y) shape\"+str(y.shape))"
      ]
    },
    {
      "cell_type": "code",
      "execution_count": 11,
      "metadata": {
        "id": "HHO7q_ZyHxcX"
      },
      "outputs": [],
      "source": [
        "keras.backend.clear_session()\n",
        "model=Sequential()\n",
        "model.add(LSTM(256,input_shape=(sentence_length,len(char))))\n",
        "model.add(Dense(len(char)))\n",
        "model.add(Activation('softmax'))\n",
        "model.compile(loss='categorical_crossentropy', optimizer='adam', metrics = ['acc'])"
      ]
    },
    {
      "cell_type": "code",
      "execution_count": 12,
      "metadata": {
        "id": "v_5rmVRwIE6R"
      },
      "outputs": [],
      "source": [
        "file_path=\"weights-{epoch:02d}-{loss:.3f}.hdf5\"\n",
        "checkpoint = ModelCheckpoint(file_path, monitor=\"loss\", verbose=1, save_best_only=True, mode=\"min\")\n",
        "callbacks = [checkpoint]"
      ]
    },
    {
      "cell_type": "code",
      "execution_count": 13,
      "metadata": {
        "colab": {
          "base_uri": "https://localhost:8080/"
        },
        "id": "SSPOE3NgILIE",
        "outputId": "a2392c2c-15e7-468b-d70d-ad2b8c696b39"
      },
      "outputs": [
        {
          "name": "stdout",
          "output_type": "stream",
          "text": [
            "Epoch 1/30\n",
            "744/745 [============================>.] - ETA: 0s - loss: 3.0247 - acc: 0.2255\n",
            "Epoch 00001: loss improved from inf to 3.02450, saving model to weights-01-3.024.hdf5\n",
            "745/745 [==============================] - 8s 11ms/step - loss: 3.0245 - acc: 0.2255 - val_loss: 2.7420 - val_acc: 0.2744\n",
            "Epoch 2/30\n",
            "743/745 [============================>.] - ETA: 0s - loss: 2.5885 - acc: 0.2988\n",
            "Epoch 00002: loss improved from 3.02450 to 2.58848, saving model to weights-02-2.588.hdf5\n",
            "745/745 [==============================] - 8s 10ms/step - loss: 2.5885 - acc: 0.2988 - val_loss: 2.5938 - val_acc: 0.3049\n",
            "Epoch 3/30\n",
            "745/745 [==============================] - ETA: 0s - loss: 2.4561 - acc: 0.3265\n",
            "Epoch 00003: loss improved from 2.58848 to 2.45609, saving model to weights-03-2.456.hdf5\n",
            "745/745 [==============================] - 8s 11ms/step - loss: 2.4561 - acc: 0.3265 - val_loss: 2.5152 - val_acc: 0.3204\n",
            "Epoch 4/30\n",
            "744/745 [============================>.] - ETA: 0s - loss: 2.3571 - acc: 0.3491\n",
            "Epoch 00004: loss improved from 2.45609 to 2.35730, saving model to weights-04-2.357.hdf5\n",
            "745/745 [==============================] - 8s 11ms/step - loss: 2.3573 - acc: 0.3490 - val_loss: 2.4535 - val_acc: 0.3383\n",
            "Epoch 5/30\n",
            "741/745 [============================>.] - ETA: 0s - loss: 2.2734 - acc: 0.3702\n",
            "Epoch 00005: loss improved from 2.35730 to 2.27317, saving model to weights-05-2.273.hdf5\n",
            "745/745 [==============================] - 8s 11ms/step - loss: 2.2732 - acc: 0.3703 - val_loss: 2.4080 - val_acc: 0.3441\n",
            "Epoch 6/30\n",
            "743/745 [============================>.] - ETA: 0s - loss: 2.1984 - acc: 0.3878\n",
            "Epoch 00006: loss improved from 2.27317 to 2.19863, saving model to weights-06-2.199.hdf5\n",
            "745/745 [==============================] - 8s 11ms/step - loss: 2.1986 - acc: 0.3878 - val_loss: 2.3841 - val_acc: 0.3509\n",
            "Epoch 7/30\n",
            "743/745 [============================>.] - ETA: 0s - loss: 2.1292 - acc: 0.4058\n",
            "Epoch 00007: loss improved from 2.19863 to 2.12899, saving model to weights-07-2.129.hdf5\n",
            "745/745 [==============================] - 8s 11ms/step - loss: 2.1290 - acc: 0.4059 - val_loss: 2.3637 - val_acc: 0.3578\n",
            "Epoch 8/30\n",
            "740/745 [============================>.] - ETA: 0s - loss: 2.0600 - acc: 0.4221\n",
            "Epoch 00008: loss improved from 2.12899 to 2.05965, saving model to weights-08-2.060.hdf5\n",
            "745/745 [==============================] - 8s 11ms/step - loss: 2.0597 - acc: 0.4222 - val_loss: 2.3563 - val_acc: 0.3575\n",
            "Epoch 9/30\n",
            "741/745 [============================>.] - ETA: 0s - loss: 1.9892 - acc: 0.4392\n",
            "Epoch 00009: loss improved from 2.05965 to 1.98897, saving model to weights-09-1.989.hdf5\n",
            "745/745 [==============================] - 8s 11ms/step - loss: 1.9890 - acc: 0.4392 - val_loss: 2.3566 - val_acc: 0.3598\n",
            "Epoch 10/30\n",
            "740/745 [============================>.] - ETA: 0s - loss: 1.9158 - acc: 0.4591\n",
            "Epoch 00010: loss improved from 1.98897 to 1.91584, saving model to weights-10-1.916.hdf5\n",
            "745/745 [==============================] - 8s 11ms/step - loss: 1.9158 - acc: 0.4590 - val_loss: 2.3647 - val_acc: 0.3610\n",
            "Epoch 11/30\n",
            "745/745 [==============================] - ETA: 0s - loss: 1.8404 - acc: 0.4793\n",
            "Epoch 00011: loss improved from 1.91584 to 1.84041, saving model to weights-11-1.840.hdf5\n",
            "745/745 [==============================] - 8s 11ms/step - loss: 1.8404 - acc: 0.4793 - val_loss: 2.3877 - val_acc: 0.3580\n",
            "Epoch 12/30\n",
            "740/745 [============================>.] - ETA: 0s - loss: 1.7620 - acc: 0.4991\n",
            "Epoch 00012: loss improved from 1.84041 to 1.76184, saving model to weights-12-1.762.hdf5\n",
            "745/745 [==============================] - 8s 11ms/step - loss: 1.7618 - acc: 0.4991 - val_loss: 2.4152 - val_acc: 0.3551\n",
            "Epoch 13/30\n",
            "743/745 [============================>.] - ETA: 0s - loss: 1.6845 - acc: 0.5195\n",
            "Epoch 00013: loss improved from 1.76184 to 1.68444, saving model to weights-13-1.684.hdf5\n",
            "745/745 [==============================] - 8s 11ms/step - loss: 1.6844 - acc: 0.5195 - val_loss: 2.4404 - val_acc: 0.3585\n",
            "Epoch 14/30\n",
            "745/745 [==============================] - ETA: 0s - loss: 1.6086 - acc: 0.5415\n",
            "Epoch 00014: loss improved from 1.68444 to 1.60860, saving model to weights-14-1.609.hdf5\n",
            "745/745 [==============================] - 8s 11ms/step - loss: 1.6086 - acc: 0.5415 - val_loss: 2.4848 - val_acc: 0.3553\n",
            "Epoch 15/30\n",
            "743/745 [============================>.] - ETA: 0s - loss: 1.5333 - acc: 0.5604\n",
            "Epoch 00015: loss improved from 1.60860 to 1.53315, saving model to weights-15-1.533.hdf5\n",
            "745/745 [==============================] - 8s 11ms/step - loss: 1.5332 - acc: 0.5605 - val_loss: 2.5279 - val_acc: 0.3482\n",
            "Epoch 16/30\n",
            "740/745 [============================>.] - ETA: 0s - loss: 1.4558 - acc: 0.5822\n",
            "Epoch 00016: loss improved from 1.53315 to 1.45670, saving model to weights-16-1.457.hdf5\n",
            "745/745 [==============================] - 8s 11ms/step - loss: 1.4567 - acc: 0.5821 - val_loss: 2.5758 - val_acc: 0.3482\n",
            "Epoch 17/30\n",
            "741/745 [============================>.] - ETA: 0s - loss: 1.3858 - acc: 0.6021\n",
            "Epoch 00017: loss improved from 1.45670 to 1.38610, saving model to weights-17-1.386.hdf5\n",
            "745/745 [==============================] - 8s 11ms/step - loss: 1.3861 - acc: 0.6020 - val_loss: 2.6380 - val_acc: 0.3423\n",
            "Epoch 18/30\n",
            "741/745 [============================>.] - ETA: 0s - loss: 1.3221 - acc: 0.6210\n",
            "Epoch 00018: loss improved from 1.38610 to 1.32177, saving model to weights-18-1.322.hdf5\n",
            "745/745 [==============================] - 8s 11ms/step - loss: 1.3218 - acc: 0.6211 - val_loss: 2.6812 - val_acc: 0.3404\n",
            "Epoch 19/30\n",
            "744/745 [============================>.] - ETA: 0s - loss: 1.2588 - acc: 0.6394\n",
            "Epoch 00019: loss improved from 1.32177 to 1.25868, saving model to weights-19-1.259.hdf5\n",
            "745/745 [==============================] - 8s 11ms/step - loss: 1.2587 - acc: 0.6394 - val_loss: 2.7441 - val_acc: 0.3367\n",
            "Epoch 20/30\n",
            "740/745 [============================>.] - ETA: 0s - loss: 1.1978 - acc: 0.6557\n",
            "Epoch 00020: loss improved from 1.25868 to 1.19853, saving model to weights-20-1.199.hdf5\n",
            "745/745 [==============================] - 8s 11ms/step - loss: 1.1985 - acc: 0.6555 - val_loss: 2.8144 - val_acc: 0.3352\n",
            "Epoch 21/30\n",
            "744/745 [============================>.] - ETA: 0s - loss: 1.1453 - acc: 0.6719\n",
            "Epoch 00021: loss improved from 1.19853 to 1.14534, saving model to weights-21-1.145.hdf5\n",
            "745/745 [==============================] - 8s 11ms/step - loss: 1.1453 - acc: 0.6719 - val_loss: 2.8608 - val_acc: 0.3324\n",
            "Epoch 22/30\n",
            "741/745 [============================>.] - ETA: 0s - loss: 1.0940 - acc: 0.6873\n",
            "Epoch 00022: loss improved from 1.14534 to 1.09429, saving model to weights-22-1.094.hdf5\n",
            "745/745 [==============================] - 8s 11ms/step - loss: 1.0943 - acc: 0.6872 - val_loss: 2.9108 - val_acc: 0.3350\n",
            "Epoch 23/30\n",
            "740/745 [============================>.] - ETA: 0s - loss: 1.0467 - acc: 0.6986\n",
            "Epoch 00023: loss improved from 1.09429 to 1.04745, saving model to weights-23-1.047.hdf5\n",
            "745/745 [==============================] - 8s 11ms/step - loss: 1.0474 - acc: 0.6983 - val_loss: 2.9712 - val_acc: 0.3287\n",
            "Epoch 24/30\n",
            "741/745 [============================>.] - ETA: 0s - loss: 1.0012 - acc: 0.7128\n",
            "Epoch 00024: loss improved from 1.04745 to 1.00114, saving model to weights-24-1.001.hdf5\n",
            "745/745 [==============================] - 8s 11ms/step - loss: 1.0011 - acc: 0.7129 - val_loss: 3.0288 - val_acc: 0.3310\n",
            "Epoch 25/30\n",
            "743/745 [============================>.] - ETA: 0s - loss: 0.9588 - acc: 0.7248\n",
            "Epoch 00025: loss improved from 1.00114 to 0.95892, saving model to weights-25-0.959.hdf5\n",
            "745/745 [==============================] - 8s 11ms/step - loss: 0.9589 - acc: 0.7248 - val_loss: 3.1112 - val_acc: 0.3269\n",
            "Epoch 26/30\n",
            "743/745 [============================>.] - ETA: 0s - loss: 0.9211 - acc: 0.7356\n",
            "Epoch 00026: loss improved from 0.95892 to 0.92124, saving model to weights-26-0.921.hdf5\n",
            "745/745 [==============================] - 8s 11ms/step - loss: 0.9212 - acc: 0.7355 - val_loss: 3.1511 - val_acc: 0.3283\n",
            "Epoch 27/30\n",
            "741/745 [============================>.] - ETA: 0s - loss: 0.8829 - acc: 0.7457\n",
            "Epoch 00027: loss improved from 0.92124 to 0.88335, saving model to weights-27-0.883.hdf5\n",
            "745/745 [==============================] - 8s 11ms/step - loss: 0.8834 - acc: 0.7457 - val_loss: 3.2278 - val_acc: 0.3233\n",
            "Epoch 28/30\n",
            "745/745 [==============================] - ETA: 0s - loss: 0.8532 - acc: 0.7547\n",
            "Epoch 00028: loss improved from 0.88335 to 0.85318, saving model to weights-28-0.853.hdf5\n",
            "745/745 [==============================] - 8s 11ms/step - loss: 0.8532 - acc: 0.7547 - val_loss: 3.2625 - val_acc: 0.3235\n",
            "Epoch 29/30\n",
            "742/745 [============================>.] - ETA: 0s - loss: 0.8213 - acc: 0.7640\n",
            "Epoch 00029: loss improved from 0.85318 to 0.82185, saving model to weights-29-0.822.hdf5\n",
            "745/745 [==============================] - 8s 11ms/step - loss: 0.8218 - acc: 0.7638 - val_loss: 3.3310 - val_acc: 0.3209\n",
            "Epoch 30/30\n",
            "741/745 [============================>.] - ETA: 0s - loss: 0.7911 - acc: 0.7737\n",
            "Epoch 00030: loss improved from 0.82185 to 0.79137, saving model to weights-30-0.791.hdf5\n",
            "745/745 [==============================] - 8s 11ms/step - loss: 0.7914 - acc: 0.7736 - val_loss: 3.3988 - val_acc: 0.3240\n"
          ]
        }
      ],
      "source": [
        "history = model.fit(x,y,epochs=30,batch_size=128, validation_split = 0.2, callbacks=callbacks)\n"
      ]
    },
    {
      "cell_type": "code",
      "execution_count": 16,
      "metadata": {
        "colab": {
          "base_uri": "https://localhost:8080/",
          "height": 295
        },
        "id": "v_2aYA8SISqL",
        "outputId": "0762fb13-cfb4-4276-edd7-82bb69f9c2e7"
      },
      "outputs": [
        {
          "data": {
            "image/png": "[encoded data removed]",
            "text/plain": [
              "<Figure size 432x288 with 1 Axes>"
            ]
          },
          "metadata": {
            "needs_background": "light",
            "tags": []
          },
          "output_type": "display_data"
        }
      ],
      "source": [
        "loss_train = history.history['loss']\n",
        "loss_val = history.history['val_loss']\n",
        "epochs = range(1,len(history.history['acc'])+1)\n",
        "plt.plot(epochs, loss_train, 'g', label='Training loss')\n",
        "plt.plot(epochs, loss_val, 'b', label='validation loss')\n",
        "plt.title('Training and Validation loss')\n",
        "plt.xlabel('Epochs')\n",
        "plt.ylabel('Loss')\n",
        "plt.legend()\n",
        "plt.show()"
      ]
    },
    {
      "cell_type": "code",
      "execution_count": 25,
      "metadata": {
        "id": "CZc0zXFVJxAe"
      },
      "outputs": [],
      "source": [
        "non_starting_char=['\\n', ' ', '!', ',', '.', ':', ';', '?', 'ँ', 'ं', 'ः','ा', 'ि', 'ी', 'ु', 'ू', 'ृ', 'े', 'ै', 'ो', 'ौ', '्', '।', '\\u200d', '–', '‘', '’', '“', '”']\n",
        "sentence_length=60\n",
        "seed_starting_index = np.random.randint(0, len(corpus) - sentence_length)\n",
        "chars = sorted(list(set(corpus)))\n"
      ]
    },
    {
      "cell_type": "code",
      "execution_count": 26,
      "metadata": {
        "colab": {
          "base_uri": "https://localhost:8080/"
        },
        "id": "QwEL1dHGJx63",
        "outputId": "8873385f-7a9d-4504-aa80-67f8f4941fa1"
      },
      "outputs": [
        {
          "data": {
            "text/plain": [
              "35401"
            ]
          },
          "execution_count": 26,
          "metadata": {
            "tags": []
          },
          "output_type": "execute_result"
        }
      ],
      "source": [
        "seed_starting_index"
      ]
    },
    {
      "cell_type": "code",
      "execution_count": 27,
      "metadata": {
        "id": "_ph1TkfLKOI3"
      },
      "outputs": [],
      "source": [
        "while corpus[seed_starting_index] in non_starting_char:\n",
        "\tseed_starting_index+=10"
      ]
    },
    {
      "cell_type": "code",
      "execution_count": 28,
      "metadata": {
        "id": "n399yuSWKTcZ"
      },
      "outputs": [],
      "source": [
        "seed_sentence = corpus[seed_starting_index:seed_starting_index + sentence_length]"
      ]
    },
    {
      "cell_type": "code",
      "execution_count": 29,
      "metadata": {
        "colab": {
          "base_uri": "https://localhost:8080/",
          "height": 35
        },
        "id": "ThziK4tLKZb2",
        "outputId": "0ac6a9d9-65ff-42f5-b41e-99fbc01477e2"
      },
      "outputs": [
        {
          "data": {
            "application/vnd.google.colaboratory.intrinsic+json": {
              "type": "string"
            },
            "text/plain": [
              "'यो सम्झी लेऊ न !\\nचार नै दिनको यो पापी चोला, यो मैलो गुमानी,\\n'"
            ]
          },
          "execution_count": 29,
          "metadata": {
            "tags": []
          },
          "output_type": "execute_result"
        }
      ],
      "source": [
        "seed_sentence"
      ]
    },
    {
      "cell_type": "code",
      "execution_count": 31,
      "metadata": {
        "colab": {
          "base_uri": "https://localhost:8080/"
        },
        "id": "ZQvFepDcKaNk",
        "outputId": "3ecb2339-c325-437e-ce63-9158e02229b2"
      },
      "outputs": [
        {
          "data": {
            "text/plain": [
              "(1, 60, 74)"
            ]
          },
          "execution_count": 31,
          "metadata": {
            "tags": []
          },
          "output_type": "execute_result"
        }
      ],
      "source": [
        "X_predict = np.zeros((1, sentence_length, len(chars)), dtype=np.bool)\n",
        "X_predict.shape"
      ]
    },
    {
      "cell_type": "code",
      "execution_count": 32,
      "metadata": {
        "id": "9wyIfUqyKec7"
      },
      "outputs": [],
      "source": [
        "for i, char in enumerate(seed_sentence):\n",
        "    X_predict[0, i, encoding[char]] = 1"
      ]
    },
    {
      "cell_type": "code",
      "execution_count": 38,
      "metadata": {
        "id": "UXh25152K4Dr"
      },
      "outputs": [],
      "source": [
        "generated = \"\"\n",
        "for i in range(170):\n",
        "    prediction = np.argmax(model.predict(X_predict))\n",
        "    generated += decoding[prediction]\n",
        "    activations = np.zeros((1, 1, len(chars)), dtype=np.bool)\n",
        "    activations[0, 0, prediction] = 1\n",
        "    X_predict = np.concatenate((X_predict[:, 1:, :], activations), axis=1)"
      ]
    },
    {
      "cell_type": "code",
      "execution_count": 40,
      "metadata": {
        "colab": {
          "base_uri": "https://localhost:8080/",
          "height": 35
        },
        "id": "y5jduqV1LIPh",
        "outputId": "a672ecd6-7d3b-47c9-cee5-d3a6b47ade5d"
      },
      "outputs": [
        {
          "data": {
            "application/vnd.google.colaboratory.intrinsic+json": {
              "type": "string"
            },
            "text/plain": [
              "'पखेली रे ! कमरबर्स यो संसार छ !\\nमानवता किन हो भिजेका तीर !\\nमास्काको मुणा हो !\\nस्वप्नकी तालुनली !\\nजादूका तर समै अन्ठुलो बोलिन्छ, जोति भित्र\\nकल्पनाको लाना हामीलाई जलका जगत्'"
            ]
          },
          "execution_count": 40,
          "metadata": {
            "tags": []
          },
          "output_type": "execute_result"
        }
      ],
      "source": [
        "generated"
      ]
    }
  ],
  "metadata": {
    "accelerator": "GPU",
    "colab": {
      "authorship_tag": "ABX9TyNVLHPGO7etauQpjF9tJfHJ",
      "include_colab_link": true,
      "name": "Data Analysis.ipynb",
      "provenance": []
    },
    "kernelspec": {
      "display_name": "Python 3",
      "name": "python3"
    }
  },
  "nbformat": 4,
  "nbformat_minor": 0
}
